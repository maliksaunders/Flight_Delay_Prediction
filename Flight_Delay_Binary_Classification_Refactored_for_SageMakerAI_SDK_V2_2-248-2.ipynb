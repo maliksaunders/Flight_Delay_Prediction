{
 "cells": [
  {
   "cell_type": "markdown",
   "metadata": {
    "jp-MarkdownHeadingCollapsed": true
   },
   "source": [
    "# Problem: Predicting Airplane Delays\n",
    "\n",
    "The goals of this notebook are:\n",
    "- Process and create a dataset from downloaded .zip files\n",
    "- Perform exploratory data analysis (EDA)\n",
    "- Establish a baseline model\n",
    "- Move from a simple model to an ensemble model\n",
    "- Perform hyperparameter optimization\n",
    "- Check feature importance\n",
    "\n",
    "\n",
    "## Introduction to business scenario\n",
    "\n",
    "You work for a travel booking website that wants to improve the customer experience for flights that were delayed. The company wants to create a feature to let customers know if the flight will be delayed because of weather when they book a flight to or from the busiest airports for domestic travel in the US. \n",
    "\n",
    "You are tasked with solving part of this problem by using machine learning (ML) to identify whether the flight will be delayed because of weather. You have been given access to the a dataset about the on-time performance of domestic flights that were operated by large air carriers. You can use this data to train an ML model to predict if the flight is going to be delayed for the busiest airports.\n",
    "\n",
    "\n",
    "## About this dataset\n",
    "\n",
    "This dataset contains scheduled and actual departure and arrival times reported by certified US air carriers that account for at least 1 percent of domestic scheduled passenger revenues. The data was collected by the U.S. Office of Airline Information, Bureau of Transportation Statistics (BTS). The dataset contains date, time, origin, destination, airline, distance, and delay status of flights for flights between 2013 and 2018.\n",
    "\n",
    "\n",
    "### Features\n",
    "\n",
    "For more information about features in the dataset, see [On-time delay dataset features](https://www.transtats.bts.gov/Fields.asp).\n",
    "\n",
    "### Dataset attributions  \n",
    "Website: https://www.transtats.bts.gov/\n",
    "\n",
    "Dataset(s) used in this lab were compiled by the U.S. Office of Airline Information, Bureau of Transportation Statistics (BTS), Airline On-Time Performance Data, available at https://www.transtats.bts.gov/DatabaseInfo.asp?DB_ID=120&DB_URL=Mode_ID=1&Mode_Desc=Aviation&Subject_ID2=0."
   ]
  },
  {
   "cell_type": "markdown",
   "metadata": {},
   "source": [
    "# Step 1: Problem formulation and data collection\n",
    "\n",
    "## Business problem, type of ML, and success metrics:\n",
    "\n",
    "- Business Problem: How can we predict the delay status of an airplane delayed based on the state of the weather, the airline, the airplane origin, and the airplane destination?\n",
    "- ML type: Binary Classification\n",
    "- Success Metrics: F1-Score or Accuracy if target variable (plane delayed or not delayed) has an even class distribution, F1-Score otherwise.\n",
    "\n",
    "## Analyze the appropriateness of the data \n",
    "\n",
    "The dataset contains date, time, origin, destination, airline, distance, and delay status of flights for flights between 2013 and 2018. Given the millions of domestic flights that occur each year in the US, this dataset which spans from 2013 to 2018 offers a very large number of data values for training, testing, and validating a Machine Learning model. More specifically, since this data contains the delay status for every single airline flight going from origin to destination every day from 2013 until 2018, this is a perfect dataset for a Binary Classification model (Supervised Learning) that predicts delay status based on date, time (time of day), origin, destination, and airline.\n",
    "\n",
    "**Note:** This notebook was created and tested on an `ml.m4.xlarge` notebook instance with 25 GB storage using Amazon SageMaker AI (SDK Version - 2.248.2)"
   ]
  },
  {
   "cell_type": "markdown",
   "metadata": {},
   "source": [
    "# Step 2: Data preprocessing and visualization  \n",
    "In this data preprocessing phase, explore and visualize data to better understand it. First, import the necessary libraries and read the data into a pandas DataFrame. After importing the data, execute Exploratory Dat Analysis (EDA) on the dataset:  \n",
    "- shape of the dataset\n",
    "- cleanliness/completeness of columns\n",
    "- datatype of columns (numerical, categorical)\n",
    "- descriptive basic statistics on features (e.g., feature means and ranges)\n",
    "- examine target column closely - e.g., determine its distribution."
   ]
  },
  {
   "cell_type": "markdown",
   "metadata": {},
   "source": [
    "## IMPORTS"
   ]
  },
  {
   "cell_type": "markdown",
   "metadata": {},
   "source": [
    "## **{RE-RUN For Picking Up From a Bookmark} Library/Module IMPORT Cell**"
   ]
  },
  {
   "cell_type": "code",
   "execution_count": 1,
   "metadata": {},
   "outputs": [
    {
     "name": "stderr",
     "output_type": "stream",
     "text": [
      "/home/ec2-user/anaconda3/envs/python3/lib/python3.10/site-packages/pandas/core/computation/expressions.py:21: UserWarning: Pandas requires version '2.8.4' or newer of 'numexpr' (version '2.7.3' currently installed).\n",
      "  from pandas.core.computation.check import NUMEXPR_INSTALLED\n",
      "Matplotlib is building the font cache; this may take a moment.\n"
     ]
    }
   ],
   "source": [
    "import os\n",
    "from pathlib2 import Path\n",
    "from zipfile import ZipFile\n",
    "import time\n",
    "\n",
    "import pandas as pd\n",
    "import numpy as np\n",
    "import subprocess\n",
    "\n",
    "import matplotlib.pyplot as plt\n",
    "import seaborn as sns\n",
    "\n",
    "sns.set()\n",
    "instance_type='ml.m4.xlarge'\n",
    "\n",
    "import warnings\n",
    "warnings.filterwarnings('ignore')\n",
    "\n",
    "%matplotlib inline\n",
    "\n",
    "from IPython.display import IFrame\n",
    "\n",
    "from tqdm import tqdm\n",
    "tqdm.pandas()"
   ]
  },
  {
   "cell_type": "markdown",
   "metadata": {},
   "source": [
    "## Pull datasets in from a public AWS S3 bucket\n",
    "\n",
    "Start by bringing in the dataset from a public Amazon Simple Storage Service (Amazon S3) bucket to this notebook environment."
   ]
  },
  {
   "cell_type": "code",
   "execution_count": null,
   "metadata": {},
   "outputs": [],
   "source": [
    "!pwd"
   ]
  },
  {
   "cell_type": "code",
   "execution_count": null,
   "metadata": {},
   "outputs": [],
   "source": [
    "!ls '/home/ec2-user/SageMaker/'"
   ]
  },
  {
   "cell_type": "markdown",
   "metadata": {},
   "source": [
    "## **{RE-RUN For Picking Up From a Bookmark} Filepath Creation Cell**"
   ]
  },
  {
   "cell_type": "code",
   "execution_count": 2,
   "metadata": {},
   "outputs": [],
   "source": [
    "# download the files\n",
    "\n",
    "zip_path = '/home/ec2-user/SageMaker/project/data/FlightDelays/'\n",
    "base_path = '/home/ec2-user/SageMaker/project/data/FlightDelays/'\n",
    "csv_base_path = '/home/ec2-user/SageMaker/project/data/csvFlightDelays/'\n",
    "\n",
    "!mkdir -p {zip_path}\n",
    "!mkdir -p {csv_base_path}"
   ]
  },
  {
   "cell_type": "code",
   "execution_count": null,
   "metadata": {
    "scrolled": true,
    "tags": []
   },
   "outputs": [],
   "source": [
    "!aws s3 cp s3://aws-tc-largeobjects/CUR-TF-200-ACMLFO-1/flight_delay_project/data/ {zip_path} --recursive"
   ]
  },
  {
   "cell_type": "code",
   "execution_count": null,
   "metadata": {},
   "outputs": [],
   "source": [
    "!ls '/home/ec2-user'"
   ]
  },
  {
   "cell_type": "code",
   "execution_count": null,
   "metadata": {},
   "outputs": [],
   "source": [
    "!ls '/home/ec2-user/SageMaker/'"
   ]
  },
  {
   "cell_type": "code",
   "execution_count": null,
   "metadata": {},
   "outputs": [],
   "source": [
    "!ls '/home/ec2-user/SageMaker/project/'"
   ]
  },
  {
   "cell_type": "code",
   "execution_count": null,
   "metadata": {},
   "outputs": [],
   "source": [
    "!ls '/home/ec2-user/SageMaker/project/data/'"
   ]
  },
  {
   "cell_type": "code",
   "execution_count": null,
   "metadata": {
    "scrolled": true
   },
   "outputs": [],
   "source": [
    "!ls {zip_path}"
   ]
  },
  {
   "cell_type": "code",
   "execution_count": null,
   "metadata": {},
   "outputs": [],
   "source": [
    "!ls -l {zip_path}"
   ]
  },
  {
   "cell_type": "code",
   "execution_count": null,
   "metadata": {
    "scrolled": true,
    "tags": []
   },
   "outputs": [],
   "source": [
    "zip_files = [str(file) for file in list(Path(base_path).iterdir()) if '.zip' in str(file)]\n",
    "len(zip_files)\n",
    "\n",
    "print(type(zip_files))\n",
    "for file_path_string in zip_files:\n",
    "    print(file_path_string)"
   ]
  },
  {
   "cell_type": "markdown",
   "metadata": {},
   "source": [
    "Extract comma-separated values (CSV) files from the .zip files."
   ]
  },
  {
   "cell_type": "code",
   "execution_count": null,
   "metadata": {
    "scrolled": true,
    "tags": []
   },
   "outputs": [],
   "source": [
    "%%time\n",
    "\n",
    "def zip2csv(zipFile_name , file_path):\n",
    "    \"\"\"\n",
    "    Extract csv from zip files\n",
    "    zipFile_name: name of the zip file\n",
    "    file_path : name of the folder to store csv\n",
    "    \"\"\"\n",
    "\n",
    "    try:\n",
    "        with ZipFile(zipFile_name, 'r') as z: \n",
    "            print(f'Extracting {zipFile_name} ') \n",
    "            z.extractall(path=file_path) \n",
    "    except:\n",
    "        print(f'zip2csv failed for {zipFile_name}')\n",
    "\n",
    "for file in zip_files:\n",
    "    zip2csv(file, csv_base_path)\n",
    "\n",
    "print(\"Files Extracted\")"
   ]
  },
  {
   "cell_type": "code",
   "execution_count": null,
   "metadata": {},
   "outputs": [],
   "source": [
    "csv_files = [str(file) for file in list(Path(csv_base_path).iterdir()) if '.csv' in str(file)]\n",
    "len(csv_files)"
   ]
  },
  {
   "cell_type": "code",
   "execution_count": null,
   "metadata": {},
   "outputs": [],
   "source": [
    "# all_files = [str(file) for file in list(Path(csv_base_path).iterdir())]\n",
    "# len(all_files)"
   ]
  },
  {
   "cell_type": "code",
   "execution_count": null,
   "metadata": {
    "scrolled": true,
    "tags": []
   },
   "outputs": [],
   "source": [
    "for file_path_string in csv_files:\n",
    "    print(file_path_string)"
   ]
  },
  {
   "cell_type": "markdown",
   "metadata": {},
   "source": [
    "Before you load the CSV file, read the HTML file from the extracted folder. This HTML file includes the background and more information about the features that are included in the dataset."
   ]
  },
  {
   "cell_type": "code",
   "execution_count": null,
   "metadata": {},
   "outputs": [],
   "source": [
    "print(csv_base_path)"
   ]
  },
  {
   "cell_type": "code",
   "execution_count": null,
   "metadata": {
    "scrolled": true
   },
   "outputs": [],
   "source": [
    "!ls {csv_base_path}"
   ]
  },
  {
   "cell_type": "markdown",
   "metadata": {},
   "source": [
    "## Data Dictionary and Background Information"
   ]
  },
  {
   "cell_type": "code",
   "execution_count": null,
   "metadata": {},
   "outputs": [],
   "source": [
    "## Read the readme.html inside of the Jupyter Notebook\n",
    "\n",
    "from IPython.display import IFrame\n",
    "\n",
    "IFrame(src=os.path.relpath(f\"{csv_base_path}readme.html\"), width=1000, height=600)"
   ]
  },
  {
   "cell_type": "markdown",
   "metadata": {},
   "source": [
    "#### Load sample CSV file\n",
    "\n",
    "Before you combine all the CSV files, examine the data from a single CSV file. By using pandas, read the `On_Time_Reporting_Carrier_On_Time_Performance_(1987_present)_2018_9.csv` file first. You can use the built-in `read_csv` function in Python ([pandas.read_csv documentation](https://pandas.pydata.org/pandas-docs/stable/reference/api/pandas.read_csv.html))."
   ]
  },
  {
   "cell_type": "code",
   "execution_count": null,
   "metadata": {},
   "outputs": [],
   "source": [
    "df_temp = pd.read_csv(f\"{csv_base_path}On_Time_Reporting_Carrier_On_Time_Performance_(1987_present)_2018_9.csv\")\n",
    "\n",
    "## Alternative way to examine single CSV file example\n",
    "# csv_example = '/home/ec2-user/SageMaker/project/data/csvFlightDelays/On_Time_Reporting_Carrier_On_Time_Performance_(1987_present)_2018_9.csv'\n",
    "# df_temp = pd.read_csv(csv_example)"
   ]
  },
  {
   "cell_type": "code",
   "execution_count": null,
   "metadata": {
    "tags": []
   },
   "outputs": [],
   "source": [
    "df_shape = df_temp.shape\n",
    "print(f'Rows and columns in one CSV file is {df_shape}')"
   ]
  },
  {
   "cell_type": "code",
   "execution_count": null,
   "metadata": {},
   "outputs": [],
   "source": [
    "# \n",
    "df_temp.head(5)"
   ]
  },
  {
   "cell_type": "markdown",
   "metadata": {},
   "source": [
    "**Question**: Print all the columns in the dataset. To view the column names, use `<DataFrame>.columns`."
   ]
  },
  {
   "cell_type": "code",
   "execution_count": null,
   "metadata": {
    "scrolled": true,
    "tags": []
   },
   "outputs": [],
   "source": [
    "print(f'The column names are :')\n",
    "print('#########')\n",
    "for col in df_temp.columns:  \n",
    "    print(col)"
   ]
  },
  {
   "cell_type": "markdown",
   "metadata": {},
   "source": [
    "Print all the columns in the dataset that contain the word *Del*."
   ]
  },
  {
   "cell_type": "code",
   "execution_count": null,
   "metadata": {},
   "outputs": [],
   "source": [
    "[x for x in df_temp.columns if 'Del' in x]  ## "
   ]
  },
  {
   "cell_type": "markdown",
   "metadata": {},
   "source": [
    "##### EDA of dataset\n",
    "\n",
    "Explore the following:\n",
    "1. Number of rows and columns in the dataset   \n",
    "2. The Number of years included in the dataset\n",
    "3. The date range for this dataset   \n",
    "4. The airlines that are included   \n",
    "5. The origin and destination airports covered"
   ]
  },
  {
   "cell_type": "code",
   "execution_count": null,
   "metadata": {
    "tags": []
   },
   "outputs": [],
   "source": [
    "print(\"The #rows and #columns are \", df_temp.shape[0] , \" and \", df_temp.shape[1])\n",
    "# print(\"The #rows and #columns are \", df_shape[0] , \" and \", df_shape[1])\n",
    "print(\"The years in this dataset are: \", list(df_temp['Year'].unique()))\n",
    "print(\"The months covered in this dataset are: \", list(df_temp['Month'].unique()))\n",
    "print(\"The date range for data is :\" , min(df_temp['FlightDate']), \" to \", max(df_temp['FlightDate']))\n",
    "\n",
    "# print(\"The airlines covered in this dataset are: \", list(df_temp['Reporting_Airline'].unique()))\n",
    "list_of_unique_airlines_09_18 = list(df_temp['Reporting_Airline'].unique())\n",
    "print(\"The airlines covered in this dataset are: \", list_of_unique_airlines_09_18)\n",
    "##Count the Number of Airlines in this dataset (i.e., Sept. 2018)\n",
    "print(\"The number of unique airlines in dataset (09_18): \", len(list_of_unique_airlines_09_18))\n",
    "\n",
    "\n",
    "# print(\"The Origin airports covered are: \", list(df_temp['Origin'].unique()))\n",
    "list_of_origin_airports_09_18 = list(df_temp['Origin'].unique())\n",
    "print(\"The Origin airports covered are: \", list_of_origin_airports_09_18)\n",
    "\n",
    "# print(len(list(df_temp['Origin'].unique())))\n",
    "# print(len(list(df_temp['Dest'].unique())))\n",
    "\n",
    "# print(\"The Destination airports covered are: \", list(df_temp['Dest'].unique()))\n",
    "list_of_dest_airports_09_18 = list(df_temp['Dest'].unique())\n",
    "print(\"The Destination airports covered are: \", list_of_dest_airports_09_18)\n",
    "print(\"The Desitination airports covered are: \", len(list_of_dest_airports_09_18))"
   ]
  },
  {
   "cell_type": "markdown",
   "metadata": {},
   "source": [
    "Count of all the origin and destination airports"
   ]
  },
  {
   "cell_type": "code",
   "execution_count": null,
   "metadata": {},
   "outputs": [],
   "source": [
    "origin_series = df_temp['Origin']\n",
    "dest_series = df_temp['Dest']\n",
    "\n",
    "counts_dict = {'Origin_count': origin_series.value_counts(),\n",
    "               'Dest_count': dest_series.value_counts()}\n",
    "#print(counts_dict)\n",
    "# print(counts_dict['Origin'])\n",
    "# print(counts_dict['Dest'])\n",
    "\n",
    "counts_df = pd.DataFrame(counts_dict)\n",
    "display(counts_df)\n",
    "print(counts_df['Origin_count'].loc['ABQ'])\n",
    "print(counts_df['Origin_count'].loc[['ABQ', 'ABR']])"
   ]
  },
  {
   "cell_type": "markdown",
   "metadata": {},
   "source": [
    "The top 15 origin and destination airports based on number of flights in the dataset."
   ]
  },
  {
   "cell_type": "code",
   "execution_count": null,
   "metadata": {},
   "outputs": [],
   "source": [
    "counts_df.sort_values(by='Origin_count',ascending=False).head(15) # "
   ]
  },
  {
   "cell_type": "code",
   "execution_count": null,
   "metadata": {},
   "outputs": [],
   "source": [
    "# counts.sort_values(by='Dest', ascending=False).head(3) # \n",
    "\n",
    "counts_df.sort_values(by='Dest_count', ascending=False).head(15) # "
   ]
  },
  {
   "cell_type": "markdown",
   "metadata": {},
   "source": [
    "#####  Notes on NASDelay\n",
    "\n",
    "_NAS Delay. Delay that is within the control of the National Airspace System (NAS) may include: non-extreme weather conditions, airport operations, heavy traffic volume, air traffic control, etc. Delays that occur after Actual Gate Out are usually attributed to the NAS and are also reported through OPSNET._\n",
    "\n",
    "##### Notes on CRSDepTime\n",
    "_Computer Reservation System (CRS) Departure Time._"
   ]
  },
  {
   "cell_type": "markdown",
   "metadata": {},
   "source": [
    "**Given all the information about a flight trip, can you predict if it would be delayed?**"
   ]
  },
  {
   "cell_type": "markdown",
   "metadata": {},
   "source": [
    "The **ArrDel15** column is an indicator variable that takes the value *1* when the delay is more than 15 minutes. Otherwise, it takes a value of *0*.\n",
    "\n",
    "You could use this as a target column for the classification problem."
   ]
  },
  {
   "cell_type": "markdown",
   "metadata": {},
   "source": [
    "Now, assume that you are traveling from San Francisco to Los Angeles on a work trip. You want to better manage your reservations in Los Angeles. Thus, want to have an idea of whether your flight will be delayed, given a set of features. How many features from this dataset would you need to know before your flight?\n",
    "\n",
    "Columns such as `DepDelay`, `ArrDelay`, `CarrierDelay`, `WeatherDelay`, `NASDelay`, `SecurityDelay`, `LateAircraftDelay`, and `DivArrDelay` contain information about a delay. But this delay could have occured at the origin or the destination. If there were a sudden weather delay 10 minutes before landing, this data wouldn't be helpful to managing your Los Angeles reservations.\n",
    "\n",
    "So to simplify the problem statement, consider the following columns to predict an arrival delay:<br>\n",
    "\n",
    "`Year`, `Quarter`, `Month`, `DayofMonth`, `DayOfWeek`, `FlightDate`, `Reporting_Airline`, `Origin`, `OriginState`, `Dest`, `DestState`, `CRSDepTime`, `DepDelayMinutes`, `DepartureDelayGroups`, `Cancelled`, `Diverted`, `Distance`, `DistanceGroup`, `ArrDelay`, `ArrDelayMinutes`, `ArrDel15`, `AirTime`\n",
    "\n",
    "You will also filter the source and destination airports to be:\n",
    "- Top airports: ATL, ORD, DFW, DEN, CLT, LAX, IAH, PHX, SFO\n",
    "- Top five airlines: UA, OO, WN, AA, DL\n",
    "\n",
    "This information should help reduce the size of data across the CSV files that will be combined."
   ]
  },
  {
   "cell_type": "markdown",
   "metadata": {},
   "source": [
    "#### Combine all CSV files\n",
    " \n",
    "First, create an empy DataFrame that you will use to copy your individual DataFrames from each file. Then, for each file in the `csv_files` list:\n",
    "\n",
    "1. Read the CSV file into a dataframe \n",
    "2. Filter the columns based on the `filter_cols` variable\n",
    "\n",
    "```\n",
    "        columns = ['col1', 'col2']\n",
    "        df_filter = df[columns]\n",
    "```\n",
    "\n",
    "3. Keep only the `subset_vals` in each of the `subset_cols`. To check if the `val` is in the DataFrame column, use the `isin` function in pandas ([pandas.DataFram.isin documentation](https://pandas.pydata.org/pandas-docs/stable/reference/api/pandas.DataFrame.isin.html)). Then, choose the rows that include it.\n",
    "\n",
    "```\n",
    "        df_eg[df_eg['col1'].isin('5')]\n",
    "```\n",
    "\n",
    "4. Concatenate the DataFrame with the empty DataFrame "
   ]
  },
  {
   "cell_type": "code",
   "execution_count": null,
   "metadata": {},
   "outputs": [],
   "source": [
    "def combine_csv(csv_files, filter_cols, subset_cols, subset_vals, file_name):\n",
    "\n",
    "    \"\"\"\n",
    "    Combine csv files into one Data Frame\n",
    "    csv_files: list of csv file paths\n",
    "    filter_cols: list of columns to filter\n",
    "    subset_cols: list of columns to subset rows\n",
    "    subset_vals: list of list of values to subset rows\n",
    "    file_name: The filepath for the .csv file that is created from the 'combine_csv' function\n",
    "    \"\"\"\n",
    "\n",
    "    df = pd.DataFrame()\n",
    "    \n",
    "    for file in csv_files:\n",
    "        print('csv file: ', file)\n",
    "        df_temp = pd.read_csv(file)\n",
    "        print('df shape for this csv as a pandas dataframe:', df_temp.shape)\n",
    "        df_temp = df_temp[filter_cols]\n",
    "        print(f'df shape after sub-selecting on {filter_cols} columns:', df_temp.shape)\n",
    "        for col, val in zip(subset_cols, subset_vals):\n",
    "            df_temp = df_temp[df_temp[col].isin(val)]\n",
    "            print(f'df shape after filtering on {val} within {col}:', df_temp.shape)\n",
    "        \n",
    "        df = pd.concat([df, df_temp], axis=0)\n",
    "      \n",
    "    df.to_csv(file_name, index=False)\n",
    "    print(f'Combined csv stored at {file_name}')"
   ]
  },
  {
   "cell_type": "code",
   "execution_count": null,
   "metadata": {},
   "outputs": [],
   "source": [
    "#cols is the list of columns to predict Arrival Delay \n",
    "cols = ['Year','Quarter','Month','DayofMonth','DayOfWeek','FlightDate',\n",
    "        'Reporting_Airline','Origin','OriginState','Dest','DestState',\n",
    "        'CRSDepTime','Cancelled','Diverted','Distance','DistanceGroup',\n",
    "        'ArrDelay','ArrDelayMinutes','ArrDel15','AirTime']\n",
    "\n",
    "subset_cols = ['Origin', 'Dest', 'Reporting_Airline']\n",
    "\n",
    "# subset_vals is a list collection of the top origin and destination airports and top 5 airlines\n",
    "subset_vals = [['ATL', 'ORD', 'DFW', 'DEN', 'CLT', 'LAX', 'IAH', 'PHX', 'SFO'], \n",
    "               ['ATL', 'ORD', 'DFW', 'DEN', 'CLT', 'LAX', 'IAH', 'PHX', 'SFO'], \n",
    "               ['UA', 'OO', 'WN', 'AA', 'DL']]"
   ]
  },
  {
   "cell_type": "code",
   "execution_count": null,
   "metadata": {},
   "outputs": [],
   "source": [
    "###Example to show how the zip function works\n",
    "zip_ex = zip(subset_cols, subset_vals)\n",
    "zip_ex_list = list(zip_ex)\n",
    "for item in zip_ex_list:\n",
    "    print(item)"
   ]
  },
  {
   "cell_type": "markdown",
   "metadata": {},
   "source": [
    "Use the previous function to merge all the different files into a single file that you can read easily. (5-7 minutes to complete)"
   ]
  },
  {
   "cell_type": "code",
   "execution_count": null,
   "metadata": {},
   "outputs": [],
   "source": [
    "combined_csv_filename = f\"{base_path}combined_files.csv\"\n",
    "print(combined_csv_filename)"
   ]
  },
  {
   "cell_type": "code",
   "execution_count": null,
   "metadata": {
    "scrolled": true,
    "tags": []
   },
   "outputs": [],
   "source": [
    "!ls -l /home/ec2-user/SageMaker/project/data/FlightDelays/"
   ]
  },
  {
   "cell_type": "code",
   "execution_count": null,
   "metadata": {
    "scrolled": true,
    "tags": []
   },
   "outputs": [],
   "source": [
    "start = time.time()\n",
    "\n",
    "combine_csv(csv_files, cols, subset_cols, subset_vals, combined_csv_filename)\n",
    "\n",
    "print(f'CSVs merged in {round((time.time() - start)/60,2)} minutes')"
   ]
  },
  {
   "cell_type": "markdown",
   "metadata": {},
   "source": [
    "#### Load the dataset\n",
    "\n",
    "Load the combined dataset."
   ]
  },
  {
   "cell_type": "markdown",
   "metadata": {},
   "source": [
    "## BOOKMARK -- Pick Up Here if 'combined_files.csv' is retained within the '/home/ec2-user/SageMaker/project/data/FlightDelays/combined_files.csv' filepath"
   ]
  },
  {
   "cell_type": "code",
   "execution_count": 70,
   "metadata": {},
   "outputs": [
    {
     "name": "stdout",
     "output_type": "stream",
     "text": [
      "/home/ec2-user/SageMaker/project/data/FlightDelays/combined_files.csv\n",
      "-rw-rw-r-- 1 ec2-user ec2-user 136023260 Jul 22 16:46 /home/ec2-user/SageMaker/project/data/FlightDelays/combined_files.csv\n"
     ]
    }
   ],
   "source": [
    "combined_csv_filename = f\"{base_path}combined_files.csv\"\n",
    "print(combined_csv_filename)\n",
    "\n",
    "! ls -l {combined_csv_filename}"
   ]
  },
  {
   "cell_type": "code",
   "execution_count": 71,
   "metadata": {},
   "outputs": [
    {
     "name": "stdout",
     "output_type": "stream",
     "text": [
      "(1658130, 20)\n"
     ]
    }
   ],
   "source": [
    "##BOOKMARK -- Pick Up Here if 'combined_files.csv' is retained within the '/home/ec2-user/SageMaker/project/data/FlightDelays/combined_files.csv' filepath\n",
    "\n",
    "data = pd.read_csv(combined_csv_filename)\n",
    "print(data.shape)"
   ]
  },
  {
   "cell_type": "markdown",
   "metadata": {},
   "source": [
    "### Cells to re-run if this 'combined_files.csv' is retained and reused for the rest of this Notebook:\n",
    "\n",
    "- \"**Library/Module IMPORT Cell**\"\n",
    "- \"**Filepath Creation Cell**\""
   ]
  },
  {
   "cell_type": "markdown",
   "metadata": {},
   "source": [
    "Print the first five records."
   ]
  },
  {
   "cell_type": "code",
   "execution_count": 72,
   "metadata": {},
   "outputs": [
    {
     "name": "stdout",
     "output_type": "stream",
     "text": [
      "(1658130, 20)\n"
     ]
    },
    {
     "data": {
      "text/html": [
       "<div>\n",
       "<style scoped>\n",
       "    .dataframe tbody tr th:only-of-type {\n",
       "        vertical-align: middle;\n",
       "    }\n",
       "\n",
       "    .dataframe tbody tr th {\n",
       "        vertical-align: top;\n",
       "    }\n",
       "\n",
       "    .dataframe thead th {\n",
       "        text-align: right;\n",
       "    }\n",
       "</style>\n",
       "<table border=\"1\" class=\"dataframe\">\n",
       "  <thead>\n",
       "    <tr style=\"text-align: right;\">\n",
       "      <th></th>\n",
       "      <th>Year</th>\n",
       "      <th>Quarter</th>\n",
       "      <th>Month</th>\n",
       "      <th>DayofMonth</th>\n",
       "      <th>DayOfWeek</th>\n",
       "      <th>FlightDate</th>\n",
       "      <th>Reporting_Airline</th>\n",
       "      <th>Origin</th>\n",
       "      <th>OriginState</th>\n",
       "      <th>Dest</th>\n",
       "      <th>DestState</th>\n",
       "      <th>CRSDepTime</th>\n",
       "      <th>Cancelled</th>\n",
       "      <th>Diverted</th>\n",
       "      <th>Distance</th>\n",
       "      <th>DistanceGroup</th>\n",
       "      <th>ArrDelay</th>\n",
       "      <th>ArrDelayMinutes</th>\n",
       "      <th>ArrDel15</th>\n",
       "      <th>AirTime</th>\n",
       "    </tr>\n",
       "  </thead>\n",
       "  <tbody>\n",
       "    <tr>\n",
       "      <th>0</th>\n",
       "      <td>2017</td>\n",
       "      <td>2</td>\n",
       "      <td>4</td>\n",
       "      <td>1</td>\n",
       "      <td>6</td>\n",
       "      <td>2017-04-01</td>\n",
       "      <td>DL</td>\n",
       "      <td>ATL</td>\n",
       "      <td>GA</td>\n",
       "      <td>DFW</td>\n",
       "      <td>TX</td>\n",
       "      <td>1920</td>\n",
       "      <td>0.0</td>\n",
       "      <td>0.0</td>\n",
       "      <td>731.0</td>\n",
       "      <td>3</td>\n",
       "      <td>-25.0</td>\n",
       "      <td>0.0</td>\n",
       "      <td>0.0</td>\n",
       "      <td>106.0</td>\n",
       "    </tr>\n",
       "    <tr>\n",
       "      <th>1</th>\n",
       "      <td>2017</td>\n",
       "      <td>2</td>\n",
       "      <td>4</td>\n",
       "      <td>1</td>\n",
       "      <td>6</td>\n",
       "      <td>2017-04-01</td>\n",
       "      <td>DL</td>\n",
       "      <td>DFW</td>\n",
       "      <td>TX</td>\n",
       "      <td>ATL</td>\n",
       "      <td>GA</td>\n",
       "      <td>1717</td>\n",
       "      <td>0.0</td>\n",
       "      <td>0.0</td>\n",
       "      <td>731.0</td>\n",
       "      <td>3</td>\n",
       "      <td>-16.0</td>\n",
       "      <td>0.0</td>\n",
       "      <td>0.0</td>\n",
       "      <td>97.0</td>\n",
       "    </tr>\n",
       "    <tr>\n",
       "      <th>2</th>\n",
       "      <td>2017</td>\n",
       "      <td>2</td>\n",
       "      <td>4</td>\n",
       "      <td>1</td>\n",
       "      <td>6</td>\n",
       "      <td>2017-04-01</td>\n",
       "      <td>DL</td>\n",
       "      <td>SFO</td>\n",
       "      <td>CA</td>\n",
       "      <td>ATL</td>\n",
       "      <td>GA</td>\n",
       "      <td>1405</td>\n",
       "      <td>0.0</td>\n",
       "      <td>0.0</td>\n",
       "      <td>2139.0</td>\n",
       "      <td>9</td>\n",
       "      <td>31.0</td>\n",
       "      <td>31.0</td>\n",
       "      <td>1.0</td>\n",
       "      <td>255.0</td>\n",
       "    </tr>\n",
       "    <tr>\n",
       "      <th>3</th>\n",
       "      <td>2017</td>\n",
       "      <td>2</td>\n",
       "      <td>4</td>\n",
       "      <td>1</td>\n",
       "      <td>6</td>\n",
       "      <td>2017-04-01</td>\n",
       "      <td>DL</td>\n",
       "      <td>SFO</td>\n",
       "      <td>CA</td>\n",
       "      <td>ATL</td>\n",
       "      <td>GA</td>\n",
       "      <td>600</td>\n",
       "      <td>0.0</td>\n",
       "      <td>0.0</td>\n",
       "      <td>2139.0</td>\n",
       "      <td>9</td>\n",
       "      <td>15.0</td>\n",
       "      <td>15.0</td>\n",
       "      <td>1.0</td>\n",
       "      <td>257.0</td>\n",
       "    </tr>\n",
       "    <tr>\n",
       "      <th>4</th>\n",
       "      <td>2017</td>\n",
       "      <td>2</td>\n",
       "      <td>4</td>\n",
       "      <td>1</td>\n",
       "      <td>6</td>\n",
       "      <td>2017-04-01</td>\n",
       "      <td>DL</td>\n",
       "      <td>ATL</td>\n",
       "      <td>GA</td>\n",
       "      <td>SFO</td>\n",
       "      <td>CA</td>\n",
       "      <td>1640</td>\n",
       "      <td>0.0</td>\n",
       "      <td>0.0</td>\n",
       "      <td>2139.0</td>\n",
       "      <td>9</td>\n",
       "      <td>58.0</td>\n",
       "      <td>58.0</td>\n",
       "      <td>1.0</td>\n",
       "      <td>262.0</td>\n",
       "    </tr>\n",
       "  </tbody>\n",
       "</table>\n",
       "</div>"
      ],
      "text/plain": [
       "   Year  Quarter  Month  DayofMonth  DayOfWeek  FlightDate Reporting_Airline  \\\n",
       "0  2017        2      4           1          6  2017-04-01                DL   \n",
       "1  2017        2      4           1          6  2017-04-01                DL   \n",
       "2  2017        2      4           1          6  2017-04-01                DL   \n",
       "3  2017        2      4           1          6  2017-04-01                DL   \n",
       "4  2017        2      4           1          6  2017-04-01                DL   \n",
       "\n",
       "  Origin OriginState Dest DestState  CRSDepTime  Cancelled  Diverted  \\\n",
       "0    ATL          GA  DFW        TX        1920        0.0       0.0   \n",
       "1    DFW          TX  ATL        GA        1717        0.0       0.0   \n",
       "2    SFO          CA  ATL        GA        1405        0.0       0.0   \n",
       "3    SFO          CA  ATL        GA         600        0.0       0.0   \n",
       "4    ATL          GA  SFO        CA        1640        0.0       0.0   \n",
       "\n",
       "   Distance  DistanceGroup  ArrDelay  ArrDelayMinutes  ArrDel15  AirTime  \n",
       "0     731.0              3     -25.0              0.0       0.0    106.0  \n",
       "1     731.0              3     -16.0              0.0       0.0     97.0  \n",
       "2    2139.0              9      31.0             31.0       1.0    255.0  \n",
       "3    2139.0              9      15.0             15.0       1.0    257.0  \n",
       "4    2139.0              9      58.0             58.0       1.0    262.0  "
      ]
     },
     "execution_count": 72,
     "metadata": {},
     "output_type": "execute_result"
    }
   ],
   "source": [
    "print(data.shape)\n",
    "data.head(5)"
   ]
  },
  {
   "cell_type": "markdown",
   "metadata": {},
   "source": [
    "##### EDA of transformed dataset\n",
    "\n",
    "Explore the following:\n",
    "1. Number of rows and columns in the dataset   \n",
    "2. The Number of years included in the dataset\n",
    "3. The date range for this dataset   \n",
    "4. The airlines that are included   \n",
    "5. The origin and destination airports covered"
   ]
  },
  {
   "cell_type": "code",
   "execution_count": 73,
   "metadata": {},
   "outputs": [
    {
     "name": "stdout",
     "output_type": "stream",
     "text": [
      "The #rows and #columns are  1658130  and  20\n",
      "The years in this dataset are:  [2017, 2015, 2018, 2016, 2014]\n",
      "The months covered in this dataset are:  [4, 6, 9, 2, 10, 12, 5, 1, 11, 3, 7, 8]\n",
      "The date range for data is : 2014-01-01  to  2018-12-31\n",
      "The airlines covered in this dataset are:  ['DL', 'WN', 'UA', 'AA', 'OO']\n",
      "The Origin airports covered are:  ['ATL', 'DFW', 'SFO', 'IAH', 'LAX', 'PHX', 'ORD', 'DEN', 'CLT']\n",
      "The Destination airports covered are:  ['DFW', 'ATL', 'SFO', 'LAX', 'ORD', 'IAH', 'CLT', 'DEN', 'PHX']\n"
     ]
    }
   ],
   "source": [
    "print(\"The #rows and #columns are \", data.shape[0] , \" and \", data.shape[1])\n",
    "print(\"The years in this dataset are: \", list(data['Year'].unique()))\n",
    "print(\"The months covered in this dataset are: \", list(data['Month'].unique()))\n",
    "print(\"The date range for data is :\" , min(data['FlightDate']), \" to \", max(data['FlightDate']))\n",
    "print(\"The airlines covered in this dataset are: \", list(data['Reporting_Airline'].unique()))\n",
    "print(\"The Origin airports covered are: \", list(data['Origin'].unique()))\n",
    "print(\"The Destination airports covered are: \", list(data['Dest'].unique()))"
   ]
  },
  {
   "cell_type": "markdown",
   "metadata": {},
   "source": [
    "Define your target column: **is_delay** (*1* means that the arrival time delayed more than 15 minutes, and *0* means all other cases). To rename the column from **ArrDel15** to *is_delay*, use the `rename` method ."
   ]
  },
  {
   "cell_type": "code",
   "execution_count": 74,
   "metadata": {},
   "outputs": [],
   "source": [
    "data.rename(columns={'ArrDel15':'is_delay'}, inplace=True) # "
   ]
  },
  {
   "cell_type": "markdown",
   "metadata": {},
   "source": [
    "Look for nulls across columns. You can use the `isnull()` function"
   ]
  },
  {
   "cell_type": "code",
   "execution_count": 75,
   "metadata": {},
   "outputs": [
    {
     "data": {
      "text/html": [
       "<div>\n",
       "<style scoped>\n",
       "    .dataframe tbody tr th:only-of-type {\n",
       "        vertical-align: middle;\n",
       "    }\n",
       "\n",
       "    .dataframe tbody tr th {\n",
       "        vertical-align: top;\n",
       "    }\n",
       "\n",
       "    .dataframe thead th {\n",
       "        text-align: right;\n",
       "    }\n",
       "</style>\n",
       "<table border=\"1\" class=\"dataframe\">\n",
       "  <thead>\n",
       "    <tr style=\"text-align: right;\">\n",
       "      <th></th>\n",
       "      <th>Year</th>\n",
       "      <th>Quarter</th>\n",
       "      <th>Month</th>\n",
       "      <th>DayofMonth</th>\n",
       "      <th>DayOfWeek</th>\n",
       "      <th>FlightDate</th>\n",
       "      <th>Reporting_Airline</th>\n",
       "      <th>Origin</th>\n",
       "      <th>OriginState</th>\n",
       "      <th>Dest</th>\n",
       "      <th>DestState</th>\n",
       "      <th>CRSDepTime</th>\n",
       "      <th>Cancelled</th>\n",
       "      <th>Diverted</th>\n",
       "      <th>Distance</th>\n",
       "      <th>DistanceGroup</th>\n",
       "      <th>ArrDelay</th>\n",
       "      <th>ArrDelayMinutes</th>\n",
       "      <th>is_delay</th>\n",
       "      <th>AirTime</th>\n",
       "    </tr>\n",
       "  </thead>\n",
       "  <tbody>\n",
       "    <tr>\n",
       "      <th>0</th>\n",
       "      <td>False</td>\n",
       "      <td>False</td>\n",
       "      <td>False</td>\n",
       "      <td>False</td>\n",
       "      <td>False</td>\n",
       "      <td>False</td>\n",
       "      <td>False</td>\n",
       "      <td>False</td>\n",
       "      <td>False</td>\n",
       "      <td>False</td>\n",
       "      <td>False</td>\n",
       "      <td>False</td>\n",
       "      <td>False</td>\n",
       "      <td>False</td>\n",
       "      <td>False</td>\n",
       "      <td>False</td>\n",
       "      <td>False</td>\n",
       "      <td>False</td>\n",
       "      <td>False</td>\n",
       "      <td>False</td>\n",
       "    </tr>\n",
       "    <tr>\n",
       "      <th>1</th>\n",
       "      <td>False</td>\n",
       "      <td>False</td>\n",
       "      <td>False</td>\n",
       "      <td>False</td>\n",
       "      <td>False</td>\n",
       "      <td>False</td>\n",
       "      <td>False</td>\n",
       "      <td>False</td>\n",
       "      <td>False</td>\n",
       "      <td>False</td>\n",
       "      <td>False</td>\n",
       "      <td>False</td>\n",
       "      <td>False</td>\n",
       "      <td>False</td>\n",
       "      <td>False</td>\n",
       "      <td>False</td>\n",
       "      <td>False</td>\n",
       "      <td>False</td>\n",
       "      <td>False</td>\n",
       "      <td>False</td>\n",
       "    </tr>\n",
       "    <tr>\n",
       "      <th>2</th>\n",
       "      <td>False</td>\n",
       "      <td>False</td>\n",
       "      <td>False</td>\n",
       "      <td>False</td>\n",
       "      <td>False</td>\n",
       "      <td>False</td>\n",
       "      <td>False</td>\n",
       "      <td>False</td>\n",
       "      <td>False</td>\n",
       "      <td>False</td>\n",
       "      <td>False</td>\n",
       "      <td>False</td>\n",
       "      <td>False</td>\n",
       "      <td>False</td>\n",
       "      <td>False</td>\n",
       "      <td>False</td>\n",
       "      <td>False</td>\n",
       "      <td>False</td>\n",
       "      <td>False</td>\n",
       "      <td>False</td>\n",
       "    </tr>\n",
       "    <tr>\n",
       "      <th>3</th>\n",
       "      <td>False</td>\n",
       "      <td>False</td>\n",
       "      <td>False</td>\n",
       "      <td>False</td>\n",
       "      <td>False</td>\n",
       "      <td>False</td>\n",
       "      <td>False</td>\n",
       "      <td>False</td>\n",
       "      <td>False</td>\n",
       "      <td>False</td>\n",
       "      <td>False</td>\n",
       "      <td>False</td>\n",
       "      <td>False</td>\n",
       "      <td>False</td>\n",
       "      <td>False</td>\n",
       "      <td>False</td>\n",
       "      <td>False</td>\n",
       "      <td>False</td>\n",
       "      <td>False</td>\n",
       "      <td>False</td>\n",
       "    </tr>\n",
       "    <tr>\n",
       "      <th>4</th>\n",
       "      <td>False</td>\n",
       "      <td>False</td>\n",
       "      <td>False</td>\n",
       "      <td>False</td>\n",
       "      <td>False</td>\n",
       "      <td>False</td>\n",
       "      <td>False</td>\n",
       "      <td>False</td>\n",
       "      <td>False</td>\n",
       "      <td>False</td>\n",
       "      <td>False</td>\n",
       "      <td>False</td>\n",
       "      <td>False</td>\n",
       "      <td>False</td>\n",
       "      <td>False</td>\n",
       "      <td>False</td>\n",
       "      <td>False</td>\n",
       "      <td>False</td>\n",
       "      <td>False</td>\n",
       "      <td>False</td>\n",
       "    </tr>\n",
       "    <tr>\n",
       "      <th>...</th>\n",
       "      <td>...</td>\n",
       "      <td>...</td>\n",
       "      <td>...</td>\n",
       "      <td>...</td>\n",
       "      <td>...</td>\n",
       "      <td>...</td>\n",
       "      <td>...</td>\n",
       "      <td>...</td>\n",
       "      <td>...</td>\n",
       "      <td>...</td>\n",
       "      <td>...</td>\n",
       "      <td>...</td>\n",
       "      <td>...</td>\n",
       "      <td>...</td>\n",
       "      <td>...</td>\n",
       "      <td>...</td>\n",
       "      <td>...</td>\n",
       "      <td>...</td>\n",
       "      <td>...</td>\n",
       "      <td>...</td>\n",
       "    </tr>\n",
       "    <tr>\n",
       "      <th>1658125</th>\n",
       "      <td>False</td>\n",
       "      <td>False</td>\n",
       "      <td>False</td>\n",
       "      <td>False</td>\n",
       "      <td>False</td>\n",
       "      <td>False</td>\n",
       "      <td>False</td>\n",
       "      <td>False</td>\n",
       "      <td>False</td>\n",
       "      <td>False</td>\n",
       "      <td>False</td>\n",
       "      <td>False</td>\n",
       "      <td>False</td>\n",
       "      <td>False</td>\n",
       "      <td>False</td>\n",
       "      <td>False</td>\n",
       "      <td>False</td>\n",
       "      <td>False</td>\n",
       "      <td>False</td>\n",
       "      <td>False</td>\n",
       "    </tr>\n",
       "    <tr>\n",
       "      <th>1658126</th>\n",
       "      <td>False</td>\n",
       "      <td>False</td>\n",
       "      <td>False</td>\n",
       "      <td>False</td>\n",
       "      <td>False</td>\n",
       "      <td>False</td>\n",
       "      <td>False</td>\n",
       "      <td>False</td>\n",
       "      <td>False</td>\n",
       "      <td>False</td>\n",
       "      <td>False</td>\n",
       "      <td>False</td>\n",
       "      <td>False</td>\n",
       "      <td>False</td>\n",
       "      <td>False</td>\n",
       "      <td>False</td>\n",
       "      <td>False</td>\n",
       "      <td>False</td>\n",
       "      <td>False</td>\n",
       "      <td>False</td>\n",
       "    </tr>\n",
       "    <tr>\n",
       "      <th>1658127</th>\n",
       "      <td>False</td>\n",
       "      <td>False</td>\n",
       "      <td>False</td>\n",
       "      <td>False</td>\n",
       "      <td>False</td>\n",
       "      <td>False</td>\n",
       "      <td>False</td>\n",
       "      <td>False</td>\n",
       "      <td>False</td>\n",
       "      <td>False</td>\n",
       "      <td>False</td>\n",
       "      <td>False</td>\n",
       "      <td>False</td>\n",
       "      <td>False</td>\n",
       "      <td>False</td>\n",
       "      <td>False</td>\n",
       "      <td>False</td>\n",
       "      <td>False</td>\n",
       "      <td>False</td>\n",
       "      <td>False</td>\n",
       "    </tr>\n",
       "    <tr>\n",
       "      <th>1658128</th>\n",
       "      <td>False</td>\n",
       "      <td>False</td>\n",
       "      <td>False</td>\n",
       "      <td>False</td>\n",
       "      <td>False</td>\n",
       "      <td>False</td>\n",
       "      <td>False</td>\n",
       "      <td>False</td>\n",
       "      <td>False</td>\n",
       "      <td>False</td>\n",
       "      <td>False</td>\n",
       "      <td>False</td>\n",
       "      <td>False</td>\n",
       "      <td>False</td>\n",
       "      <td>False</td>\n",
       "      <td>False</td>\n",
       "      <td>False</td>\n",
       "      <td>False</td>\n",
       "      <td>False</td>\n",
       "      <td>False</td>\n",
       "    </tr>\n",
       "    <tr>\n",
       "      <th>1658129</th>\n",
       "      <td>False</td>\n",
       "      <td>False</td>\n",
       "      <td>False</td>\n",
       "      <td>False</td>\n",
       "      <td>False</td>\n",
       "      <td>False</td>\n",
       "      <td>False</td>\n",
       "      <td>False</td>\n",
       "      <td>False</td>\n",
       "      <td>False</td>\n",
       "      <td>False</td>\n",
       "      <td>False</td>\n",
       "      <td>False</td>\n",
       "      <td>False</td>\n",
       "      <td>False</td>\n",
       "      <td>False</td>\n",
       "      <td>False</td>\n",
       "      <td>False</td>\n",
       "      <td>False</td>\n",
       "      <td>False</td>\n",
       "    </tr>\n",
       "  </tbody>\n",
       "</table>\n",
       "<p>1658130 rows × 20 columns</p>\n",
       "</div>"
      ],
      "text/plain": [
       "          Year  Quarter  Month  DayofMonth  DayOfWeek  FlightDate  \\\n",
       "0        False    False  False       False      False       False   \n",
       "1        False    False  False       False      False       False   \n",
       "2        False    False  False       False      False       False   \n",
       "3        False    False  False       False      False       False   \n",
       "4        False    False  False       False      False       False   \n",
       "...        ...      ...    ...         ...        ...         ...   \n",
       "1658125  False    False  False       False      False       False   \n",
       "1658126  False    False  False       False      False       False   \n",
       "1658127  False    False  False       False      False       False   \n",
       "1658128  False    False  False       False      False       False   \n",
       "1658129  False    False  False       False      False       False   \n",
       "\n",
       "         Reporting_Airline  Origin  OriginState   Dest  DestState  CRSDepTime  \\\n",
       "0                    False   False        False  False      False       False   \n",
       "1                    False   False        False  False      False       False   \n",
       "2                    False   False        False  False      False       False   \n",
       "3                    False   False        False  False      False       False   \n",
       "4                    False   False        False  False      False       False   \n",
       "...                    ...     ...          ...    ...        ...         ...   \n",
       "1658125              False   False        False  False      False       False   \n",
       "1658126              False   False        False  False      False       False   \n",
       "1658127              False   False        False  False      False       False   \n",
       "1658128              False   False        False  False      False       False   \n",
       "1658129              False   False        False  False      False       False   \n",
       "\n",
       "         Cancelled  Diverted  Distance  DistanceGroup  ArrDelay  \\\n",
       "0            False     False     False          False     False   \n",
       "1            False     False     False          False     False   \n",
       "2            False     False     False          False     False   \n",
       "3            False     False     False          False     False   \n",
       "4            False     False     False          False     False   \n",
       "...            ...       ...       ...            ...       ...   \n",
       "1658125      False     False     False          False     False   \n",
       "1658126      False     False     False          False     False   \n",
       "1658127      False     False     False          False     False   \n",
       "1658128      False     False     False          False     False   \n",
       "1658129      False     False     False          False     False   \n",
       "\n",
       "         ArrDelayMinutes  is_delay  AirTime  \n",
       "0                  False     False    False  \n",
       "1                  False     False    False  \n",
       "2                  False     False    False  \n",
       "3                  False     False    False  \n",
       "4                  False     False    False  \n",
       "...                  ...       ...      ...  \n",
       "1658125            False     False    False  \n",
       "1658126            False     False    False  \n",
       "1658127            False     False    False  \n",
       "1658128            False     False    False  \n",
       "1658129            False     False    False  \n",
       "\n",
       "[1658130 rows x 20 columns]"
      ]
     },
     "execution_count": 75,
     "metadata": {},
     "output_type": "execute_result"
    }
   ],
   "source": [
    "data.isnull()"
   ]
  },
  {
   "cell_type": "markdown",
   "metadata": {},
   "source": [
    "The arrival delay details and airtime are missing for 22,540 out of 1,658,130 rows, which is 1.3 percent. You can either remove or impute these rows. The documentation doesn't mention any information about missing rows.\n"
   ]
  },
  {
   "cell_type": "code",
   "execution_count": 76,
   "metadata": {
    "tags": []
   },
   "outputs": [
    {
     "data": {
      "text/plain": [
       "Year                     0\n",
       "Quarter                  0\n",
       "Month                    0\n",
       "DayofMonth               0\n",
       "DayOfWeek                0\n",
       "FlightDate               0\n",
       "Reporting_Airline        0\n",
       "Origin                   0\n",
       "OriginState              0\n",
       "Dest                     0\n",
       "DestState                0\n",
       "CRSDepTime               0\n",
       "Cancelled                0\n",
       "Diverted                 0\n",
       "Distance                 0\n",
       "DistanceGroup            0\n",
       "ArrDelay             22540\n",
       "ArrDelayMinutes      22540\n",
       "is_delay             22540\n",
       "AirTime              22540\n",
       "dtype: int64"
      ]
     },
     "execution_count": 76,
     "metadata": {},
     "output_type": "execute_result"
    }
   ],
   "source": [
    "data.isnull().sum(axis = 0)"
   ]
  },
  {
   "cell_type": "code",
   "execution_count": 77,
   "metadata": {},
   "outputs": [
    {
     "data": {
      "text/plain": [
       "Year                 0\n",
       "Quarter              0\n",
       "Month                0\n",
       "DayofMonth           0\n",
       "DayOfWeek            0\n",
       "FlightDate           0\n",
       "Reporting_Airline    0\n",
       "Origin               0\n",
       "OriginState          0\n",
       "Dest                 0\n",
       "DestState            0\n",
       "CRSDepTime           0\n",
       "Cancelled            0\n",
       "Diverted             0\n",
       "Distance             0\n",
       "DistanceGroup        0\n",
       "ArrDelay             0\n",
       "ArrDelayMinutes      0\n",
       "is_delay             0\n",
       "AirTime              0\n",
       "dtype: int64"
      ]
     },
     "execution_count": 77,
     "metadata": {},
     "output_type": "execute_result"
    }
   ],
   "source": [
    "### Remove null rows with null values\n",
    "data_2 = data[~data.is_delay.isnull()]\n",
    "data_2.isnull().sum(axis = 0)"
   ]
  },
  {
   "cell_type": "code",
   "execution_count": 78,
   "metadata": {
    "tags": []
   },
   "outputs": [
    {
     "name": "stdout",
     "output_type": "stream",
     "text": [
      "The #rows and #columns are  1635590  and  20\n",
      "The years in this dataset are:  [2017, 2015, 2018, 2016, 2014]\n",
      "The months covered in this dataset are:  [4, 6, 9, 2, 10, 12, 5, 1, 11, 3, 7, 8]\n",
      "The date range for data is : 2014-01-01  to  2018-12-31\n"
     ]
    }
   ],
   "source": [
    "data = data_2\n",
    "print(\"The #rows and #columns are \", data.shape[0] , \" and \", data.shape[1])\n",
    "print(\"The years in this dataset are: \", list(data['Year'].unique()))\n",
    "print(\"The months covered in this dataset are: \", list(data['Month'].unique()))\n",
    "print(\"The date range for data is :\" , min(data['FlightDate']), \" to \", max(data['FlightDate']))"
   ]
  },
  {
   "cell_type": "markdown",
   "metadata": {},
   "source": [
    "Get the hour of the day in 24-hour-time format from CRSDepTime."
   ]
  },
  {
   "cell_type": "code",
   "execution_count": null,
   "metadata": {},
   "outputs": [],
   "source": [
    "data_3 = data_2.copy()\n",
    "data_3['DepHourofDay'] = (data_2['CRSDepTime']//100) ## // is Floor Division"
   ]
  },
  {
   "cell_type": "code",
   "execution_count": 80,
   "metadata": {
    "tags": []
   },
   "outputs": [
    {
     "data": {
      "text/html": [
       "<div>\n",
       "<style scoped>\n",
       "    .dataframe tbody tr th:only-of-type {\n",
       "        vertical-align: middle;\n",
       "    }\n",
       "\n",
       "    .dataframe tbody tr th {\n",
       "        vertical-align: top;\n",
       "    }\n",
       "\n",
       "    .dataframe thead th {\n",
       "        text-align: right;\n",
       "    }\n",
       "</style>\n",
       "<table border=\"1\" class=\"dataframe\">\n",
       "  <thead>\n",
       "    <tr style=\"text-align: right;\">\n",
       "      <th></th>\n",
       "      <th>DepHourofDay</th>\n",
       "      <th>CRSDepTime</th>\n",
       "    </tr>\n",
       "  </thead>\n",
       "  <tbody>\n",
       "    <tr>\n",
       "      <th>0</th>\n",
       "      <td>19</td>\n",
       "      <td>1920</td>\n",
       "    </tr>\n",
       "    <tr>\n",
       "      <th>1</th>\n",
       "      <td>17</td>\n",
       "      <td>1717</td>\n",
       "    </tr>\n",
       "    <tr>\n",
       "      <th>2</th>\n",
       "      <td>14</td>\n",
       "      <td>1405</td>\n",
       "    </tr>\n",
       "    <tr>\n",
       "      <th>3</th>\n",
       "      <td>6</td>\n",
       "      <td>600</td>\n",
       "    </tr>\n",
       "    <tr>\n",
       "      <th>4</th>\n",
       "      <td>16</td>\n",
       "      <td>1640</td>\n",
       "    </tr>\n",
       "    <tr>\n",
       "      <th>...</th>\n",
       "      <td>...</td>\n",
       "      <td>...</td>\n",
       "    </tr>\n",
       "    <tr>\n",
       "      <th>1658125</th>\n",
       "      <td>7</td>\n",
       "      <td>708</td>\n",
       "    </tr>\n",
       "    <tr>\n",
       "      <th>1658126</th>\n",
       "      <td>15</td>\n",
       "      <td>1525</td>\n",
       "    </tr>\n",
       "    <tr>\n",
       "      <th>1658127</th>\n",
       "      <td>17</td>\n",
       "      <td>1735</td>\n",
       "    </tr>\n",
       "    <tr>\n",
       "      <th>1658128</th>\n",
       "      <td>18</td>\n",
       "      <td>1825</td>\n",
       "    </tr>\n",
       "    <tr>\n",
       "      <th>1658129</th>\n",
       "      <td>9</td>\n",
       "      <td>946</td>\n",
       "    </tr>\n",
       "  </tbody>\n",
       "</table>\n",
       "<p>1635590 rows × 2 columns</p>\n",
       "</div>"
      ],
      "text/plain": [
       "         DepHourofDay  CRSDepTime\n",
       "0                  19        1920\n",
       "1                  17        1717\n",
       "2                  14        1405\n",
       "3                   6         600\n",
       "4                  16        1640\n",
       "...               ...         ...\n",
       "1658125             7         708\n",
       "1658126            15        1525\n",
       "1658127            17        1735\n",
       "1658128            18        1825\n",
       "1658129             9         946\n",
       "\n",
       "[1635590 rows x 2 columns]"
      ]
     },
     "execution_count": 80,
     "metadata": {},
     "output_type": "execute_result"
    }
   ],
   "source": [
    "data_3[['DepHourofDay', 'CRSDepTime']]"
   ]
  },
  {
   "cell_type": "code",
   "execution_count": 81,
   "metadata": {
    "tags": []
   },
   "outputs": [
    {
     "name": "stdout",
     "output_type": "stream",
     "text": [
      "Index(['Year', 'Quarter', 'Month', 'DayofMonth', 'DayOfWeek', 'FlightDate',\n",
      "       'Reporting_Airline', 'Origin', 'OriginState', 'Dest', 'DestState',\n",
      "       'CRSDepTime', 'Cancelled', 'Diverted', 'Distance', 'DistanceGroup',\n",
      "       'ArrDelay', 'ArrDelayMinutes', 'is_delay', 'AirTime', 'DepHourofDay'],\n",
      "      dtype='object')\n",
      "The #rows and #columns are  1635590  and  21\n"
     ]
    }
   ],
   "source": [
    "data = data_3\n",
    "print(data.columns)\n",
    "print(\"The #rows and #columns are \", data.shape[0] , \" and \", data.shape[1])"
   ]
  },
  {
   "cell_type": "markdown",
   "metadata": {},
   "source": [
    "## The ML problem statement\n",
    "- Given a set of features, predict if a flight is going to be delayed more than 15 minutes\n",
    "\n",
    "Look at feature distribution, correlations, and others.\n",
    "- Assess non-linearity or patterns in the data\n",
    "    - Linear models: Add power, exponential, or interaction features\n",
    "    - Try a non-linear model\n",
    "- Data imbalance \n",
    "    - Choose metrics that won't give biased model performance (accuracy versus the area under the curve, or AUC)\n",
    "    - Use weighted or custom loss functions\n",
    "- Missing data\n",
    "    - Do imputation based on simple statistics -- mean, median, mode (numerical variables), frequent class (categorical variables)\n",
    "    - Clustering-based imputation (k-nearest neighbors, or KNNs, to predict column value)\n",
    "    - Drop column"
   ]
  },
  {
   "cell_type": "markdown",
   "metadata": {},
   "source": [
    "### Data exploration\n",
    "\n",
    "Check the class *is_delay* versus *no delay*.\n"
   ]
  },
  {
   "cell_type": "code",
   "execution_count": 82,
   "metadata": {},
   "outputs": [
    {
     "data": {
      "image/png": "[encoded data removed]",
      "text/plain": [
       "<Figure size 640x480 with 1 Axes>"
      ]
     },
     "metadata": {},
     "output_type": "display_data"
    }
   ],
   "source": [
    "(data_3.groupby('is_delay').size()/len(data) ).plot(kind='bar')# \n",
    "plt.ylabel('Frequency')\n",
    "plt.title('Distribution of classes')\n",
    "plt.show()"
   ]
  },
  {
   "cell_type": "markdown",
   "metadata": {},
   "source": [
    "**Question**: What can you deduce from the bar plot about the ratio of *delay* versus *no delay*?"
   ]
  },
  {
   "cell_type": "markdown",
   "metadata": {},
   "source": [
    "Run the following two cells and answer the questions."
   ]
  },
  {
   "cell_type": "code",
   "execution_count": 84,
   "metadata": {},
   "outputs": [
    {
     "name": "stderr",
     "output_type": "stream",
     "text": [
      "INFO:matplotlib.category:Using categorical units to plot a list of strings that are all parsable as floats or dates. If these strings should be plotted as numbers, cast to the appropriate data type before plotting.\n",
      "INFO:matplotlib.category:Using categorical units to plot a list of strings that are all parsable as floats or dates. If these strings should be plotted as numbers, cast to the appropriate data type before plotting.\n",
      "INFO:matplotlib.category:Using categorical units to plot a list of strings that are all parsable as floats or dates. If these strings should be plotted as numbers, cast to the appropriate data type before plotting.\n",
      "INFO:matplotlib.category:Using categorical units to plot a list of strings that are all parsable as floats or dates. If these strings should be plotted as numbers, cast to the appropriate data type before plotting.\n",
      "INFO:matplotlib.category:Using categorical units to plot a list of strings that are all parsable as floats or dates. If these strings should be plotted as numbers, cast to the appropriate data type before plotting.\n",
      "INFO:matplotlib.category:Using categorical units to plot a list of strings that are all parsable as floats or dates. If these strings should be plotted as numbers, cast to the appropriate data type before plotting.\n"
     ]
    },
    {
     "data": {
      "image/png": "[encoded data removed]",
      "text/plain": [
       "<Figure size 2000x2000 with 6 Axes>"
      ]
     },
     "metadata": {},
     "output_type": "display_data"
    }
   ],
   "source": [
    "data = data_3\n",
    "\n",
    "viz_columns = ['Month', 'DepHourofDay', 'DayOfWeek', 'Reporting_Airline', 'Origin', 'Dest']\n",
    "fig, axes = plt.subplots(3, 2, figsize=(20,20), squeeze=False)\n",
    "# fig.autofmt_xdate(rotation=90)\n",
    "\n",
    "for idx, column in enumerate(viz_columns):\n",
    "    ax = axes[idx//2, idx%2]\n",
    "    temp = data.groupby(column)['is_delay'].value_counts(normalize=True).rename('percentage').\\\n",
    "    mul(100).reset_index().sort_values(column)\n",
    "    sns.barplot(x=column, y=\"percentage\", hue=\"is_delay\", data=temp, ax=ax)\n",
    "    plt.ylabel('% delay/no-delay')\n",
    "    \n",
    "\n",
    "plt.show()"
   ]
  },
  {
   "cell_type": "code",
   "execution_count": 85,
   "metadata": {},
   "outputs": [
    {
     "data": {
      "image/png": "[encoded data removed]",
      "text/plain": [
       "<Figure size 500x500 with 1 Axes>"
      ]
     },
     "metadata": {},
     "output_type": "display_data"
    }
   ],
   "source": [
    "sns.lmplot( x=\"is_delay\", y=\"Distance\", data=data, fit_reg=False, hue='is_delay', legend=False)\n",
    "plt.legend(loc='center')\n",
    "plt.xlabel('is_delay')\n",
    "plt.ylabel('Distance')\n",
    "plt.show()"
   ]
  },
  {
   "cell_type": "markdown",
   "metadata": {},
   "source": [
    "**Questions  to Answer**\n",
    "\n",
    "- Which months have the most delays?\n",
    "- What time of the day has the most delays?\n",
    "- What day of the week has the most delays?\n",
    "- Which airline has the most delays?\n",
    "- Which origin and destination airports have the most delays?\n",
    "- Is flight distance a factor in the delays?"
   ]
  },
  {
   "cell_type": "markdown",
   "metadata": {},
   "source": [
    "### Features\n",
    "\n",
    "Look at all the columns and what their specific types are."
   ]
  },
  {
   "cell_type": "code",
   "execution_count": 87,
   "metadata": {},
   "outputs": [
    {
     "data": {
      "text/plain": [
       "Index(['Year', 'Quarter', 'Month', 'DayofMonth', 'DayOfWeek', 'FlightDate',\n",
       "       'Reporting_Airline', 'Origin', 'OriginState', 'Dest', 'DestState',\n",
       "       'CRSDepTime', 'Cancelled', 'Diverted', 'Distance', 'DistanceGroup',\n",
       "       'ArrDelay', 'ArrDelayMinutes', 'is_delay', 'AirTime', 'DepHourofDay'],\n",
       "      dtype='object')"
      ]
     },
     "execution_count": 87,
     "metadata": {},
     "output_type": "execute_result"
    }
   ],
   "source": [
    "data_3.columns"
   ]
  },
  {
   "cell_type": "code",
   "execution_count": 88,
   "metadata": {},
   "outputs": [
    {
     "data": {
      "text/plain": [
       "Year                   int64\n",
       "Quarter                int64\n",
       "Month                  int64\n",
       "DayofMonth             int64\n",
       "DayOfWeek              int64\n",
       "FlightDate            object\n",
       "Reporting_Airline     object\n",
       "Origin                object\n",
       "OriginState           object\n",
       "Dest                  object\n",
       "DestState             object\n",
       "CRSDepTime             int64\n",
       "Cancelled            float64\n",
       "Diverted             float64\n",
       "Distance             float64\n",
       "DistanceGroup          int64\n",
       "ArrDelay             float64\n",
       "ArrDelayMinutes      float64\n",
       "is_delay             float64\n",
       "AirTime              float64\n",
       "DepHourofDay           int64\n",
       "dtype: object"
      ]
     },
     "execution_count": 88,
     "metadata": {},
     "output_type": "execute_result"
    }
   ],
   "source": [
    "data_3.dtypes"
   ]
  },
  {
   "cell_type": "markdown",
   "metadata": {},
   "source": [
    "Filtering the required columns:\n",
    "- *Date* is redundant, because you have *Year*, *Quarter*, *Month*, *DayofMonth*, and *DayOfWeek* to describe the date.\n",
    "- Use *Origin* and *Dest* codes instead of *OriginState* and *DestState*.\n",
    "- Because you are only classifying whether the flight is delayed or not, you don't need *TotalDelayMinutes*, *DepDelayMinutes*, and *ArrDelayMinutes*.\n",
    "\n",
    "Treat *DepHourofDay* as a categorical variable because it doesn't have any quantitative relation with the target.\n",
    "- If you needed to do a one-hot encoding of this variable, it would result in 23 more columns.\n",
    "- Other alternatives to handling categorical variables include hash encoding, regularized mean encoding, and bucketizing the values, among others.\n",
    "- In this case, you only need to split into buckets."
   ]
  },
  {
   "cell_type": "code",
   "execution_count": 89,
   "metadata": {},
   "outputs": [],
   "source": [
    "data_orig = data_3.copy()\n",
    "data_4 = data_3[[ 'is_delay', 'Quarter', 'Month', 'DayofMonth', 'DayOfWeek', \n",
    "       'Reporting_Airline', 'Origin', 'Dest','Distance','DepHourofDay']]\n",
    "categorical_columns  = ['Quarter', 'Month', 'DayofMonth', 'DayOfWeek', \n",
    "       'Reporting_Airline', 'Origin', 'Dest', 'DepHourofDay']\n",
    "for c in categorical_columns:\n",
    "    data_4[c] = data_4[c].astype('category')"
   ]
  },
  {
   "cell_type": "code",
   "execution_count": 90,
   "metadata": {
    "tags": []
   },
   "outputs": [
    {
     "data": {
      "text/plain": [
       "is_delay              float64\n",
       "Quarter              category\n",
       "Month                category\n",
       "DayofMonth           category\n",
       "DayOfWeek            category\n",
       "Reporting_Airline    category\n",
       "Origin               category\n",
       "Dest                 category\n",
       "Distance              float64\n",
       "DepHourofDay         category\n",
       "dtype: object"
      ]
     },
     "execution_count": 90,
     "metadata": {},
     "output_type": "execute_result"
    }
   ],
   "source": [
    "data_4.dtypes"
   ]
  },
  {
   "cell_type": "markdown",
   "metadata": {},
   "source": [
    "### One-hot Encoding"
   ]
  },
  {
   "cell_type": "code",
   "execution_count": 91,
   "metadata": {},
   "outputs": [
    {
     "name": "stdout",
     "output_type": "stream",
     "text": [
      "92\n"
     ]
    },
    {
     "data": {
      "text/plain": [
       "Index(['Quarter_2', 'Quarter_3', 'Quarter_4', 'Month_2', 'Month_3', 'Month_4',\n",
       "       'Month_5', 'Month_6', 'Month_7', 'Month_8', 'Month_9', 'Month_10',\n",
       "       'Month_11', 'Month_12', 'DayofMonth_2', 'DayofMonth_3', 'DayofMonth_4',\n",
       "       'DayofMonth_5', 'DayofMonth_6', 'DayofMonth_7', 'DayofMonth_8',\n",
       "       'DayofMonth_9', 'DayofMonth_10', 'DayofMonth_11', 'DayofMonth_12',\n",
       "       'DayofMonth_13', 'DayofMonth_14', 'DayofMonth_15', 'DayofMonth_16',\n",
       "       'DayofMonth_17', 'DayofMonth_18', 'DayofMonth_19', 'DayofMonth_20',\n",
       "       'DayofMonth_21', 'DayofMonth_22', 'DayofMonth_23', 'DayofMonth_24',\n",
       "       'DayofMonth_25', 'DayofMonth_26', 'DayofMonth_27', 'DayofMonth_28',\n",
       "       'DayofMonth_29', 'DayofMonth_30', 'DayofMonth_31', 'DayOfWeek_2',\n",
       "       'DayOfWeek_3', 'DayOfWeek_4', 'DayOfWeek_5', 'DayOfWeek_6',\n",
       "       'DayOfWeek_7', 'Reporting_Airline_DL', 'Reporting_Airline_OO',\n",
       "       'Reporting_Airline_UA', 'Reporting_Airline_WN', 'Origin_CLT',\n",
       "       'Origin_DEN', 'Origin_DFW', 'Origin_IAH', 'Origin_LAX', 'Origin_ORD',\n",
       "       'Origin_PHX', 'Origin_SFO', 'Dest_CLT', 'Dest_DEN', 'Dest_DFW',\n",
       "       'Dest_IAH', 'Dest_LAX', 'Dest_ORD', 'Dest_PHX', 'Dest_SFO',\n",
       "       'DepHourofDay_1', 'DepHourofDay_2', 'DepHourofDay_4', 'DepHourofDay_5',\n",
       "       'DepHourofDay_6', 'DepHourofDay_7', 'DepHourofDay_8', 'DepHourofDay_9',\n",
       "       'DepHourofDay_10', 'DepHourofDay_11', 'DepHourofDay_12',\n",
       "       'DepHourofDay_13', 'DepHourofDay_14', 'DepHourofDay_15',\n",
       "       'DepHourofDay_16', 'DepHourofDay_17', 'DepHourofDay_18',\n",
       "       'DepHourofDay_19', 'DepHourofDay_20', 'DepHourofDay_21',\n",
       "       'DepHourofDay_22', 'DepHourofDay_23'],\n",
       "      dtype='object')"
      ]
     },
     "execution_count": 91,
     "metadata": {},
     "output_type": "execute_result"
    }
   ],
   "source": [
    "data_dummies = pd.get_dummies(data_4[categorical_columns], drop_first=True) # \n",
    "print(len(data_dummies.columns))\n",
    "data_dummies.columns"
   ]
  },
  {
   "cell_type": "code",
   "execution_count": 92,
   "metadata": {},
   "outputs": [
    {
     "name": "stdout",
     "output_type": "stream",
     "text": [
      "data_4.shape:  (1635590, 10)\n",
      "data_4.columns.tolist():  ['is_delay', 'Quarter', 'Month', 'DayofMonth', 'DayOfWeek', 'Reporting_Airline', 'Origin', 'Dest', 'Distance', 'DepHourofDay']\n",
      "data_dummies.shape:  (1635590, 92)\n",
      "data_5.shape Before drop:  (1635590, 102)\n",
      "data_5.shape After drop:  (1635590, 94)\n",
      "Index(['is_delay', 'Distance', 'Quarter_2', 'Quarter_3', 'Quarter_4',\n",
      "       'Month_2', 'Month_3', 'Month_4', 'Month_5', 'Month_6', 'Month_7',\n",
      "       'Month_8', 'Month_9', 'Month_10', 'Month_11', 'Month_12',\n",
      "       'DayofMonth_2', 'DayofMonth_3', 'DayofMonth_4', 'DayofMonth_5',\n",
      "       'DayofMonth_6', 'DayofMonth_7', 'DayofMonth_8', 'DayofMonth_9',\n",
      "       'DayofMonth_10', 'DayofMonth_11', 'DayofMonth_12', 'DayofMonth_13',\n",
      "       'DayofMonth_14', 'DayofMonth_15', 'DayofMonth_16', 'DayofMonth_17',\n",
      "       'DayofMonth_18', 'DayofMonth_19', 'DayofMonth_20', 'DayofMonth_21',\n",
      "       'DayofMonth_22', 'DayofMonth_23', 'DayofMonth_24', 'DayofMonth_25',\n",
      "       'DayofMonth_26', 'DayofMonth_27', 'DayofMonth_28', 'DayofMonth_29',\n",
      "       'DayofMonth_30', 'DayofMonth_31', 'DayOfWeek_2', 'DayOfWeek_3',\n",
      "       'DayOfWeek_4', 'DayOfWeek_5', 'DayOfWeek_6', 'DayOfWeek_7',\n",
      "       'Reporting_Airline_DL', 'Reporting_Airline_OO', 'Reporting_Airline_UA',\n",
      "       'Reporting_Airline_WN', 'Origin_CLT', 'Origin_DEN', 'Origin_DFW',\n",
      "       'Origin_IAH', 'Origin_LAX', 'Origin_ORD', 'Origin_PHX', 'Origin_SFO',\n",
      "       'Dest_CLT', 'Dest_DEN', 'Dest_DFW', 'Dest_IAH', 'Dest_LAX', 'Dest_ORD',\n",
      "       'Dest_PHX', 'Dest_SFO', 'DepHourofDay_1', 'DepHourofDay_2',\n",
      "       'DepHourofDay_4', 'DepHourofDay_5', 'DepHourofDay_6', 'DepHourofDay_7',\n",
      "       'DepHourofDay_8', 'DepHourofDay_9', 'DepHourofDay_10',\n",
      "       'DepHourofDay_11', 'DepHourofDay_12', 'DepHourofDay_13',\n",
      "       'DepHourofDay_14', 'DepHourofDay_15', 'DepHourofDay_16',\n",
      "       'DepHourofDay_17', 'DepHourofDay_18', 'DepHourofDay_19',\n",
      "       'DepHourofDay_20', 'DepHourofDay_21', 'DepHourofDay_22',\n",
      "       'DepHourofDay_23'],\n",
      "      dtype='object')\n",
      "['is_delay', 'Distance', 'Quarter_2', 'Quarter_3', 'Quarter_4', 'Month_2', 'Month_3', 'Month_4', 'Month_5', 'Month_6', 'Month_7', 'Month_8', 'Month_9', 'Month_10', 'Month_11', 'Month_12', 'DayofMonth_2', 'DayofMonth_3', 'DayofMonth_4', 'DayofMonth_5', 'DayofMonth_6', 'DayofMonth_7', 'DayofMonth_8', 'DayofMonth_9', 'DayofMonth_10', 'DayofMonth_11', 'DayofMonth_12', 'DayofMonth_13', 'DayofMonth_14', 'DayofMonth_15', 'DayofMonth_16', 'DayofMonth_17', 'DayofMonth_18', 'DayofMonth_19', 'DayofMonth_20', 'DayofMonth_21', 'DayofMonth_22', 'DayofMonth_23', 'DayofMonth_24', 'DayofMonth_25', 'DayofMonth_26', 'DayofMonth_27', 'DayofMonth_28', 'DayofMonth_29', 'DayofMonth_30', 'DayofMonth_31', 'DayOfWeek_2', 'DayOfWeek_3', 'DayOfWeek_4', 'DayOfWeek_5', 'DayOfWeek_6', 'DayOfWeek_7', 'Reporting_Airline_DL', 'Reporting_Airline_OO', 'Reporting_Airline_UA', 'Reporting_Airline_WN', 'Origin_CLT', 'Origin_DEN', 'Origin_DFW', 'Origin_IAH', 'Origin_LAX', 'Origin_ORD', 'Origin_PHX', 'Origin_SFO', 'Dest_CLT', 'Dest_DEN', 'Dest_DFW', 'Dest_IAH', 'Dest_LAX', 'Dest_ORD', 'Dest_PHX', 'Dest_SFO', 'DepHourofDay_1', 'DepHourofDay_2', 'DepHourofDay_4', 'DepHourofDay_5', 'DepHourofDay_6', 'DepHourofDay_7', 'DepHourofDay_8', 'DepHourofDay_9', 'DepHourofDay_10', 'DepHourofDay_11', 'DepHourofDay_12', 'DepHourofDay_13', 'DepHourofDay_14', 'DepHourofDay_15', 'DepHourofDay_16', 'DepHourofDay_17', 'DepHourofDay_18', 'DepHourofDay_19', 'DepHourofDay_20', 'DepHourofDay_21', 'DepHourofDay_22', 'DepHourofDay_23']\n"
     ]
    }
   ],
   "source": [
    "print('data_4.shape: ', data_4.shape)\n",
    "print('data_4.columns.tolist(): ', data_4.columns.tolist())\n",
    "print('data_dummies.shape: ', data_dummies.shape)\n",
    "\n",
    "data_5 = pd.concat([data_4, data_dummies], axis = 1)\n",
    "###data_5 = pd.concat([data_orig, data_dummies], axis = 1)\n",
    "print('data_5.shape Before drop: ', data_5.shape)\n",
    "data_5.drop(categorical_columns, axis=1, inplace=True)\n",
    "print('data_5.shape After drop: ', data_5.shape)\n",
    "print(data_5.columns)\n",
    "print(data_5.columns.tolist())"
   ]
  },
  {
   "cell_type": "code",
   "execution_count": 93,
   "metadata": {},
   "outputs": [
    {
     "name": "stdout",
     "output_type": "stream",
     "text": [
      "['is_delay', 'Distance', 'Quarter_2', 'Quarter_3', 'Quarter_4', 'Month_2', 'Month_3', 'Month_4', 'Month_5', 'Month_6', 'Month_7', 'Month_8', 'Month_9', 'Month_10', 'Month_11', 'Month_12', 'DayofMonth_2', 'DayofMonth_3', 'DayofMonth_4', 'DayofMonth_5', 'DayofMonth_6', 'DayofMonth_7', 'DayofMonth_8', 'DayofMonth_9', 'DayofMonth_10', 'DayofMonth_11', 'DayofMonth_12', 'DayofMonth_13', 'DayofMonth_14', 'DayofMonth_15', 'DayofMonth_16', 'DayofMonth_17', 'DayofMonth_18', 'DayofMonth_19', 'DayofMonth_20', 'DayofMonth_21', 'DayofMonth_22', 'DayofMonth_23', 'DayofMonth_24', 'DayofMonth_25', 'DayofMonth_26', 'DayofMonth_27', 'DayofMonth_28', 'DayofMonth_29', 'DayofMonth_30', 'DayofMonth_31', 'DayOfWeek_2', 'DayOfWeek_3', 'DayOfWeek_4', 'DayOfWeek_5', 'DayOfWeek_6', 'DayOfWeek_7', 'Reporting_Airline_DL', 'Reporting_Airline_OO', 'Reporting_Airline_UA', 'Reporting_Airline_WN', 'Origin_CLT', 'Origin_DEN', 'Origin_DFW', 'Origin_IAH', 'Origin_LAX', 'Origin_ORD', 'Origin_PHX', 'Origin_SFO', 'Dest_CLT', 'Dest_DEN', 'Dest_DFW', 'Dest_IAH', 'Dest_LAX', 'Dest_ORD', 'Dest_PHX', 'Dest_SFO', 'DepHourofDay_1', 'DepHourofDay_2', 'DepHourofDay_4', 'DepHourofDay_5', 'DepHourofDay_6', 'DepHourofDay_7', 'DepHourofDay_8', 'DepHourofDay_9', 'DepHourofDay_10', 'DepHourofDay_11', 'DepHourofDay_12', 'DepHourofDay_13', 'DepHourofDay_14', 'DepHourofDay_15', 'DepHourofDay_16', 'DepHourofDay_17', 'DepHourofDay_18', 'DepHourofDay_19', 'DepHourofDay_20', 'DepHourofDay_21', 'DepHourofDay_22', 'DepHourofDay_23']\n",
      "\n",
      "[('is_delay', dtype('float64')), ('Distance', dtype('float64')), ('Quarter_2', dtype('bool')), ('Quarter_3', dtype('bool')), ('Quarter_4', dtype('bool')), ('Month_2', dtype('bool')), ('Month_3', dtype('bool')), ('Month_4', dtype('bool')), ('Month_5', dtype('bool')), ('Month_6', dtype('bool')), ('Month_7', dtype('bool')), ('Month_8', dtype('bool')), ('Month_9', dtype('bool')), ('Month_10', dtype('bool')), ('Month_11', dtype('bool')), ('Month_12', dtype('bool')), ('DayofMonth_2', dtype('bool')), ('DayofMonth_3', dtype('bool')), ('DayofMonth_4', dtype('bool')), ('DayofMonth_5', dtype('bool')), ('DayofMonth_6', dtype('bool')), ('DayofMonth_7', dtype('bool')), ('DayofMonth_8', dtype('bool')), ('DayofMonth_9', dtype('bool')), ('DayofMonth_10', dtype('bool')), ('DayofMonth_11', dtype('bool')), ('DayofMonth_12', dtype('bool')), ('DayofMonth_13', dtype('bool')), ('DayofMonth_14', dtype('bool')), ('DayofMonth_15', dtype('bool')), ('DayofMonth_16', dtype('bool')), ('DayofMonth_17', dtype('bool')), ('DayofMonth_18', dtype('bool')), ('DayofMonth_19', dtype('bool')), ('DayofMonth_20', dtype('bool')), ('DayofMonth_21', dtype('bool')), ('DayofMonth_22', dtype('bool')), ('DayofMonth_23', dtype('bool')), ('DayofMonth_24', dtype('bool')), ('DayofMonth_25', dtype('bool')), ('DayofMonth_26', dtype('bool')), ('DayofMonth_27', dtype('bool')), ('DayofMonth_28', dtype('bool')), ('DayofMonth_29', dtype('bool')), ('DayofMonth_30', dtype('bool')), ('DayofMonth_31', dtype('bool')), ('DayOfWeek_2', dtype('bool')), ('DayOfWeek_3', dtype('bool')), ('DayOfWeek_4', dtype('bool')), ('DayOfWeek_5', dtype('bool')), ('DayOfWeek_6', dtype('bool')), ('DayOfWeek_7', dtype('bool')), ('Reporting_Airline_DL', dtype('bool')), ('Reporting_Airline_OO', dtype('bool')), ('Reporting_Airline_UA', dtype('bool')), ('Reporting_Airline_WN', dtype('bool')), ('Origin_CLT', dtype('bool')), ('Origin_DEN', dtype('bool')), ('Origin_DFW', dtype('bool')), ('Origin_IAH', dtype('bool')), ('Origin_LAX', dtype('bool')), ('Origin_ORD', dtype('bool')), ('Origin_PHX', dtype('bool')), ('Origin_SFO', dtype('bool')), ('Dest_CLT', dtype('bool')), ('Dest_DEN', dtype('bool')), ('Dest_DFW', dtype('bool')), ('Dest_IAH', dtype('bool')), ('Dest_LAX', dtype('bool')), ('Dest_ORD', dtype('bool')), ('Dest_PHX', dtype('bool')), ('Dest_SFO', dtype('bool')), ('DepHourofDay_1', dtype('bool')), ('DepHourofDay_2', dtype('bool')), ('DepHourofDay_4', dtype('bool')), ('DepHourofDay_5', dtype('bool')), ('DepHourofDay_6', dtype('bool')), ('DepHourofDay_7', dtype('bool')), ('DepHourofDay_8', dtype('bool')), ('DepHourofDay_9', dtype('bool')), ('DepHourofDay_10', dtype('bool')), ('DepHourofDay_11', dtype('bool')), ('DepHourofDay_12', dtype('bool')), ('DepHourofDay_13', dtype('bool')), ('DepHourofDay_14', dtype('bool')), ('DepHourofDay_15', dtype('bool')), ('DepHourofDay_16', dtype('bool')), ('DepHourofDay_17', dtype('bool')), ('DepHourofDay_18', dtype('bool')), ('DepHourofDay_19', dtype('bool')), ('DepHourofDay_20', dtype('bool')), ('DepHourofDay_21', dtype('bool')), ('DepHourofDay_22', dtype('bool')), ('DepHourofDay_23', dtype('bool'))]\n",
      "\n"
     ]
    }
   ],
   "source": [
    "data_5_dtypes_series = data_5.dtypes\n",
    "data_5_dtypes_list = data_5_dtypes_series.tolist()\n",
    "data_5_col_name_list = data_5.columns.tolist()\n",
    "zip_of_col_name_dtype = zip(data_5_col_name_list, data_5_dtypes_list)\n",
    "print(data_5_col_name_list)\n",
    "print()\n",
    "print(list(zip_of_col_name_dtype))\n",
    "print()"
   ]
  },
  {
   "cell_type": "markdown",
   "metadata": {},
   "source": [
    "Check the length of the dataset and the new columns."
   ]
  },
  {
   "cell_type": "code",
   "execution_count": 94,
   "metadata": {},
   "outputs": [
    {
     "name": "stdout",
     "output_type": "stream",
     "text": [
      "92\n"
     ]
    }
   ],
   "source": [
    "# \n",
    "print(len(data_dummies.columns))"
   ]
  },
  {
   "cell_type": "code",
   "execution_count": 95,
   "metadata": {},
   "outputs": [
    {
     "data": {
      "text/plain": [
       "Quarter_2          bool\n",
       "Quarter_3          bool\n",
       "Quarter_4          bool\n",
       "Month_2            bool\n",
       "Month_3            bool\n",
       "                   ... \n",
       "DepHourofDay_19    bool\n",
       "DepHourofDay_20    bool\n",
       "DepHourofDay_21    bool\n",
       "DepHourofDay_22    bool\n",
       "DepHourofDay_23    bool\n",
       "Length: 92, dtype: object"
      ]
     },
     "execution_count": 95,
     "metadata": {},
     "output_type": "execute_result"
    }
   ],
   "source": [
    "data_dummies.dtypes"
   ]
  },
  {
   "cell_type": "markdown",
   "metadata": {},
   "source": [
    "Rename the **is_delay** column to *target*."
   ]
  },
  {
   "cell_type": "code",
   "execution_count": 96,
   "metadata": {},
   "outputs": [
    {
     "name": "stdout",
     "output_type": "stream",
     "text": [
      "92\n",
      "Index(['Quarter_2', 'Quarter_3', 'Quarter_4', 'Month_2', 'Month_3', 'Month_4',\n",
      "       'Month_5', 'Month_6', 'Month_7', 'Month_8', 'Month_9', 'Month_10',\n",
      "       'Month_11', 'Month_12', 'DayofMonth_2', 'DayofMonth_3', 'DayofMonth_4',\n",
      "       'DayofMonth_5', 'DayofMonth_6', 'DayofMonth_7', 'DayofMonth_8',\n",
      "       'DayofMonth_9', 'DayofMonth_10', 'DayofMonth_11', 'DayofMonth_12',\n",
      "       'DayofMonth_13', 'DayofMonth_14', 'DayofMonth_15', 'DayofMonth_16',\n",
      "       'DayofMonth_17', 'DayofMonth_18', 'DayofMonth_19', 'DayofMonth_20',\n",
      "       'DayofMonth_21', 'DayofMonth_22', 'DayofMonth_23', 'DayofMonth_24',\n",
      "       'DayofMonth_25', 'DayofMonth_26', 'DayofMonth_27', 'DayofMonth_28',\n",
      "       'DayofMonth_29', 'DayofMonth_30', 'DayofMonth_31', 'DayOfWeek_2',\n",
      "       'DayOfWeek_3', 'DayOfWeek_4', 'DayOfWeek_5', 'DayOfWeek_6',\n",
      "       'DayOfWeek_7', 'Reporting_Airline_DL', 'Reporting_Airline_OO',\n",
      "       'Reporting_Airline_UA', 'Reporting_Airline_WN', 'Origin_CLT',\n",
      "       'Origin_DEN', 'Origin_DFW', 'Origin_IAH', 'Origin_LAX', 'Origin_ORD',\n",
      "       'Origin_PHX', 'Origin_SFO', 'Dest_CLT', 'Dest_DEN', 'Dest_DFW',\n",
      "       'Dest_IAH', 'Dest_LAX', 'Dest_ORD', 'Dest_PHX', 'Dest_SFO',\n",
      "       'DepHourofDay_1', 'DepHourofDay_2', 'DepHourofDay_4', 'DepHourofDay_5',\n",
      "       'DepHourofDay_6', 'DepHourofDay_7', 'DepHourofDay_8', 'DepHourofDay_9',\n",
      "       'DepHourofDay_10', 'DepHourofDay_11', 'DepHourofDay_12',\n",
      "       'DepHourofDay_13', 'DepHourofDay_14', 'DepHourofDay_15',\n",
      "       'DepHourofDay_16', 'DepHourofDay_17', 'DepHourofDay_18',\n",
      "       'DepHourofDay_19', 'DepHourofDay_20', 'DepHourofDay_21',\n",
      "       'DepHourofDay_22', 'DepHourofDay_23'],\n",
      "      dtype='object')\n",
      "\n",
      "94\n",
      "Index(['target', 'Distance', 'Quarter_2', 'Quarter_3', 'Quarter_4', 'Month_2',\n",
      "       'Month_3', 'Month_4', 'Month_5', 'Month_6', 'Month_7', 'Month_8',\n",
      "       'Month_9', 'Month_10', 'Month_11', 'Month_12', 'DayofMonth_2',\n",
      "       'DayofMonth_3', 'DayofMonth_4', 'DayofMonth_5', 'DayofMonth_6',\n",
      "       'DayofMonth_7', 'DayofMonth_8', 'DayofMonth_9', 'DayofMonth_10',\n",
      "       'DayofMonth_11', 'DayofMonth_12', 'DayofMonth_13', 'DayofMonth_14',\n",
      "       'DayofMonth_15', 'DayofMonth_16', 'DayofMonth_17', 'DayofMonth_18',\n",
      "       'DayofMonth_19', 'DayofMonth_20', 'DayofMonth_21', 'DayofMonth_22',\n",
      "       'DayofMonth_23', 'DayofMonth_24', 'DayofMonth_25', 'DayofMonth_26',\n",
      "       'DayofMonth_27', 'DayofMonth_28', 'DayofMonth_29', 'DayofMonth_30',\n",
      "       'DayofMonth_31', 'DayOfWeek_2', 'DayOfWeek_3', 'DayOfWeek_4',\n",
      "       'DayOfWeek_5', 'DayOfWeek_6', 'DayOfWeek_7', 'Reporting_Airline_DL',\n",
      "       'Reporting_Airline_OO', 'Reporting_Airline_UA', 'Reporting_Airline_WN',\n",
      "       'Origin_CLT', 'Origin_DEN', 'Origin_DFW', 'Origin_IAH', 'Origin_LAX',\n",
      "       'Origin_ORD', 'Origin_PHX', 'Origin_SFO', 'Dest_CLT', 'Dest_DEN',\n",
      "       'Dest_DFW', 'Dest_IAH', 'Dest_LAX', 'Dest_ORD', 'Dest_PHX', 'Dest_SFO',\n",
      "       'DepHourofDay_1', 'DepHourofDay_2', 'DepHourofDay_4', 'DepHourofDay_5',\n",
      "       'DepHourofDay_6', 'DepHourofDay_7', 'DepHourofDay_8', 'DepHourofDay_9',\n",
      "       'DepHourofDay_10', 'DepHourofDay_11', 'DepHourofDay_12',\n",
      "       'DepHourofDay_13', 'DepHourofDay_14', 'DepHourofDay_15',\n",
      "       'DepHourofDay_16', 'DepHourofDay_17', 'DepHourofDay_18',\n",
      "       'DepHourofDay_19', 'DepHourofDay_20', 'DepHourofDay_21',\n",
      "       'DepHourofDay_22', 'DepHourofDay_23'],\n",
      "      dtype='object')\n"
     ]
    }
   ],
   "source": [
    "data_5.rename(columns = {'is_delay':'target'}, inplace=True )# \n",
    "print(len(data_dummies.columns))\n",
    "print(data_dummies.columns)\n",
    "print()\n",
    "print(len(data_5.columns))\n",
    "print(data_5.columns)"
   ]
  },
  {
   "cell_type": "code",
   "execution_count": 97,
   "metadata": {
    "tags": []
   },
   "outputs": [
    {
     "data": {
      "text/html": [
       "<div>\n",
       "<style scoped>\n",
       "    .dataframe tbody tr th:only-of-type {\n",
       "        vertical-align: middle;\n",
       "    }\n",
       "\n",
       "    .dataframe tbody tr th {\n",
       "        vertical-align: top;\n",
       "    }\n",
       "\n",
       "    .dataframe thead th {\n",
       "        text-align: right;\n",
       "    }\n",
       "</style>\n",
       "<table border=\"1\" class=\"dataframe\">\n",
       "  <thead>\n",
       "    <tr style=\"text-align: right;\">\n",
       "      <th></th>\n",
       "      <th>target</th>\n",
       "      <th>Distance</th>\n",
       "      <th>Quarter_2</th>\n",
       "      <th>Quarter_3</th>\n",
       "      <th>Quarter_4</th>\n",
       "      <th>Month_2</th>\n",
       "      <th>Month_3</th>\n",
       "      <th>Month_4</th>\n",
       "      <th>Month_5</th>\n",
       "      <th>Month_6</th>\n",
       "      <th>...</th>\n",
       "      <th>DepHourofDay_14</th>\n",
       "      <th>DepHourofDay_15</th>\n",
       "      <th>DepHourofDay_16</th>\n",
       "      <th>DepHourofDay_17</th>\n",
       "      <th>DepHourofDay_18</th>\n",
       "      <th>DepHourofDay_19</th>\n",
       "      <th>DepHourofDay_20</th>\n",
       "      <th>DepHourofDay_21</th>\n",
       "      <th>DepHourofDay_22</th>\n",
       "      <th>DepHourofDay_23</th>\n",
       "    </tr>\n",
       "  </thead>\n",
       "  <tbody>\n",
       "    <tr>\n",
       "      <th>0</th>\n",
       "      <td>0.0</td>\n",
       "      <td>731.0</td>\n",
       "      <td>True</td>\n",
       "      <td>False</td>\n",
       "      <td>False</td>\n",
       "      <td>False</td>\n",
       "      <td>False</td>\n",
       "      <td>True</td>\n",
       "      <td>False</td>\n",
       "      <td>False</td>\n",
       "      <td>...</td>\n",
       "      <td>False</td>\n",
       "      <td>False</td>\n",
       "      <td>False</td>\n",
       "      <td>False</td>\n",
       "      <td>False</td>\n",
       "      <td>True</td>\n",
       "      <td>False</td>\n",
       "      <td>False</td>\n",
       "      <td>False</td>\n",
       "      <td>False</td>\n",
       "    </tr>\n",
       "    <tr>\n",
       "      <th>1</th>\n",
       "      <td>0.0</td>\n",
       "      <td>731.0</td>\n",
       "      <td>True</td>\n",
       "      <td>False</td>\n",
       "      <td>False</td>\n",
       "      <td>False</td>\n",
       "      <td>False</td>\n",
       "      <td>True</td>\n",
       "      <td>False</td>\n",
       "      <td>False</td>\n",
       "      <td>...</td>\n",
       "      <td>False</td>\n",
       "      <td>False</td>\n",
       "      <td>False</td>\n",
       "      <td>True</td>\n",
       "      <td>False</td>\n",
       "      <td>False</td>\n",
       "      <td>False</td>\n",
       "      <td>False</td>\n",
       "      <td>False</td>\n",
       "      <td>False</td>\n",
       "    </tr>\n",
       "    <tr>\n",
       "      <th>2</th>\n",
       "      <td>1.0</td>\n",
       "      <td>2139.0</td>\n",
       "      <td>True</td>\n",
       "      <td>False</td>\n",
       "      <td>False</td>\n",
       "      <td>False</td>\n",
       "      <td>False</td>\n",
       "      <td>True</td>\n",
       "      <td>False</td>\n",
       "      <td>False</td>\n",
       "      <td>...</td>\n",
       "      <td>True</td>\n",
       "      <td>False</td>\n",
       "      <td>False</td>\n",
       "      <td>False</td>\n",
       "      <td>False</td>\n",
       "      <td>False</td>\n",
       "      <td>False</td>\n",
       "      <td>False</td>\n",
       "      <td>False</td>\n",
       "      <td>False</td>\n",
       "    </tr>\n",
       "    <tr>\n",
       "      <th>3</th>\n",
       "      <td>1.0</td>\n",
       "      <td>2139.0</td>\n",
       "      <td>True</td>\n",
       "      <td>False</td>\n",
       "      <td>False</td>\n",
       "      <td>False</td>\n",
       "      <td>False</td>\n",
       "      <td>True</td>\n",
       "      <td>False</td>\n",
       "      <td>False</td>\n",
       "      <td>...</td>\n",
       "      <td>False</td>\n",
       "      <td>False</td>\n",
       "      <td>False</td>\n",
       "      <td>False</td>\n",
       "      <td>False</td>\n",
       "      <td>False</td>\n",
       "      <td>False</td>\n",
       "      <td>False</td>\n",
       "      <td>False</td>\n",
       "      <td>False</td>\n",
       "    </tr>\n",
       "    <tr>\n",
       "      <th>4</th>\n",
       "      <td>1.0</td>\n",
       "      <td>2139.0</td>\n",
       "      <td>True</td>\n",
       "      <td>False</td>\n",
       "      <td>False</td>\n",
       "      <td>False</td>\n",
       "      <td>False</td>\n",
       "      <td>True</td>\n",
       "      <td>False</td>\n",
       "      <td>False</td>\n",
       "      <td>...</td>\n",
       "      <td>False</td>\n",
       "      <td>False</td>\n",
       "      <td>True</td>\n",
       "      <td>False</td>\n",
       "      <td>False</td>\n",
       "      <td>False</td>\n",
       "      <td>False</td>\n",
       "      <td>False</td>\n",
       "      <td>False</td>\n",
       "      <td>False</td>\n",
       "    </tr>\n",
       "  </tbody>\n",
       "</table>\n",
       "<p>5 rows × 94 columns</p>\n",
       "</div>"
      ],
      "text/plain": [
       "   target  Distance  Quarter_2  Quarter_3  Quarter_4  Month_2  Month_3  \\\n",
       "0     0.0     731.0       True      False      False    False    False   \n",
       "1     0.0     731.0       True      False      False    False    False   \n",
       "2     1.0    2139.0       True      False      False    False    False   \n",
       "3     1.0    2139.0       True      False      False    False    False   \n",
       "4     1.0    2139.0       True      False      False    False    False   \n",
       "\n",
       "   Month_4  Month_5  Month_6  ...  DepHourofDay_14  DepHourofDay_15  \\\n",
       "0     True    False    False  ...            False            False   \n",
       "1     True    False    False  ...            False            False   \n",
       "2     True    False    False  ...             True            False   \n",
       "3     True    False    False  ...            False            False   \n",
       "4     True    False    False  ...            False            False   \n",
       "\n",
       "   DepHourofDay_16  DepHourofDay_17  DepHourofDay_18  DepHourofDay_19  \\\n",
       "0            False            False            False             True   \n",
       "1            False             True            False            False   \n",
       "2            False            False            False            False   \n",
       "3            False            False            False            False   \n",
       "4             True            False            False            False   \n",
       "\n",
       "   DepHourofDay_20  DepHourofDay_21  DepHourofDay_22  DepHourofDay_23  \n",
       "0            False            False            False            False  \n",
       "1            False            False            False            False  \n",
       "2            False            False            False            False  \n",
       "3            False            False            False            False  \n",
       "4            False            False            False            False  \n",
       "\n",
       "[5 rows x 94 columns]"
      ]
     },
     "metadata": {},
     "output_type": "display_data"
    }
   ],
   "source": [
    "display(data_5.head(5))"
   ]
  },
  {
   "cell_type": "markdown",
   "metadata": {},
   "source": [
    "## BOOKMARK 2 -- Write Culminating DataFrame from Step 2 as CSV to 'step_2_df_filepath' filepath"
   ]
  },
  {
   "cell_type": "code",
   "execution_count": 98,
   "metadata": {},
   "outputs": [
    {
     "name": "stdout",
     "output_type": "stream",
     "text": [
      "/home/ec2-user/SageMaker/project/data/FlightDelays/data_orig_df.csv\n",
      "/home/ec2-user/SageMaker/project/data/FlightDelays/step_2_df.csv\n"
     ]
    }
   ],
   "source": [
    "data_orig_df_filepath = f\"{base_path}data_orig_df.csv\"\n",
    "print(data_orig_df_filepath)\n",
    "step_2_df_filepath = f\"{base_path}step_2_df.csv\"\n",
    "print(step_2_df_filepath)"
   ]
  },
  {
   "cell_type": "code",
   "execution_count": 99,
   "metadata": {},
   "outputs": [
    {
     "name": "stdout",
     "output_type": "stream",
     "text": [
      "Run time: 0.86 minutes\n"
     ]
    }
   ],
   "source": [
    "start = time.time()\n",
    "\n",
    "data_5.to_csv(step_2_df_filepath, index=False) \n",
    "data_orig.to_csv(data_orig_df_filepath, index=False) \n",
    "\n",
    "print(f'Run time: {round((time.time() - start)/60,2)} minutes')"
   ]
  },
  {
   "cell_type": "code",
   "execution_count": 100,
   "metadata": {},
   "outputs": [
    {
     "name": "stdout",
     "output_type": "stream",
     "text": [
      "-rw-rw-r-- 1 ec2-user ec2-user 908531077 Jul 22 19:33 /home/ec2-user/SageMaker/project/data/FlightDelays/step_2_df.csv\n"
     ]
    }
   ],
   "source": [
    "! ls -l {step_2_df_filepath}"
   ]
  },
  {
   "cell_type": "code",
   "execution_count": 101,
   "metadata": {},
   "outputs": [
    {
     "name": "stdout",
     "output_type": "stream",
     "text": [
      "-rw-rw-r-- 1 ec2-user ec2-user 138938414 Jul 22 19:33 /home/ec2-user/SageMaker/project/data/FlightDelays/data_orig_df.csv\n"
     ]
    }
   ],
   "source": [
    "! ls -l {data_orig_df_filepath}"
   ]
  },
  {
   "cell_type": "markdown",
   "metadata": {},
   "source": [
    "## ** Load Pandas DataFrame from 'step_2_df_filepath' for completing Step 3 and from 'data_orig_df_filepath' for 'data_orig' df"
   ]
  },
  {
   "cell_type": "code",
   "execution_count": 6,
   "metadata": {},
   "outputs": [
    {
     "name": "stdout",
     "output_type": "stream",
     "text": [
      "/home/ec2-user/SageMaker/project/data/FlightDelays/data_orig_df.csv\n",
      "data_orig.shape:  (1635590, 21)\n",
      "data_orig_first_16k.shape:  (16000, 21)\n",
      "/home/ec2-user/SageMaker/project/data/FlightDelays/step_2_df.csv\n",
      "data_all.shape:  (1635590, 94)\n",
      "data_first_16k.shape:  (16000, 94)\n"
     ]
    }
   ],
   "source": [
    "data_orig_df_filepath = f\"{base_path}data_orig_df.csv\"\n",
    "print(data_orig_df_filepath)\n",
    "data_orig = pd.read_csv(data_orig_df_filepath)\n",
    "print('data_orig.shape: ', data_orig.shape)\n",
    "data_orig_first_16k = data_orig[:16000]\n",
    "print('data_orig_first_16k.shape: ', data_orig_first_16k.shape)\n",
    "\n",
    "step_2_df_filepath = f\"{base_path}step_2_df.csv\"\n",
    "print(step_2_df_filepath)\n",
    "\n",
    "data_all = pd.read_csv(step_2_df_filepath)\n",
    "print('data_all.shape: ', data_all.shape)\n",
    "data_first_16k = data_all[:16000]\n",
    "print('data_first_16k.shape: ', data_first_16k.shape)\n",
    "data = data_first_16k\n",
    "###data = data_all"
   ]
  },
  {
   "cell_type": "code",
   "execution_count": 9,
   "metadata": {},
   "outputs": [
    {
     "name": "stdout",
     "output_type": "stream",
     "text": [
      "<class 'pandas.core.series.Series'>\n",
      "<class 'list'>\n",
      "(16000, 94)\n",
      "Index(['target', 'Distance', 'Quarter_2', 'Quarter_3', 'Quarter_4', 'Month_2',\n",
      "       'Month_3', 'Month_4', 'Month_5', 'Month_6', 'Month_7', 'Month_8',\n",
      "       'Month_9', 'Month_10', 'Month_11', 'Month_12', 'DayofMonth_2',\n",
      "       'DayofMonth_3', 'DayofMonth_4', 'DayofMonth_5', 'DayofMonth_6',\n",
      "       'DayofMonth_7', 'DayofMonth_8', 'DayofMonth_9', 'DayofMonth_10',\n",
      "       'DayofMonth_11', 'DayofMonth_12', 'DayofMonth_13', 'DayofMonth_14',\n",
      "       'DayofMonth_15', 'DayofMonth_16', 'DayofMonth_17', 'DayofMonth_18',\n",
      "       'DayofMonth_19', 'DayofMonth_20', 'DayofMonth_21', 'DayofMonth_22',\n",
      "       'DayofMonth_23', 'DayofMonth_24', 'DayofMonth_25', 'DayofMonth_26',\n",
      "       'DayofMonth_27', 'DayofMonth_28', 'DayofMonth_29', 'DayofMonth_30',\n",
      "       'DayofMonth_31', 'DayOfWeek_2', 'DayOfWeek_3', 'DayOfWeek_4',\n",
      "       'DayOfWeek_5', 'DayOfWeek_6', 'DayOfWeek_7', 'Reporting_Airline_DL',\n",
      "       'Reporting_Airline_OO', 'Reporting_Airline_UA', 'Reporting_Airline_WN',\n",
      "       'Origin_CLT', 'Origin_DEN', 'Origin_DFW', 'Origin_IAH', 'Origin_LAX',\n",
      "       'Origin_ORD', 'Origin_PHX', 'Origin_SFO', 'Dest_CLT', 'Dest_DEN',\n",
      "       'Dest_DFW', 'Dest_IAH', 'Dest_LAX', 'Dest_ORD', 'Dest_PHX', 'Dest_SFO',\n",
      "       'DepHourofDay_1', 'DepHourofDay_2', 'DepHourofDay_4', 'DepHourofDay_5',\n",
      "       'DepHourofDay_6', 'DepHourofDay_7', 'DepHourofDay_8', 'DepHourofDay_9',\n",
      "       'DepHourofDay_10', 'DepHourofDay_11', 'DepHourofDay_12',\n",
      "       'DepHourofDay_13', 'DepHourofDay_14', 'DepHourofDay_15',\n",
      "       'DepHourofDay_16', 'DepHourofDay_17', 'DepHourofDay_18',\n",
      "       'DepHourofDay_19', 'DepHourofDay_20', 'DepHourofDay_21',\n",
      "       'DepHourofDay_22', 'DepHourofDay_23'],\n",
      "      dtype='object')\n",
      "[dtype('float64'), dtype('float64'), dtype('bool'), dtype('bool'), dtype('bool'), dtype('bool'), dtype('bool'), dtype('bool'), dtype('bool'), dtype('bool'), dtype('bool'), dtype('bool'), dtype('bool'), dtype('bool'), dtype('bool'), dtype('bool'), dtype('bool'), dtype('bool'), dtype('bool'), dtype('bool'), dtype('bool'), dtype('bool'), dtype('bool'), dtype('bool'), dtype('bool'), dtype('bool'), dtype('bool'), dtype('bool'), dtype('bool'), dtype('bool'), dtype('bool'), dtype('bool'), dtype('bool'), dtype('bool'), dtype('bool'), dtype('bool'), dtype('bool'), dtype('bool'), dtype('bool'), dtype('bool'), dtype('bool'), dtype('bool'), dtype('bool'), dtype('bool'), dtype('bool'), dtype('bool'), dtype('bool'), dtype('bool'), dtype('bool'), dtype('bool'), dtype('bool'), dtype('bool'), dtype('bool'), dtype('bool'), dtype('bool'), dtype('bool'), dtype('bool'), dtype('bool'), dtype('bool'), dtype('bool'), dtype('bool'), dtype('bool'), dtype('bool'), dtype('bool'), dtype('bool'), dtype('bool'), dtype('bool'), dtype('bool'), dtype('bool'), dtype('bool'), dtype('bool'), dtype('bool'), dtype('bool'), dtype('bool'), dtype('bool'), dtype('bool'), dtype('bool'), dtype('bool'), dtype('bool'), dtype('bool'), dtype('bool'), dtype('bool'), dtype('bool'), dtype('bool'), dtype('bool'), dtype('bool'), dtype('bool'), dtype('bool'), dtype('bool'), dtype('bool'), dtype('bool'), dtype('bool'), dtype('bool'), dtype('bool')]\n"
     ]
    }
   ],
   "source": [
    "###Function for checking which Columns are showing as having a string/object data type\n",
    "\n",
    "def inspect_df(df):\n",
    "    if isinstance(df, pd.DataFrame):\n",
    "        df_dtypes_series = df.dtypes\n",
    "        df_dtypes_list = df_dtypes_series.tolist()\n",
    "        print(\"Is a Pandas DataFrame!\")\n",
    "        print('Shape =', df.shape)\n",
    "        \n",
    "        # Check if any column has 'object' (string) dtype\n",
    "        has_string_columns = (df.dtypes == 'object').any()\n",
    "        if has_string_columns:\n",
    "            print(\"At least one column has a string data type.\")\n",
    "        else:\n",
    "            print(\"No columns have a string data type.\")\n",
    "        \n",
    "        print('All Column names: ')\n",
    "        print(df.columns)\n",
    "        print('Boolean Column names: ')\n",
    "        bool_cols = df.select_dtypes(include='bool').columns\n",
    "        print(bool_cols)\n",
    "        print(df_dtypes_list)\n",
    "        display(df.head(5))\n",
    "    else:\n",
    "        print('Not a Pandas DataFrame!')\n",
    "        print('Data Structure is: ', type(df))\n",
    "\n",
    "inspect_df(data)"
   ]
  },
  {
   "cell_type": "markdown",
   "metadata": {},
   "source": [
    "# Step 3: Model training and evaluation\n",
    "\n",
    "You must include some preliminary steps when you convert the dataset from a DataFrame to a format that a machine learning algorithm can use. For Amazon SageMaker, you must perform these steps:\n",
    "\n",
    "1. Split the data into `train_data`, `validation_data`, and `test_data` by using `sklearn.model_selection.train_test_split`.  \n",
    "\n",
    "2. Convert the dataset to an appropriate file format that the Amazon SageMaker training job can use. This can be either a CSV file or record protobuf. For more information, see [Common Data Formats for Training](https://docs.aws.amazon.com/sagemaker/latest/dg/cdf-training.html).  \n",
    "\n",
    "3. Upload the data to your S3 bucket. If you haven't created one before, see [Create a Bucket](https://docs.aws.amazon.com/AmazonS3/latest/gsg/CreatingABucket.html).  \n",
    "\n",
    "Use the following cells to complete these steps. Insert and delete cells where needed.\n",
    "\n",
    "#### <span style=\"color: blue;\">Project presentation: In your project presentation, write down the key decisions that you made in this phase.</span>"
   ]
  },
  {
   "cell_type": "markdown",
   "metadata": {},
   "source": [
    "### 3-1. Train-Validate-Test Split"
   ]
  },
  {
   "cell_type": "code",
   "execution_count": 15,
   "metadata": {},
   "outputs": [],
   "source": [
    "from sklearn.model_selection import train_test_split\n",
    "def split_data(data):\n",
    "    train, test_and_validate = train_test_split(data, test_size=0.2, random_state=42, stratify=data['target'])\n",
    "    test, validate = train_test_split(test_and_validate, test_size=0.5, random_state=42, stratify=test_and_validate['target'])\n",
    "    return train, validate, test"
   ]
  },
  {
   "cell_type": "code",
   "execution_count": 16,
   "metadata": {},
   "outputs": [
    {
     "name": "stdout",
     "output_type": "stream",
     "text": [
      "list_of_col_names:  Index(['target', 'Distance', 'Quarter_2', 'Quarter_3', 'Quarter_4', 'Month_2',\n",
      "       'Month_3', 'Month_4', 'Month_5', 'Month_6', 'Month_7', 'Month_8',\n",
      "       'Month_9', 'Month_10', 'Month_11', 'Month_12', 'DayofMonth_2',\n",
      "       'DayofMonth_3', 'DayofMonth_4', 'DayofMonth_5', 'DayofMonth_6',\n",
      "       'DayofMonth_7', 'DayofMonth_8', 'DayofMonth_9', 'DayofMonth_10',\n",
      "       'DayofMonth_11', 'DayofMonth_12', 'DayofMonth_13', 'DayofMonth_14',\n",
      "       'DayofMonth_15', 'DayofMonth_16', 'DayofMonth_17', 'DayofMonth_18',\n",
      "       'DayofMonth_19', 'DayofMonth_20', 'DayofMonth_21', 'DayofMonth_22',\n",
      "       'DayofMonth_23', 'DayofMonth_24', 'DayofMonth_25', 'DayofMonth_26',\n",
      "       'DayofMonth_27', 'DayofMonth_28', 'DayofMonth_29', 'DayofMonth_30',\n",
      "       'DayofMonth_31', 'DayOfWeek_2', 'DayOfWeek_3', 'DayOfWeek_4',\n",
      "       'DayOfWeek_5', 'DayOfWeek_6', 'DayOfWeek_7', 'Reporting_Airline_DL',\n",
      "       'Reporting_Airline_OO', 'Reporting_Airline_UA', 'Reporting_Airline_WN',\n",
      "       'Origin_CLT', 'Origin_DEN', 'Origin_DFW', 'Origin_IAH', 'Origin_LAX',\n",
      "       'Origin_ORD', 'Origin_PHX', 'Origin_SFO', 'Dest_CLT', 'Dest_DEN',\n",
      "       'Dest_DFW', 'Dest_IAH', 'Dest_LAX', 'Dest_ORD', 'Dest_PHX', 'Dest_SFO',\n",
      "       'DepHourofDay_1', 'DepHourofDay_2', 'DepHourofDay_4', 'DepHourofDay_5',\n",
      "       'DepHourofDay_6', 'DepHourofDay_7', 'DepHourofDay_8', 'DepHourofDay_9',\n",
      "       'DepHourofDay_10', 'DepHourofDay_11', 'DepHourofDay_12',\n",
      "       'DepHourofDay_13', 'DepHourofDay_14', 'DepHourofDay_15',\n",
      "       'DepHourofDay_16', 'DepHourofDay_17', 'DepHourofDay_18',\n",
      "       'DepHourofDay_19', 'DepHourofDay_20', 'DepHourofDay_21',\n",
      "       'DepHourofDay_22', 'DepHourofDay_23'],\n",
      "      dtype='object')\n",
      "<class 'pandas.core.frame.DataFrame'>\n",
      "<class 'pandas.core.frame.DataFrame'>\n",
      "<class 'pandas.core.frame.DataFrame'>\n",
      "target\n",
      "0.0    1033806\n",
      "1.0     274666\n",
      "Name: count, dtype: int64\n",
      "target\n",
      "0.0    129226\n",
      "1.0     34333\n",
      "Name: count, dtype: int64\n",
      "target\n",
      "0.0    129226\n",
      "1.0     34333\n",
      "Name: count, dtype: int64\n",
      "\n",
      "target\n",
      "0.0    0.790086\n",
      "1.0    0.209914\n",
      "Name: count, dtype: float64\n",
      "target\n",
      "0.0    0.790088\n",
      "1.0    0.209912\n",
      "Name: count, dtype: float64\n",
      "target\n",
      "0.0    0.790088\n",
      "1.0    0.209912\n",
      "Name: count, dtype: float64\n"
     ]
    }
   ],
   "source": [
    "##Capture Column names of 'data' DataFrame as a List\n",
    "list_of_col_names = data.columns\n",
    "print('list_of_col_names: ', list_of_col_names)\n",
    "\n",
    "train, validate, test = split_data(data)\n",
    "print(type(train))\n",
    "print(type(validate))\n",
    "print(type(test))\n",
    "\n",
    "train_target_series = train['target']\n",
    "validate_target_series = validate['target']\n",
    "test_target_series = test['target']\n",
    "\n",
    "print(train_target_series.value_counts())\n",
    "print(validate_target_series.value_counts())\n",
    "print(test_target_series.value_counts())\n",
    "\n",
    "print()\n",
    "print(train_target_series.value_counts()/train_target_series.count())\n",
    "print(validate_target_series.value_counts()/validate_target_series.count())\n",
    "print(test_target_series.value_counts()/test_target_series.count())"
   ]
  },
  {
   "cell_type": "markdown",
   "metadata": {},
   "source": [
    "## Train Model with SageMaker SDK Version 2 (2.248.2)"
   ]
  },
  {
   "cell_type": "code",
   "execution_count": 22,
   "metadata": {},
   "outputs": [
    {
     "name": "stdout",
     "output_type": "stream",
     "text": [
      "sagemaker.config INFO - Not applying SDK defaults from location: /etc/xdg/sagemaker/config.yaml\n",
      "sagemaker.config INFO - Not applying SDK defaults from location: /home/ec2-user/.config/sagemaker/config.yaml\n",
      "SageMaker SDK Version: 2.248.1\n"
     ]
    }
   ],
   "source": [
    "import sagemaker\n",
    "\n",
    "# Print the installed version of the sagemaker library\n",
    "print(f\"SageMaker SDK Version: {sagemaker.__version__}\")"
   ]
  },
  {
   "cell_type": "markdown",
   "metadata": {},
   "source": [
    "### CHECK volulme storage space (utilization and availability) within SageMaker notebook instance"
   ]
  },
  {
   "cell_type": "code",
   "execution_count": 23,
   "metadata": {},
   "outputs": [
    {
     "name": "stdout",
     "output_type": "stream",
     "text": [
      "Filesystem      Size  Used Avail Use% Mounted on\n",
      "devtmpfs        7.8G     0  7.8G   0% /dev\n",
      "tmpfs           7.9G     0  7.9G   0% /dev/shm\n",
      "tmpfs           7.9G  668K  7.9G   1% /run\n",
      "tmpfs           7.9G     0  7.9G   0% /sys/fs/cgroup\n",
      "/dev/xvda1      135G   79G   57G  58% /\n",
      "/dev/xvdf        25G 1002M   23G   5% /home/ec2-user/SageMaker\n",
      "tmpfs           1.6G     0  1.6G   0% /run/user/1001\n",
      "tmpfs           1.6G     0  1.6G   0% /run/user/1002\n",
      "tmpfs           1.6G     0  1.6G   0% /run/user/1000\n",
      "tmpfs           1.6G     0  1.6G   0% /run/user/0\n"
     ]
    }
   ],
   "source": [
    "! df -h"
   ]
  },
  {
   "cell_type": "code",
   "execution_count": 24,
   "metadata": {},
   "outputs": [
    {
     "name": "stdout",
     "output_type": "stream",
     "text": [
      "Filesystem      Size  Used Avail Use% Mounted on\n",
      "/dev/xvdf        25G 1002M   23G   5% /home/ec2-user/SageMaker\n"
     ]
    }
   ],
   "source": [
    "! df -h /dev/xvdf"
   ]
  },
  {
   "cell_type": "markdown",
   "metadata": {},
   "source": [
    "## 3-2. Convert DataFrame of train, validate, and test sets to Arrays with Non-string/object data types"
   ]
  },
  {
   "cell_type": "code",
   "execution_count": 26,
   "metadata": {},
   "outputs": [
    {
     "name": "stdout",
     "output_type": "stream",
     "text": [
      "\n",
      "List of column names with string or object data type:\n",
      "[]\n",
      "\n",
      "DataFrame object dtypes after astype(bool):\n",
      "Series([], dtype: object)\n",
      "\n",
      "List of column names with string or object data type:\n",
      "[]\n",
      "\n",
      "DataFrame object dtypes after astype(bool):\n",
      "Series([], dtype: object)\n",
      "\n",
      "List of column names with string or object data type:\n",
      "[]\n",
      "\n",
      "DataFrame object dtypes after astype(bool):\n",
      "Series([], dtype: object)\n",
      "\n",
      "type(df_to_array_float):  <class 'numpy.ndarray'>\n",
      "shape of df_to_array_float =  (1308472, 94)\n",
      "Data types of elements in df_to_array_float:  float32\n",
      "\n",
      "type(df_to_array_float):  <class 'numpy.ndarray'>\n",
      "shape of df_to_array_float =  (163559, 94)\n",
      "Data types of elements in df_to_array_float:  float32\n",
      "\n",
      "type(df_to_array_float):  <class 'numpy.ndarray'>\n",
      "shape of df_to_array_float =  (163559, 94)\n",
      "Data types of elements in df_to_array_float:  float32\n",
      "Run time: 0.47 minutes\n"
     ]
    }
   ],
   "source": [
    "start = time.time()\n",
    "\n",
    "##Function for converting Dataframe to Array with all items having a float datatype\n",
    "def df_to_float_array(df):\n",
    "    df_to_array = df.values\n",
    "    df_to_list_of_lists = df_to_array.tolist()\n",
    "    #print(type(df))\n",
    "    #print(type(df_to_array))\n",
    "    #print(type(df_to_list_of_lists))\n",
    "    df_to_list_of_arrays_float = []\n",
    "    for sublist in df_to_list_of_lists:\n",
    "        new_sublist = []\n",
    "        sublist_array = np.array(sublist)\n",
    "        sublist_array_float = sublist_array.astype(np.float32)\n",
    "        df_to_list_of_arrays_float.append(sublist_array_float)\n",
    "    df_to_array_float = np.array(df_to_list_of_arrays_float)\n",
    "    print(\"\\ntype(df_to_array_float): \", type(df_to_array_float))\n",
    "    print(\"shape of df_to_array_float = \", df_to_array_float.shape)\n",
    "    print(\"Data types of elements in df_to_array_float: \", df_to_array_float.dtype)\n",
    "    #print()\n",
    "    return df_to_array_float\n",
    "\n",
    "##Function for converting DataFrame columns with String or Object datatype to a Boolean\n",
    "def convert_object_cols_to_bool(df):\n",
    "    #Select columns with 'object' (string) data type\n",
    "    object_columns_df = df.select_dtypes(include=['object'])\n",
    "\n",
    "    #Get a list of the column names\n",
    "    object_column_names = object_columns_df.columns.tolist()\n",
    "\n",
    "    print('\\nList of column names with string or object data type:')\n",
    "    print(object_column_names)\n",
    "\n",
    "    #Convert cols with string/object type to boolean\n",
    "    df[object_column_names] = df[object_column_names].astype(bool)\n",
    "\n",
    "    print(\"\\nDataFrame object dtypes after astype(bool):\")\n",
    "    print(df[object_column_names].dtypes)\n",
    "    #print(\"\\nDataFrame content after astype(bool):\")\n",
    "    #print(df[object_column_names].head(5))\n",
    "    return df\n",
    "\n",
    "train_no_objects = convert_object_cols_to_bool(train)\n",
    "validate_no_objects = convert_object_cols_to_bool(validate)\n",
    "test_no_objects = convert_object_cols_to_bool(test)\n",
    "\n",
    "train_array_float = df_to_float_array(train_no_objects)\n",
    "validate_array_float = df_to_float_array(validate_no_objects)\n",
    "test_array_float = df_to_float_array(test_no_objects)\n",
    "\n",
    "print(f'Run time: {round((time.time() - start)/60,2)} minutes')"
   ]
  },
  {
   "cell_type": "markdown",
   "metadata": {},
   "source": [
    "## 3-3. Imports for Building LinearLearner Model"
   ]
  },
  {
   "cell_type": "code",
   "execution_count": 27,
   "metadata": {},
   "outputs": [
    {
     "name": "stdout",
     "output_type": "stream",
     "text": [
      "Using S3 bucket: sagemaker-us-east-1-496057999101\n",
      "Using the following prefix: sagemaker/ll-records\n"
     ]
    }
   ],
   "source": [
    "import sagemaker\n",
    "import boto3\n",
    "import pandas as pd\n",
    "import numpy as np\n",
    "from sagemaker import get_execution_role\n",
    "# We no longer need TrainingInput for this workflow\n",
    "from sagemaker import LinearLearner\n",
    "\n",
    "from sklearn.model_selection import train_test_split\n",
    "from sagemaker.analytics import TrainingJobAnalytics\n",
    "import time\n",
    "import matplotlib.pyplot as plt\n",
    "import seaborn as sns\n",
    "\n",
    "# 1. Setup SageMaker Session and Role (Unchanged)\n",
    "sagemaker_session = sagemaker.Session()\n",
    "role = get_execution_role()\n",
    "bucket = sagemaker_session.default_bucket()\n",
    "prefix = 'sagemaker/ll-records'\n",
    "\n",
    "print(f\"Using S3 bucket: {bucket}\")\n",
    "print(f\"Using the following prefix: {prefix}\")"
   ]
  },
  {
   "cell_type": "markdown",
   "metadata": {},
   "source": [
    "## 3-4. Create X and y for training, validation, and test sets"
   ]
  },
  {
   "cell_type": "code",
   "execution_count": 28,
   "metadata": {},
   "outputs": [
    {
     "name": "stdout",
     "output_type": "stream",
     "text": [
      "Training set shape: (1308472, 93)\n",
      "Validation set shape: (163559, 93)\n",
      "Test set shape: (163559, 93)\n",
      "Training target shape: (1308472,)\n",
      "Validation target shape: (163559,)\n",
      "Test target shape: (163559,)\n"
     ]
    }
   ],
   "source": [
    "## Create X and y for training, validation, and test sets\n",
    "\n",
    "X_train = train_array_float[:,1:]\n",
    "y_train = train_array_float[:,0]\n",
    "X_val = validate_array_float[:,1:]\n",
    "y_val = validate_array_float[:,0]\n",
    "X_test = test_array_float[:,1:]\n",
    "y_test = test_array_float[:,0]\n",
    "\n",
    "print(f\"Training set shape: {X_train.shape}\")\n",
    "print(f\"Validation set shape: {X_val.shape}\")\n",
    "print(f\"Test set shape: {X_test.shape}\")\n",
    "\n",
    "print(f\"Training target shape: {y_train.shape}\")\n",
    "print(f\"Validation target shape: {y_val.shape}\")\n",
    "print(f\"Test target shape: {y_test.shape}\")"
   ]
  },
  {
   "cell_type": "markdown",
   "metadata": {},
   "source": [
    "## 3-5. {OPTIONAL Cell to run} Ensure training, validation, and test set Arrays are of dtype of Float32"
   ]
  },
  {
   "cell_type": "code",
   "execution_count": 29,
   "metadata": {},
   "outputs": [
    {
     "name": "stdout",
     "output_type": "stream",
     "text": [
      "\n",
      "Initial Data type of array:  float32\n",
      "Data type of Converted (to Float32) array:  float32\n",
      "Initial Data type of array:  float32\n",
      "Data type of Converted (to Float32) array:  float32\n",
      "Initial Data type of array:  float32\n",
      "Data type of Converted (to Float32) array:  float32\n",
      "<class 'zip'>\n",
      "<zip object at 0x7fb3ccd51a00>\n",
      "0\n",
      "Initial Data type of array:  float32\n",
      "Data type of Converted (to Float32) array:  float32\n",
      "Array dtype:  float32\n",
      "Array Shape:  (1308472, 93)\n",
      "1\n",
      "Initial Data type of array:  float32\n",
      "Data type of Converted (to Float32) array:  float32\n",
      "Array dtype:  float32\n",
      "Array Shape:  (1308472,)\n",
      "2\n",
      "Initial Data type of array:  float32\n",
      "Data type of Converted (to Float32) array:  float32\n",
      "Array dtype:  float32\n",
      "Array Shape:  (163559, 93)\n",
      "3\n",
      "Initial Data type of array:  float32\n",
      "Data type of Converted (to Float32) array:  float32\n",
      "Array dtype:  float32\n",
      "Array Shape:  (163559,)\n",
      "4\n",
      "Initial Data type of array:  float32\n",
      "Data type of Converted (to Float32) array:  float32\n",
      "Array dtype:  float32\n",
      "Array Shape:  (163559, 93)\n",
      "5\n",
      "Initial Data type of array:  float32\n",
      "Data type of Converted (to Float32) array:  float32\n",
      "Array dtype:  float32\n",
      "Array Shape:  (163559,)\n",
      "\n",
      "Length of dict_of_converted_arrays = 6\n",
      "type(dict_of_converted_arrays['X_train_float32']):  <class 'numpy.ndarray'>\n",
      "dict_of_converted_arrays['X_train_float32'].dtype:  float32\n",
      "dict_of_converted_arrays['X_train_float32'].shape:  (1308472, 93)\n",
      "\n",
      "Run time: 0.01 minutes\n"
     ]
    }
   ],
   "source": [
    "start = time.time()\n",
    "\n",
    "print()\n",
    "\n",
    "def assess_array_dtype(array):\n",
    "    print('Data type of array: ', array.dtype)\n",
    "\n",
    "def convert_array_to_float32(array):\n",
    "    print('Initial Data type of array: ', array.dtype)\n",
    "    array_float32 = array.astype(np.float32)\n",
    "    print('Data type of Converted (to Float32) array: ', array_float32.dtype)\n",
    "    return array_float32\n",
    "\n",
    "def convert_array_to_int(array):\n",
    "    print('Initial Data type of array: ', array.dtype)\n",
    "    array_int = array.astype(int)\n",
    "    array_int32 = array_int.astype(np.int32)\n",
    "    print('Data type of Converted (to int) array: ', array_int.dtype)\n",
    "    print('Data type of Converted (to int) array: ', array_int32.dtype)\n",
    "    return array_int\n",
    "\n",
    "\n",
    "### Ensure Training, Validation, and Test sets are all of data type Float32\n",
    "train_array_float = convert_array_to_float32(train_array_float)\n",
    "validate_array_float = convert_array_to_float32(validate_array_float)\n",
    "test_array_float = convert_array_to_float32(test_array_float)\n",
    "\n",
    "###For Converting Features and Labels to Float32\n",
    "list_converted_array_names = [\n",
    "    'X_train_float32', 'y_train_float32', \n",
    "    'X_val_float32', 'y_val_float32', \n",
    "    'X_test_float32', 'y_test_float32'\n",
    "]\n",
    "\n",
    "### Create Dictionary of all Cross Validation Feature and Target data sets\n",
    "list_of_arrays_to_convert = [X_train, y_train, X_val, y_val, X_test, y_test]\n",
    "\n",
    "zip_of_converted_arrays = zip(list_converted_array_names, list_of_arrays_to_convert)\n",
    "print(type(zip_of_converted_arrays))\n",
    "print(zip_of_converted_arrays)\n",
    "\n",
    "dict_of_converted_arrays = {}\n",
    "\n",
    "# ###For Converting Features and Labels to Float32\n",
    "for index, val in enumerate(zip_of_converted_arrays):\n",
    "    print(index)\n",
    "    #print(val[0])\n",
    "    #print(val[1])\n",
    "    dict_of_converted_arrays[val[0]] = convert_array_to_float32(val[1])\n",
    "    print('Array dtype: ', dict_of_converted_arrays[val[0]].dtype)\n",
    "    print('Array Shape: ', dict_of_converted_arrays[val[0]].shape)\n",
    "    \n",
    "print()\n",
    "print(\"Length of dict_of_converted_arrays = {}\".format(len(dict_of_converted_arrays)))\n",
    "print(\"type(dict_of_converted_arrays['X_train_float32']): \", type(dict_of_converted_arrays['X_train_float32']))\n",
    "print(\"dict_of_converted_arrays['X_train_float32'].dtype: \", dict_of_converted_arrays['X_train_float32'].dtype)\n",
    "print(\"dict_of_converted_arrays['X_train_float32'].shape: \", dict_of_converted_arrays['X_train_float32'].shape)\n",
    "print()\n",
    "\n",
    "print(f'Run time: {round((time.time() - start)/60,2)} minutes')"
   ]
  },
  {
   "cell_type": "markdown",
   "metadata": {},
   "source": [
    "## 3-6. Create LinearLearner Estimator"
   ]
  },
  {
   "cell_type": "code",
   "execution_count": 30,
   "metadata": {},
   "outputs": [
    {
     "name": "stdout",
     "output_type": "stream",
     "text": [
      "Training data shapes:   Features=(1308472, 93), Labels=(1308472,)\n",
      "Validation data shapes: Features=(163559, 93), Labels=(163559,)\n",
      "Formatting data and uploading to S3...\n"
     ]
    },
    {
     "name": "stderr",
     "output_type": "stream",
     "text": [
      "INFO:sagemaker.image_uris:Same images used for training and inference. Defaulting to image scope: inference.\n",
      "INFO:sagemaker.image_uris:Ignoring unnecessary instance type: None.\n",
      "INFO:sagemaker:Creating training-job with name: linear-learner-2025-07-22-22-24-47-649\n"
     ]
    },
    {
     "name": "stdout",
     "output_type": "stream",
     "text": [
      "Data upload complete.\n",
      "Starting model training...\n",
      "2025-07-22 22:24:51 Starting - Starting the training job...\n",
      "2025-07-22 22:25:06 Starting - Preparing the instances for training...\n",
      "2025-07-22 22:25:29 Downloading - Downloading input data...\n",
      "2025-07-22 22:26:09 Downloading - Downloading the training image.........\n",
      "2025-07-22 22:27:30 Training - Training image download completed. Training in progress......................\n",
      "2025-07-22 22:31:09 Uploading - Uploading generated training model\n",
      "2025-07-22 22:31:09 Completed - Training job completed\n",
      "..Training seconds: 341\n",
      "Billable seconds: 341\n",
      "Training complete!\n",
      "\n",
      "Completed training job: linear-learner-2025-07-22-22-24-47-649\n",
      "{'validation:objective_loss': 0.49219319224357605, 'train:progress': 100.0, 'validation:binary_classification_accuracy': 0.7901002168655396, 'validation:recall': 0.003000029129907489, 'train:throughput': 37631.02734375, 'validation:roc_auc_score': 0.6435012817382812, 'train:objective_loss': 0.4918709397315979, 'validation:objective_loss:final': 0.492524117231369, 'validation:binary_f_beta': 0.00596461771056056, 'validation:precision': 0.5049019455909729}\n",
      "Run time: 7.72 minutes\n"
     ]
    }
   ],
   "source": [
    "start = time.time()\n",
    "\n",
    "###Create the LinearLearner Estimator (Unchanged)\n",
    "ll_estimator = LinearLearner(\n",
    "    role=role,\n",
    "    instance_count=1,\n",
    "    #instance_type='ml.m5.large',\n",
    "    instance_type='ml.m4.xlarge',\n",
    "    predictor_type='binary_classifier',\n",
    "    feature_dim=2,\n",
    "    mini_batch_size=100,\n",
    "    binary_classifier_model_selection_criteria = 'cross_entropy_loss',\n",
    "    # Add this line to enable metric calculation\n",
    "    #eval_metrics=['accuracy', 'binary_f1', 'precision', 'recall'],\n",
    "    #eval_metrics=['validation:precision', 'recall'],\n",
    "    eval_metrics=['validation:precision', 'validation:recall', 'validation:f1', 'validation:accuracy'],\n",
    "    sagemaker_session=sagemaker_session\n",
    ")\n",
    "\n",
    "\n",
    "###Create RecordSet objects 💡\n",
    "# Add this check before your ll_estimator.record_set() calls\n",
    "print(f\"Training data shapes:   Features={X_train.shape}, Labels={y_train.shape}\")\n",
    "print(f\"Validation data shapes: Features={X_val.shape}, Labels={y_val.shape}\")\n",
    "\n",
    "# This is the new, simplified way to handle data.\n",
    "# The .record_set() method converts NumPy arrays to the required format and uploads them to a specified S3 location.\n",
    "print(\"Formatting data and uploading to S3...\")\n",
    "train_records = ll_estimator.record_set(X_train, y_train, channel='train')\n",
    "validation_records = ll_estimator.record_set(X_val, y_val, channel='validation')\n",
    "print(\"Data upload complete.\")\n",
    "\n",
    "\n",
    "###Launch the training job with the correct fit() signature\n",
    "# We now pass a list of RecordSet objects.\n",
    "print(\"Starting model training...\")\n",
    "ll_estimator.fit([train_records, validation_records])\n",
    "print(\"Training complete!\")\n",
    "\n",
    "\n",
    "###Get the Training Job Name\n",
    "# This is the key piece of information you need for analytics\n",
    "training_job_name = ll_estimator.latest_training_job.name\n",
    "print(f\"\\nCompleted training job: {training_job_name}\")\n",
    "\n",
    "\n",
    "###Use SageMaker SDK/API to programmatically retrieve the Evaluation Metrics by describing the Training Job.\n",
    "# Attach to an existing training job\n",
    "training_job_name = training_job_name\n",
    "sagemaker_session = sagemaker.Session()\n",
    "job_description = sagemaker_session.sagemaker_client.describe_training_job(TrainingJobName=training_job_name)\n",
    "\n",
    "# The metrics are in the 'FinalMetricDataList'\n",
    "final_metrics = {m['MetricName']: m['Value'] for m in job_description['FinalMetricDataList']}\n",
    "\n",
    "print(final_metrics)\n",
    "# Example Output: {'test:mse': '0.12345', 'validation:mse': '0.12300'}\n",
    "\n",
    "print(f'Run time: {round((time.time() - start)/60,2)} minutes') ##7.72 Minutes"
   ]
  },
  {
   "cell_type": "markdown",
   "metadata": {},
   "source": [
    "### CHECK volulme storage space (utilization and availability) within SageMaker notebook instance"
   ]
  },
  {
   "cell_type": "code",
   "execution_count": 31,
   "metadata": {},
   "outputs": [
    {
     "name": "stdout",
     "output_type": "stream",
     "text": [
      "Filesystem      Size  Used Avail Use% Mounted on\n",
      "/dev/xvdf        25G 1002M   23G   5% /home/ec2-user/SageMaker\n"
     ]
    }
   ],
   "source": [
    "! df -h /dev/xvdf"
   ]
  },
  {
   "cell_type": "code",
   "execution_count": 32,
   "metadata": {},
   "outputs": [
    {
     "name": "stdout",
     "output_type": "stream",
     "text": [
      "Filesystem      Size  Used Avail Use% Mounted on\n",
      "devtmpfs        7.8G     0  7.8G   0% /dev\n",
      "tmpfs           7.9G     0  7.9G   0% /dev/shm\n",
      "tmpfs           7.9G  668K  7.9G   1% /run\n",
      "tmpfs           7.9G     0  7.9G   0% /sys/fs/cgroup\n",
      "/dev/xvda1      135G   79G   57G  59% /\n",
      "/dev/xvdf        25G 1002M   23G   5% /home/ec2-user/SageMaker\n",
      "tmpfs           1.6G     0  1.6G   0% /run/user/1001\n",
      "tmpfs           1.6G     0  1.6G   0% /run/user/1002\n",
      "tmpfs           1.6G     0  1.6G   0% /run/user/1000\n",
      "tmpfs           1.6G     0  1.6G   0% /run/user/0\n"
     ]
    }
   ],
   "source": [
    "! df -h"
   ]
  },
  {
   "cell_type": "markdown",
   "metadata": {},
   "source": [
    "## 3-7. Model Evaluation"
   ]
  },
  {
   "cell_type": "code",
   "execution_count": 34,
   "metadata": {},
   "outputs": [
    {
     "name": "stderr",
     "output_type": "stream",
     "text": [
      "INFO:botocore.credentials:Found credentials from IAM Role: BaseNotebookInstanceEc2InstanceRole\n"
     ]
    }
   ],
   "source": [
    "import io\n",
    "# bucket = ...\n",
    "# prefix = ...\n",
    "train_file='flight_train.csv'\n",
    "test_file='flight_test.csv'\n",
    "validate_file='flight_validate.csv'\n",
    "whole_file='flight.csv'\n",
    "s3_resource = boto3.Session().resource('s3')\n",
    "\n",
    "def upload_s3_csv(filename, folder, dataframe):\n",
    "    csv_buffer = io.StringIO()\n",
    "    dataframe.to_csv(csv_buffer, header=False, index=False )\n",
    "    s3_resource.Bucket(bucket).Object(os.path.join(prefix, folder, filename)).put(Body=csv_buffer.getvalue())"
   ]
  },
  {
   "cell_type": "code",
   "execution_count": 35,
   "metadata": {},
   "outputs": [],
   "source": [
    "def batch_linear_predict(test_data, estimator):\n",
    "    batch_X = test_data.iloc[:,1:];\n",
    "    batch_X_file='batch-in.csv'\n",
    "    upload_s3_csv(batch_X_file, 'batch-in', batch_X)\n",
    "\n",
    "    batch_output = \"s3://{}/{}/batch-out/\".format(bucket,prefix)\n",
    "    batch_input = \"s3://{}/{}/batch-in/{}\".format(bucket,prefix,batch_X_file)\n",
    "\n",
    "    classifier_transformer = estimator.transformer(instance_count=1,\n",
    "                                           instance_type='ml.m4.xlarge',\n",
    "                                           strategy='MultiRecord',\n",
    "                                           assemble_with='Line',\n",
    "                                           output_path=batch_output)\n",
    "\n",
    "    classifier_transformer.transform(data=batch_input,\n",
    "                             data_type='S3Prefix',\n",
    "                             content_type='text/csv',\n",
    "                             split_type='Line')\n",
    "    \n",
    "    classifier_transformer.wait()\n",
    "\n",
    "    s3 = boto3.client('s3')\n",
    "    obj = s3.get_object(Bucket=bucket, Key=\"{}/batch-out/{}\".format(prefix,'batch-in.csv.out'))\n",
    "    target_predicted_df = pd.read_json(io.BytesIO(obj['Body'].read()),orient=\"records\",lines=True)\n",
    "    return test_data.iloc[:,0], target_predicted_df.iloc[:,0]"
   ]
  },
  {
   "cell_type": "markdown",
   "metadata": {},
   "source": [
    "## 3-8. Convert Arrays for Training, Validation, and Test to DataFrames for use within the 'plot_confusion_matrix', and 'plot_roc' UDFs"
   ]
  },
  {
   "cell_type": "code",
   "execution_count": 36,
   "metadata": {},
   "outputs": [
    {
     "name": "stdout",
     "output_type": "stream",
     "text": [
      "0\n",
      "Datatype of input to function:  <class 'numpy.ndarray'>\n",
      "Datatype of output of funciton:  <class 'pandas.core.frame.DataFrame'>\n",
      "\n",
      "1\n",
      "Datatype of input to function:  <class 'numpy.ndarray'>\n",
      "Datatype of output of funciton:  <class 'pandas.core.frame.DataFrame'>\n",
      "\n",
      "2\n",
      "Datatype of input to function:  <class 'numpy.ndarray'>\n",
      "Datatype of output of funciton:  <class 'pandas.core.frame.DataFrame'>\n",
      "\n",
      "type(dict_of_cv_dfs):  <class 'dict'>\n",
      "len(dict_of_cv_dfs):  3\n",
      "dict_of_cv_dfs.keys():  dict_keys(['train', 'validation', 'test'])\n",
      "type(dict_of_cv_dfs['test']):  <class 'pandas.core.frame.DataFrame'>\n",
      "dict_of_cv_dfs['test'].shape  (163559, 94)\n",
      "df_test_col_names:  ['target', 'Distance', 'Quarter_2', 'Quarter_3', 'Quarter_4', 'Month_2', 'Month_3', 'Month_4', 'Month_5', 'Month_6', 'Month_7', 'Month_8', 'Month_9', 'Month_10', 'Month_11', 'Month_12', 'DayofMonth_2', 'DayofMonth_3', 'DayofMonth_4', 'DayofMonth_5', 'DayofMonth_6', 'DayofMonth_7', 'DayofMonth_8', 'DayofMonth_9', 'DayofMonth_10', 'DayofMonth_11', 'DayofMonth_12', 'DayofMonth_13', 'DayofMonth_14', 'DayofMonth_15', 'DayofMonth_16', 'DayofMonth_17', 'DayofMonth_18', 'DayofMonth_19', 'DayofMonth_20', 'DayofMonth_21', 'DayofMonth_22', 'DayofMonth_23', 'DayofMonth_24', 'DayofMonth_25', 'DayofMonth_26', 'DayofMonth_27', 'DayofMonth_28', 'DayofMonth_29', 'DayofMonth_30', 'DayofMonth_31', 'DayOfWeek_2', 'DayOfWeek_3', 'DayOfWeek_4', 'DayOfWeek_5', 'DayOfWeek_6', 'DayOfWeek_7', 'Reporting_Airline_DL', 'Reporting_Airline_OO', 'Reporting_Airline_UA', 'Reporting_Airline_WN', 'Origin_CLT', 'Origin_DEN', 'Origin_DFW', 'Origin_IAH', 'Origin_LAX', 'Origin_ORD', 'Origin_PHX', 'Origin_SFO', 'Dest_CLT', 'Dest_DEN', 'Dest_DFW', 'Dest_IAH', 'Dest_LAX', 'Dest_ORD', 'Dest_PHX', 'Dest_SFO', 'DepHourofDay_1', 'DepHourofDay_2', 'DepHourofDay_4', 'DepHourofDay_5', 'DepHourofDay_6', 'DepHourofDay_7', 'DepHourofDay_8', 'DepHourofDay_9', 'DepHourofDay_10', 'DepHourofDay_11', 'DepHourofDay_12', 'DepHourofDay_13', 'DepHourofDay_14', 'DepHourofDay_15', 'DepHourofDay_16', 'DepHourofDay_17', 'DepHourofDay_18', 'DepHourofDay_19', 'DepHourofDay_20', 'DepHourofDay_21', 'DepHourofDay_22', 'DepHourofDay_23']\n"
     ]
    }
   ],
   "source": [
    "import time\n",
    "import os\n",
    "start = time.time()\n",
    "\n",
    "##Convert Numpy arrays for Training, Validation, and Test to DataFrames\n",
    "def convert_array_to_df(array, list_of_col_names):\n",
    "    print('Datatype of input to function: ', type(array))\n",
    "    df = pd.DataFrame(array, columns=list_of_col_names)\n",
    "    print('Datatype of output of funciton: ', type(df))\n",
    "    print()\n",
    "    return df\n",
    "\n",
    "list_of_cv_array_names = [\n",
    "    'train',\n",
    "    'validation',\n",
    "    'test'\n",
    "]\n",
    "list_of_cv_arrays = [\n",
    "    train_array_float,\n",
    "    validate_array_float,\n",
    "    test_array_float\n",
    "]\n",
    "list_of_cv_dfs = []\n",
    "cv_zip = zip(list_of_cv_array_names, list_of_cv_arrays)\n",
    "dict_of_cv_dfs = {}\n",
    "\n",
    "for index, zip_tuple in enumerate(cv_zip):\n",
    "    print(index)\n",
    "    df = convert_array_to_df(zip_tuple[1], list_of_col_names)\n",
    "    dict_of_cv_dfs[zip_tuple[0]] = df\n",
    "\n",
    "print('type(dict_of_cv_dfs): ', type(dict_of_cv_dfs))\n",
    "print('len(dict_of_cv_dfs): ', len(dict_of_cv_dfs))\n",
    "print(\"dict_of_cv_dfs.keys(): \", dict_of_cv_dfs.keys())\n",
    "print(\"type(dict_of_cv_dfs['test']): \", type(dict_of_cv_dfs['test']))\n",
    "print(\"dict_of_cv_dfs['test'].shape \", dict_of_cv_dfs['test'].shape)\n",
    "df_test = dict_of_cv_dfs['test']\n",
    "df_test_col_names = df_test.columns.tolist()\n",
    "print(\"df_test_col_names: \", df_test_col_names)"
   ]
  },
  {
   "cell_type": "code",
   "execution_count": 37,
   "metadata": {},
   "outputs": [
    {
     "name": "stderr",
     "output_type": "stream",
     "text": [
      "INFO:sagemaker.image_uris:Same images used for training and inference. Defaulting to image scope: inference.\n",
      "INFO:sagemaker.image_uris:Ignoring unnecessary instance type: None.\n",
      "INFO:sagemaker:Creating model with name: linear-learner-2025-07-22-22-31-44-044\n",
      "INFO:sagemaker:Creating transform job with name: linear-learner-2025-07-22-22-31-44-613\n"
     ]
    },
    {
     "name": "stdout",
     "output_type": "stream",
     "text": [
      "..........................................\n",
      "...Run time: 7.69 minutes\n"
     ]
    }
   ],
   "source": [
    "start = time.time()\n",
    "\n",
    "# test_labels, target_predicted = batch_linear_predict(test, classifier_estimator)\n",
    "# test_labels, target_predicted = batch_linear_predict(test, linear_estimator)\n",
    "test_labels, target_predicted = batch_linear_predict(dict_of_cv_dfs['test'], ll_estimator)\n",
    "\n",
    "print(f'Run time: {round((time.time() - start)/60,2)} minutes') ##Run time for 16000 rows x 94 columns is 8.07 minutes"
   ]
  },
  {
   "cell_type": "markdown",
   "metadata": {},
   "source": [
    "### CHECK volulme storage space (utilization and availability) within SageMaker notebook instance"
   ]
  },
  {
   "cell_type": "code",
   "execution_count": 38,
   "metadata": {},
   "outputs": [
    {
     "name": "stdout",
     "output_type": "stream",
     "text": [
      "Filesystem      Size  Used Avail Use% Mounted on\n",
      "/dev/xvdf        25G 1002M   23G   5% /home/ec2-user/SageMaker\n"
     ]
    }
   ],
   "source": [
    "! df -h /dev/xvdf"
   ]
  },
  {
   "cell_type": "code",
   "execution_count": 39,
   "metadata": {},
   "outputs": [
    {
     "name": "stdout",
     "output_type": "stream",
     "text": [
      "Filesystem      Size  Used Avail Use% Mounted on\n",
      "devtmpfs        7.8G     0  7.8G   0% /dev\n",
      "tmpfs           7.9G     0  7.9G   0% /dev/shm\n",
      "tmpfs           7.9G  668K  7.9G   1% /run\n",
      "tmpfs           7.9G     0  7.9G   0% /sys/fs/cgroup\n",
      "/dev/xvda1      135G   79G   57G  59% /\n",
      "/dev/xvdf        25G 1002M   23G   5% /home/ec2-user/SageMaker\n",
      "tmpfs           1.6G     0  1.6G   0% /run/user/1001\n",
      "tmpfs           1.6G     0  1.6G   0% /run/user/1002\n",
      "tmpfs           1.6G     0  1.6G   0% /run/user/1000\n",
      "tmpfs           1.6G     0  1.6G   0% /run/user/0\n"
     ]
    }
   ],
   "source": [
    "! df -h"
   ]
  },
  {
   "cell_type": "code",
   "execution_count": 40,
   "metadata": {},
   "outputs": [
    {
     "data": {
      "text/plain": [
       "0    0.0\n",
       "1    0.0\n",
       "2    1.0\n",
       "3    0.0\n",
       "4    0.0\n",
       "5    0.0\n",
       "6    0.0\n",
       "Name: target, dtype: float32"
      ]
     },
     "metadata": {},
     "output_type": "display_data"
    }
   ],
   "source": [
    "display(test_labels.head(7))"
   ]
  },
  {
   "cell_type": "code",
   "execution_count": 41,
   "metadata": {},
   "outputs": [
    {
     "data": {
      "text/plain": [
       "0    0\n",
       "1    0\n",
       "2    0\n",
       "3    0\n",
       "4    0\n",
       "5    0\n",
       "6    0\n",
       "Name: predicted_label, dtype: int64"
      ]
     },
     "metadata": {},
     "output_type": "display_data"
    }
   ],
   "source": [
    "display(target_predicted.head(7))"
   ]
  },
  {
   "cell_type": "markdown",
   "metadata": {},
   "source": [
    "## 3-9. Plot Confusion Matrix and ROC graph\n",
    "\n",
    "### Function for ploting Confusion Matrix"
   ]
  },
  {
   "cell_type": "code",
   "execution_count": 42,
   "metadata": {},
   "outputs": [],
   "source": [
    "import matplotlib.pyplot as plt\n",
    "import seaborn as sns\n",
    "\n",
    "from sklearn.metrics import confusion_matrix\n",
    "\n",
    "def plot_confusion_matrix(test_labels, target_predicted):\n",
    "    matrix = confusion_matrix(test_labels, target_predicted)\n",
    "    df_confusion = pd.DataFrame(matrix)\n",
    "    colormap = sns.color_palette(\"BrBG\", 10)\n",
    "    sns.heatmap(df_confusion, annot=True, fmt='.2f', cbar=None, cmap=colormap)\n",
    "    plt.title(\"Confusion Matrix\")\n",
    "    plt.tight_layout()\n",
    "    plt.ylabel(\"True Class\")\n",
    "    plt.xlabel(\"Predicted Class\")\n",
    "    plt.show()"
   ]
  },
  {
   "cell_type": "markdown",
   "metadata": {},
   "source": [
    "### Function for ploting ROC graph"
   ]
  },
  {
   "cell_type": "code",
   "execution_count": 54,
   "metadata": {},
   "outputs": [],
   "source": [
    "from sklearn import metrics\n",
    "\n",
    "def plot_roc(test_labels, target_predicted):\n",
    "    TN, FP, FN, TP = confusion_matrix(test_labels, target_predicted).ravel()\n",
    "    # Sensitivity, hit rate, recall, or true positive rate\n",
    "    Sensitivity  = float(TP)/(TP+FN)*100\n",
    "    # Specificity or true negative rate\n",
    "    Specificity  = float(TN)/(TN+FP)*100\n",
    "    # Precision or positive predictive value\n",
    "    Precision = float(TP)/(TP+FP)*100\n",
    "    # Negative predictive value\n",
    "    NPV = float(TN)/(TN+FN)*100\n",
    "    # Fall out or false positive rate\n",
    "    FPR = float(FP)/(FP+TN)*100\n",
    "    # False negative rate\n",
    "    FNR = float(FN)/(TP+FN)*100\n",
    "    # False discovery rate\n",
    "    FDR = float(FP)/(TP+FP)*100\n",
    "    # Overall accuracy\n",
    "    ACC = float(TP+TN)/(TP+FP+FN+TN)*100\n",
    "\n",
    "    Precision_decimal = (Precision/100)\n",
    "    Sensitivity_decimal = (Sensitivity/100)\n",
    "    f1_score = (2*Precision_decimal*Sensitivity_decimal)/(Precision_decimal+Sensitivity_decimal)\n",
    "\n",
    "    print(\"Sensitivity or TPR: \", Sensitivity, \"%\") \n",
    "    print( \"Specificity or TNR: \",Specificity, \"%\") \n",
    "    print(\"Precision: \",Precision, \"%\") \n",
    "    print(\"Negative Predictive Value: \",NPV, \"%\") \n",
    "    print( \"False Positive Rate: \",FPR,\"%\")\n",
    "    print(\"False Negative Rate: \",FNR, \"%\") \n",
    "    print(\"False Discovery Rate: \",FDR, \"%\" )\n",
    "    print(\"Accuracy: \",ACC, \"%\") \n",
    "\n",
    "    print(\"f1_score: \",f1_score) \n",
    "\n",
    "    #test_labels = test.iloc[:,0];\n",
    "    print(\"Validation AUC\", metrics.roc_auc_score(test_labels, target_predicted) )\n",
    "\n",
    "    fpr, tpr, thresholds = metrics.roc_curve(test_labels, target_predicted)\n",
    "    roc_auc = metrics.auc(fpr, tpr)\n",
    "\n",
    "    plt.figure()\n",
    "    plt.plot(fpr, tpr, label='ROC curve (area = %0.2f)' % (roc_auc))\n",
    "    plt.plot([0, 1], [0, 1], 'k--')\n",
    "    plt.xlim([0.0, 1.0])\n",
    "    plt.xlim([0.0, 1.05])\n",
    "    #plt.ylim([0.0, 1.00])\n",
    "    #plt.ylim([0.0, 1.00])\n",
    "    plt.xlabel('False Positive Rate')\n",
    "    plt.ylabel('True Positive Rate')\n",
    "    plt.title('Receiver operating characteristic')\n",
    "    plt.legend(loc=\"lower right\")\n",
    "\n",
    "    # create the axis of thresholds (scores)\n",
    "    ax2 = plt.gca().twinx()\n",
    "    ax2.plot(fpr, thresholds, markeredgecolor='r',linestyle='dashed', color='r')\n",
    "    ax2.set_ylabel('Threshold',color='r')\n",
    "    ##ax2.set_ylim([thresholds[-1],thresholds[0]])\n",
    "    ##ax2.set_xlim([fpr[0],fpr[-1]])\n",
    "    #ax2.set_ylim([thresholds[1],thresholds[0]])\n",
    "    #ax2.set_xlim([fpr[0],fpr[1]])\n",
    "\n",
    "    print(plt.figure())"
   ]
  },
  {
   "cell_type": "markdown",
   "metadata": {},
   "source": [
    "To plot the confusion matrix, call the `plot_confusion_matrix` function on the `test_labels` and the `target_predicted` data from your batch job:"
   ]
  },
  {
   "cell_type": "code",
   "execution_count": 44,
   "metadata": {},
   "outputs": [
    {
     "data": {
      "image/png": "[encoded data removed]",
      "text/plain": [
       "<Figure size 640x480 with 1 Axes>"
      ]
     },
     "metadata": {},
     "output_type": "display_data"
    }
   ],
   "source": [
    "# \n",
    "plot_confusion_matrix(test_labels, target_predicted)\n",
    "plt.show()"
   ]
  },
  {
   "cell_type": "code",
   "execution_count": 45,
   "metadata": {},
   "outputs": [
    {
     "data": {
      "image/png": "[encoded data removed]",
      "text/plain": [
       "<Figure size 640x480 with 1 Axes>"
      ]
     },
     "metadata": {},
     "output_type": "display_data"
    }
   ],
   "source": [
    "def plot_confusion_matrix_transpose(test_labels, target_predicted):\n",
    "    matrix = confusion_matrix(target_predicted, test_labels)\n",
    "    df_confusion = pd.DataFrame(matrix)\n",
    "    colormap = sns.color_palette(\"BrBG\", 10)\n",
    "    sns.heatmap(df_confusion, annot=True, fmt='.2f', cbar=None, cmap=colormap)\n",
    "    plt.title(\"Confusion Matrix\")\n",
    "    plt.tight_layout()\n",
    "    plt.ylabel(\"Predicted Class\")\n",
    "    plt.xlabel(\"True Class\")\n",
    "    plt.show()\n",
    "    \n",
    "plot_confusion_matrix_transpose(test_labels, target_predicted)\n",
    "plt.show()"
   ]
  },
  {
   "cell_type": "code",
   "execution_count": 53,
   "metadata": {},
   "outputs": [
    {
     "name": "stdout",
     "output_type": "stream",
     "text": [
      "Precision:  0.790651676035811\n",
      "Recall:  0.9991410397288472\n",
      "Accuracy:  0.7903019705427399\n",
      "Support:  163559\n",
      "f1_score:  0.8827531039763716\n"
     ]
    }
   ],
   "source": [
    "# ##Testing/Sanity Check of Precision, Recall, Accuracy, and F1-Score\n",
    "\n",
    "# TP = 129115\n",
    "# FP = 34187\n",
    "# FN = 111\n",
    "# TN = 146\n",
    "\n",
    "# Precision = TP/(TP+FP)\n",
    "# Recall = TP/(TP+FN)\n",
    "# Support = TP+FP+FN+TN\n",
    "# Accuracy = (TP+TN)/Support\n",
    "# f1_score = (2*Precision*Recall)/(Precision+Recall)\n",
    "\n",
    "# print(\"Precision: \", Precision)\n",
    "# print(\"Recall: \", Recall)\n",
    "# print(\"Accuracy: \", Accuracy)\n",
    "# print(\"Support: \", Support)\n",
    "# print(\"f1_score: \", f1_score) "
   ]
  },
  {
   "cell_type": "markdown",
   "metadata": {},
   "source": [
    "### ROC Graph"
   ]
  },
  {
   "cell_type": "code",
   "execution_count": 55,
   "metadata": {},
   "outputs": [
    {
     "name": "stdout",
     "output_type": "stream",
     "text": [
      "Sensitivity or TPR:  0.4252468470567676 %\n",
      "Specificity or TNR:  99.91410397288472 %\n",
      "Precision:  56.809338521400775 %\n",
      "Negative Predictive Value:  79.0651676035811 %\n",
      "False Positive Rate:  0.0858960271152864 %\n",
      "False Negative Rate:  99.57475315294323 %\n",
      "False Discovery Rate:  43.190661478599225 %\n",
      "Accuracy:  79.03019705427398 %\n",
      "f1_score:  0.008441746169413126\n",
      "Validation AUC 0.5016967540997074\n",
      "Figure(640x480)\n"
     ]
    },
    {
     "data": {
      "image/png": "[encoded data removed]",
      "text/plain": [
       "<Figure size 640x480 with 2 Axes>"
      ]
     },
     "metadata": {},
     "output_type": "display_data"
    },
    {
     "data": {
      "text/plain": [
       "<Figure size 640x480 with 0 Axes>"
      ]
     },
     "metadata": {},
     "output_type": "display_data"
    }
   ],
   "source": [
    "#Plot ROC graph \n",
    "plot_roc(test_labels, target_predicted)"
   ]
  },
  {
   "cell_type": "markdown",
   "metadata": {},
   "source": [
    "### CHECK volulme storage space (utilization and availability) within SageMaker notebook instance"
   ]
  },
  {
   "cell_type": "code",
   "execution_count": 56,
   "metadata": {},
   "outputs": [
    {
     "name": "stdout",
     "output_type": "stream",
     "text": [
      "Filesystem      Size  Used Avail Use% Mounted on\n",
      "/dev/xvdf        25G 1002M   23G   5% /home/ec2-user/SageMaker\n"
     ]
    }
   ],
   "source": [
    "! df -h /dev/xvdf"
   ]
  },
  {
   "cell_type": "markdown",
   "metadata": {},
   "source": [
    "## BOOKMARK 3 -- Write 'test_labels' and 'target_predicted' DataFrames as CSVs to 'test_labels_csv_filepath' and 'target_predicted_csv_filepath', respectively"
   ]
  },
  {
   "cell_type": "code",
   "execution_count": 57,
   "metadata": {},
   "outputs": [
    {
     "name": "stdout",
     "output_type": "stream",
     "text": [
      "/home/ec2-user/SageMaker/project/data/FlightDelays/test_labels_df.csv\n",
      "/home/ec2-user/SageMaker/project/data/FlightDelays/target_predicted_df.csv\n"
     ]
    }
   ],
   "source": [
    "test_labels_csv_filepath = f\"{base_path}test_labels_df.csv\"\n",
    "target_predicted_csv_filepath = f\"{base_path}target_predicted_df.csv\"\n",
    "print(test_labels_csv_filepath)\n",
    "print(target_predicted_csv_filepath)"
   ]
  },
  {
   "cell_type": "code",
   "execution_count": 58,
   "metadata": {},
   "outputs": [
    {
     "name": "stdout",
     "output_type": "stream",
     "text": [
      "Run time: 0.0 minutes\n"
     ]
    }
   ],
   "source": [
    "start = time.time()\n",
    "\n",
    "test_labels.to_csv(test_labels_csv_filepath, index=False)\n",
    "target_predicted.to_csv(target_predicted_csv_filepath, index=False)\n",
    "\n",
    "print(f'Run time: {round((time.time() - start)/60,2)} minutes')"
   ]
  },
  {
   "cell_type": "markdown",
   "metadata": {},
   "source": [
    "## Load Pandas DataFrames from 'test_labels_csv_filepath' and 'target_predicted_csv_filepath' for completing Step 4"
   ]
  },
  {
   "cell_type": "code",
   "execution_count": null,
   "metadata": {},
   "outputs": [],
   "source": [
    "test_labels_csv_filepath = f\"{base_path}test_labels_df.csv\"\n",
    "target_predicted_csv_filepath = f\"{base_path}target_predicted_df.csv\"\n",
    "print(test_labels_csv_filepath)\n",
    "print(target_predicted_csv_filepath)\n",
    "\n",
    "data_test_labels_all = pd.read_csv(test_labels_csv_filepath)\n",
    "data_target_predicted_all = pd.read_csv(target_predicted_csv_filepath)\n",
    "data_test_and_target_all = pd.concat([data_test_labels_all, data_target_predicted_all], axis=1)\n",
    "print('data_test_and_target_all.shape: ', data_test_and_target_all.shape)\n",
    "\n",
    "data_test_and_target_16k = data_test_and_target_all[:16000]\n",
    "print('data_test_and_target_16k.shape: ', data_test_and_target_16k.shape)\n",
    "##data_test_target = data_test_and_target_16k\n",
    "data_test_target = data_test_and_target_all"
   ]
  },
  {
   "cell_type": "code",
   "execution_count": null,
   "metadata": {},
   "outputs": [],
   "source": [
    "##Check which Columns are showing as having a string/object data type\n",
    "data_test_target_dtypes_series = data_test_target.dtypes\n",
    "data_test_target_dtypes_list = data_test_target_dtypes_series.tolist()\n",
    "print(type(data_test_target_dtypes_series))\n",
    "print(type(data_test_target_dtypes_list))\n",
    "print(data_test_target_dtypes_list)"
   ]
  },
  {
   "cell_type": "markdown",
   "metadata": {},
   "source": [
    "# Step 4: Feature engineering\n",
    "\n",
    "Consider data changes that could possibly improve model performance?\n",
    "\n",
    "### Key questions to consider:\n",
    "\n",
    "1. How might the balance of the two main classes (*delay* and *no delay*) impact model performance?\n",
    "2. Are features correlated?\n",
    "3. At this stage, are there any feature-reduction techniques that might positively impact model performance? \n",
    "4. What additional data or datasets could be added?\n",
    "5. After performing some feature engineering, how does the model performance compare to the first iteration?\n",
    "\n",
    "### Additional Features to be added:\n",
    "\n",
    "1. Holidays --- *Hypothesis: airplane delays could be higher during holidays compared to the rest of the days.* \n",
    "2. Weather --- *Hypothesis: perhaps bad weather like rain, heavy winds, or snow can lead to airplane delays.*"
   ]
  },
  {
   "cell_type": "code",
   "execution_count": 11,
   "metadata": {},
   "outputs": [
    {
     "name": "stdout",
     "output_type": "stream",
     "text": [
      "(1635590, 21)\n"
     ]
    },
    {
     "data": {
      "text/html": [
       "<div>\n",
       "<style scoped>\n",
       "    .dataframe tbody tr th:only-of-type {\n",
       "        vertical-align: middle;\n",
       "    }\n",
       "\n",
       "    .dataframe tbody tr th {\n",
       "        vertical-align: top;\n",
       "    }\n",
       "\n",
       "    .dataframe thead th {\n",
       "        text-align: right;\n",
       "    }\n",
       "</style>\n",
       "<table border=\"1\" class=\"dataframe\">\n",
       "  <thead>\n",
       "    <tr style=\"text-align: right;\">\n",
       "      <th></th>\n",
       "      <th>Year</th>\n",
       "      <th>Quarter</th>\n",
       "      <th>Month</th>\n",
       "      <th>DayofMonth</th>\n",
       "      <th>DayOfWeek</th>\n",
       "      <th>FlightDate</th>\n",
       "      <th>Reporting_Airline</th>\n",
       "      <th>Origin</th>\n",
       "      <th>OriginState</th>\n",
       "      <th>Dest</th>\n",
       "      <th>...</th>\n",
       "      <th>CRSDepTime</th>\n",
       "      <th>Cancelled</th>\n",
       "      <th>Diverted</th>\n",
       "      <th>Distance</th>\n",
       "      <th>DistanceGroup</th>\n",
       "      <th>ArrDelay</th>\n",
       "      <th>ArrDelayMinutes</th>\n",
       "      <th>is_delay</th>\n",
       "      <th>AirTime</th>\n",
       "      <th>DepHourofDay</th>\n",
       "    </tr>\n",
       "  </thead>\n",
       "  <tbody>\n",
       "    <tr>\n",
       "      <th>0</th>\n",
       "      <td>2017</td>\n",
       "      <td>2</td>\n",
       "      <td>4</td>\n",
       "      <td>1</td>\n",
       "      <td>6</td>\n",
       "      <td>2017-04-01</td>\n",
       "      <td>DL</td>\n",
       "      <td>ATL</td>\n",
       "      <td>GA</td>\n",
       "      <td>DFW</td>\n",
       "      <td>...</td>\n",
       "      <td>1920</td>\n",
       "      <td>0.0</td>\n",
       "      <td>0.0</td>\n",
       "      <td>731.0</td>\n",
       "      <td>3</td>\n",
       "      <td>-25.0</td>\n",
       "      <td>0.0</td>\n",
       "      <td>0.0</td>\n",
       "      <td>106.0</td>\n",
       "      <td>19</td>\n",
       "    </tr>\n",
       "    <tr>\n",
       "      <th>1</th>\n",
       "      <td>2017</td>\n",
       "      <td>2</td>\n",
       "      <td>4</td>\n",
       "      <td>1</td>\n",
       "      <td>6</td>\n",
       "      <td>2017-04-01</td>\n",
       "      <td>DL</td>\n",
       "      <td>DFW</td>\n",
       "      <td>TX</td>\n",
       "      <td>ATL</td>\n",
       "      <td>...</td>\n",
       "      <td>1717</td>\n",
       "      <td>0.0</td>\n",
       "      <td>0.0</td>\n",
       "      <td>731.0</td>\n",
       "      <td>3</td>\n",
       "      <td>-16.0</td>\n",
       "      <td>0.0</td>\n",
       "      <td>0.0</td>\n",
       "      <td>97.0</td>\n",
       "      <td>17</td>\n",
       "    </tr>\n",
       "    <tr>\n",
       "      <th>2</th>\n",
       "      <td>2017</td>\n",
       "      <td>2</td>\n",
       "      <td>4</td>\n",
       "      <td>1</td>\n",
       "      <td>6</td>\n",
       "      <td>2017-04-01</td>\n",
       "      <td>DL</td>\n",
       "      <td>SFO</td>\n",
       "      <td>CA</td>\n",
       "      <td>ATL</td>\n",
       "      <td>...</td>\n",
       "      <td>1405</td>\n",
       "      <td>0.0</td>\n",
       "      <td>0.0</td>\n",
       "      <td>2139.0</td>\n",
       "      <td>9</td>\n",
       "      <td>31.0</td>\n",
       "      <td>31.0</td>\n",
       "      <td>1.0</td>\n",
       "      <td>255.0</td>\n",
       "      <td>14</td>\n",
       "    </tr>\n",
       "    <tr>\n",
       "      <th>3</th>\n",
       "      <td>2017</td>\n",
       "      <td>2</td>\n",
       "      <td>4</td>\n",
       "      <td>1</td>\n",
       "      <td>6</td>\n",
       "      <td>2017-04-01</td>\n",
       "      <td>DL</td>\n",
       "      <td>SFO</td>\n",
       "      <td>CA</td>\n",
       "      <td>ATL</td>\n",
       "      <td>...</td>\n",
       "      <td>600</td>\n",
       "      <td>0.0</td>\n",
       "      <td>0.0</td>\n",
       "      <td>2139.0</td>\n",
       "      <td>9</td>\n",
       "      <td>15.0</td>\n",
       "      <td>15.0</td>\n",
       "      <td>1.0</td>\n",
       "      <td>257.0</td>\n",
       "      <td>6</td>\n",
       "    </tr>\n",
       "    <tr>\n",
       "      <th>4</th>\n",
       "      <td>2017</td>\n",
       "      <td>2</td>\n",
       "      <td>4</td>\n",
       "      <td>1</td>\n",
       "      <td>6</td>\n",
       "      <td>2017-04-01</td>\n",
       "      <td>DL</td>\n",
       "      <td>ATL</td>\n",
       "      <td>GA</td>\n",
       "      <td>SFO</td>\n",
       "      <td>...</td>\n",
       "      <td>1640</td>\n",
       "      <td>0.0</td>\n",
       "      <td>0.0</td>\n",
       "      <td>2139.0</td>\n",
       "      <td>9</td>\n",
       "      <td>58.0</td>\n",
       "      <td>58.0</td>\n",
       "      <td>1.0</td>\n",
       "      <td>262.0</td>\n",
       "      <td>16</td>\n",
       "    </tr>\n",
       "  </tbody>\n",
       "</table>\n",
       "<p>5 rows × 21 columns</p>\n",
       "</div>"
      ],
      "text/plain": [
       "   Year  Quarter  Month  DayofMonth  DayOfWeek  FlightDate Reporting_Airline  \\\n",
       "0  2017        2      4           1          6  2017-04-01                DL   \n",
       "1  2017        2      4           1          6  2017-04-01                DL   \n",
       "2  2017        2      4           1          6  2017-04-01                DL   \n",
       "3  2017        2      4           1          6  2017-04-01                DL   \n",
       "4  2017        2      4           1          6  2017-04-01                DL   \n",
       "\n",
       "  Origin OriginState Dest  ... CRSDepTime  Cancelled  Diverted  Distance  \\\n",
       "0    ATL          GA  DFW  ...       1920        0.0       0.0     731.0   \n",
       "1    DFW          TX  ATL  ...       1717        0.0       0.0     731.0   \n",
       "2    SFO          CA  ATL  ...       1405        0.0       0.0    2139.0   \n",
       "3    SFO          CA  ATL  ...        600        0.0       0.0    2139.0   \n",
       "4    ATL          GA  SFO  ...       1640        0.0       0.0    2139.0   \n",
       "\n",
       "   DistanceGroup  ArrDelay  ArrDelayMinutes  is_delay  AirTime  DepHourofDay  \n",
       "0              3     -25.0              0.0       0.0    106.0            19  \n",
       "1              3     -16.0              0.0       0.0     97.0            17  \n",
       "2              9      31.0             31.0       1.0    255.0            14  \n",
       "3              9      15.0             15.0       1.0    257.0             6  \n",
       "4              9      58.0             58.0       1.0    262.0            16  \n",
       "\n",
       "[5 rows x 21 columns]"
      ]
     },
     "metadata": {},
     "output_type": "display_data"
    }
   ],
   "source": [
    "print(data_orig.shape)\n",
    "display(data_orig.head(5))"
   ]
  },
  {
   "cell_type": "code",
   "execution_count": 15,
   "metadata": {},
   "outputs": [
    {
     "name": "stdout",
     "output_type": "stream",
     "text": [
      "<class 'list'>\n",
      "52\n",
      "(1635590, 21)\n",
      "Index(['Year', 'Quarter', 'Month', 'DayofMonth', 'DayOfWeek', 'FlightDate',\n",
      "       'Reporting_Airline', 'Origin', 'OriginState', 'Dest', 'DestState',\n",
      "       'CRSDepTime', 'Cancelled', 'Diverted', 'Distance', 'DistanceGroup',\n",
      "       'ArrDelay', 'ArrDelayMinutes', 'is_delay', 'AirTime', 'DepHourofDay'],\n",
      "      dtype='object')\n",
      "Year                   int64\n",
      "Quarter                int64\n",
      "Month                  int64\n",
      "DayofMonth             int64\n",
      "DayOfWeek              int64\n",
      "FlightDate            object\n",
      "Reporting_Airline     object\n",
      "Origin                object\n",
      "OriginState           object\n",
      "Dest                  object\n",
      "DestState             object\n",
      "CRSDepTime             int64\n",
      "Cancelled            float64\n",
      "Diverted             float64\n",
      "Distance             float64\n",
      "DistanceGroup          int64\n",
      "ArrDelay             float64\n",
      "ArrDelayMinutes      float64\n",
      "is_delay             float64\n",
      "AirTime              float64\n",
      "DepHourofDay           int64\n",
      "dtype: object\n",
      "\n",
      "(1635590, 22)\n"
     ]
    },
    {
     "data": {
      "text/html": [
       "<div>\n",
       "<style scoped>\n",
       "    .dataframe tbody tr th:only-of-type {\n",
       "        vertical-align: middle;\n",
       "    }\n",
       "\n",
       "    .dataframe tbody tr th {\n",
       "        vertical-align: top;\n",
       "    }\n",
       "\n",
       "    .dataframe thead th {\n",
       "        text-align: right;\n",
       "    }\n",
       "</style>\n",
       "<table border=\"1\" class=\"dataframe\">\n",
       "  <thead>\n",
       "    <tr style=\"text-align: right;\">\n",
       "      <th></th>\n",
       "      <th>Year</th>\n",
       "      <th>Quarter</th>\n",
       "      <th>Month</th>\n",
       "      <th>DayofMonth</th>\n",
       "      <th>DayOfWeek</th>\n",
       "      <th>FlightDate</th>\n",
       "      <th>Reporting_Airline</th>\n",
       "      <th>Origin</th>\n",
       "      <th>OriginState</th>\n",
       "      <th>Dest</th>\n",
       "      <th>...</th>\n",
       "      <th>Cancelled</th>\n",
       "      <th>Diverted</th>\n",
       "      <th>Distance</th>\n",
       "      <th>DistanceGroup</th>\n",
       "      <th>ArrDelay</th>\n",
       "      <th>ArrDelayMinutes</th>\n",
       "      <th>is_delay</th>\n",
       "      <th>AirTime</th>\n",
       "      <th>DepHourofDay</th>\n",
       "      <th>is_holiday</th>\n",
       "    </tr>\n",
       "  </thead>\n",
       "  <tbody>\n",
       "    <tr>\n",
       "      <th>0</th>\n",
       "      <td>2017</td>\n",
       "      <td>2</td>\n",
       "      <td>4</td>\n",
       "      <td>1</td>\n",
       "      <td>6</td>\n",
       "      <td>2017-04-01</td>\n",
       "      <td>DL</td>\n",
       "      <td>ATL</td>\n",
       "      <td>GA</td>\n",
       "      <td>DFW</td>\n",
       "      <td>...</td>\n",
       "      <td>0.0</td>\n",
       "      <td>0.0</td>\n",
       "      <td>731.0</td>\n",
       "      <td>3</td>\n",
       "      <td>-25.0</td>\n",
       "      <td>0.0</td>\n",
       "      <td>0.0</td>\n",
       "      <td>106.0</td>\n",
       "      <td>19</td>\n",
       "      <td>False</td>\n",
       "    </tr>\n",
       "    <tr>\n",
       "      <th>1</th>\n",
       "      <td>2017</td>\n",
       "      <td>2</td>\n",
       "      <td>4</td>\n",
       "      <td>1</td>\n",
       "      <td>6</td>\n",
       "      <td>2017-04-01</td>\n",
       "      <td>DL</td>\n",
       "      <td>DFW</td>\n",
       "      <td>TX</td>\n",
       "      <td>ATL</td>\n",
       "      <td>...</td>\n",
       "      <td>0.0</td>\n",
       "      <td>0.0</td>\n",
       "      <td>731.0</td>\n",
       "      <td>3</td>\n",
       "      <td>-16.0</td>\n",
       "      <td>0.0</td>\n",
       "      <td>0.0</td>\n",
       "      <td>97.0</td>\n",
       "      <td>17</td>\n",
       "      <td>False</td>\n",
       "    </tr>\n",
       "    <tr>\n",
       "      <th>2</th>\n",
       "      <td>2017</td>\n",
       "      <td>2</td>\n",
       "      <td>4</td>\n",
       "      <td>1</td>\n",
       "      <td>6</td>\n",
       "      <td>2017-04-01</td>\n",
       "      <td>DL</td>\n",
       "      <td>SFO</td>\n",
       "      <td>CA</td>\n",
       "      <td>ATL</td>\n",
       "      <td>...</td>\n",
       "      <td>0.0</td>\n",
       "      <td>0.0</td>\n",
       "      <td>2139.0</td>\n",
       "      <td>9</td>\n",
       "      <td>31.0</td>\n",
       "      <td>31.0</td>\n",
       "      <td>1.0</td>\n",
       "      <td>255.0</td>\n",
       "      <td>14</td>\n",
       "      <td>False</td>\n",
       "    </tr>\n",
       "    <tr>\n",
       "      <th>3</th>\n",
       "      <td>2017</td>\n",
       "      <td>2</td>\n",
       "      <td>4</td>\n",
       "      <td>1</td>\n",
       "      <td>6</td>\n",
       "      <td>2017-04-01</td>\n",
       "      <td>DL</td>\n",
       "      <td>SFO</td>\n",
       "      <td>CA</td>\n",
       "      <td>ATL</td>\n",
       "      <td>...</td>\n",
       "      <td>0.0</td>\n",
       "      <td>0.0</td>\n",
       "      <td>2139.0</td>\n",
       "      <td>9</td>\n",
       "      <td>15.0</td>\n",
       "      <td>15.0</td>\n",
       "      <td>1.0</td>\n",
       "      <td>257.0</td>\n",
       "      <td>6</td>\n",
       "      <td>False</td>\n",
       "    </tr>\n",
       "    <tr>\n",
       "      <th>4</th>\n",
       "      <td>2017</td>\n",
       "      <td>2</td>\n",
       "      <td>4</td>\n",
       "      <td>1</td>\n",
       "      <td>6</td>\n",
       "      <td>2017-04-01</td>\n",
       "      <td>DL</td>\n",
       "      <td>ATL</td>\n",
       "      <td>GA</td>\n",
       "      <td>SFO</td>\n",
       "      <td>...</td>\n",
       "      <td>0.0</td>\n",
       "      <td>0.0</td>\n",
       "      <td>2139.0</td>\n",
       "      <td>9</td>\n",
       "      <td>58.0</td>\n",
       "      <td>58.0</td>\n",
       "      <td>1.0</td>\n",
       "      <td>262.0</td>\n",
       "      <td>16</td>\n",
       "      <td>False</td>\n",
       "    </tr>\n",
       "  </tbody>\n",
       "</table>\n",
       "<p>5 rows × 22 columns</p>\n",
       "</div>"
      ],
      "text/plain": [
       "   Year  Quarter  Month  DayofMonth  DayOfWeek  FlightDate Reporting_Airline  \\\n",
       "0  2017        2      4           1          6  2017-04-01                DL   \n",
       "1  2017        2      4           1          6  2017-04-01                DL   \n",
       "2  2017        2      4           1          6  2017-04-01                DL   \n",
       "3  2017        2      4           1          6  2017-04-01                DL   \n",
       "4  2017        2      4           1          6  2017-04-01                DL   \n",
       "\n",
       "  Origin OriginState Dest  ... Cancelled  Diverted  Distance  DistanceGroup  \\\n",
       "0    ATL          GA  DFW  ...       0.0       0.0     731.0              3   \n",
       "1    DFW          TX  ATL  ...       0.0       0.0     731.0              3   \n",
       "2    SFO          CA  ATL  ...       0.0       0.0    2139.0              9   \n",
       "3    SFO          CA  ATL  ...       0.0       0.0    2139.0              9   \n",
       "4    ATL          GA  SFO  ...       0.0       0.0    2139.0              9   \n",
       "\n",
       "   ArrDelay  ArrDelayMinutes  is_delay  AirTime  DepHourofDay  is_holiday  \n",
       "0     -25.0              0.0       0.0    106.0            19       False  \n",
       "1     -16.0              0.0       0.0     97.0            17       False  \n",
       "2      31.0             31.0       1.0    255.0            14       False  \n",
       "3      15.0             15.0       1.0    257.0             6       False  \n",
       "4      58.0             58.0       1.0    262.0            16       False  \n",
       "\n",
       "[5 rows x 22 columns]"
      ]
     },
     "metadata": {},
     "output_type": "display_data"
    }
   ],
   "source": [
    "# Source: http://www.calendarpedia.com/holidays/federal-holidays-2014.html\n",
    "\n",
    "holidays_14 = ['2014-01-01',  '2014-01-20', '2014-02-17', '2014-05-26', '2014-07-04', '2014-09-01', '2014-10-13', '2014-11-11', '2014-11-27', '2014-12-25' ] \n",
    "holidays_15 = ['2015-01-01',  '2015-01-19', '2015-02-16', '2015-05-25', '2015-06-03', '2015-07-04', '2015-09-07', '2015-10-12', '2015-11-11', '2015-11-26', '2015-12-25'] \n",
    "holidays_16 = ['2016-01-01',  '2016-01-18', '2016-02-15', '2016-05-30', '2016-07-04', '2016-09-05', '2016-10-10', '2016-11-11', '2016-11-24', '2016-12-25', '2016-12-26']\n",
    "holidays_17 = ['2017-01-02', '2017-01-16', '2017-02-20', '2017-05-29' , '2017-07-04', '2017-09-04' ,'2017-10-09', '2017-11-10', '2017-11-23', '2017-12-25']\n",
    "holidays_18 = ['2018-01-01', '2018-01-15', '2018-02-19', '2018-05-28' , '2018-07-04', '2018-09-03' ,'2018-10-08', '2018-11-12','2018-11-22', '2018-12-25']\n",
    "holidays = holidays_14+ holidays_15+ holidays_16 + holidays_17+ holidays_18\n",
    "\n",
    "### Add indicator variable for holidays\n",
    "##data_orig['is_holiday'] = #  \n",
    "\n",
    "print(type(holidays))\n",
    "print(len(holidays))\n",
    "print(data_orig.shape)\n",
    "print(data_orig.columns)\n",
    "#display(data_orig.head(5))\n",
    "# data_orig['is_holiday'] = #  \n",
    "\n",
    "data_orig_2 = data_orig.copy()\n",
    "print(data_orig_2.dtypes)\n",
    "data_orig_2['is_holiday'] = data_orig['FlightDate'].isin(holidays)\n",
    "\n",
    "print()\n",
    "print(data_orig_2.shape)\n",
    "display(data_orig_2.head(5))"
   ]
  },
  {
   "cell_type": "markdown",
   "metadata": {},
   "source": [
    "### Weather data to add\n",
    "\n",
    "Weather data was fetched from https://www.ncei.noaa.gov/access/services/data/v1?dataset=daily-summaries&stations=USW00023174,USW00012960,USW00003017,USW00094846,USW00013874,USW00023234,USW00003927,USW00023183,USW00013881&dataTypes=AWND,PRCP,SNOW,SNWD,TAVG,TMIN,TMAX&startDate=2014-01-01&endDate=2018-12-31.\n",
    "<br>\n",
    "\n",
    "This dataset has information on wind speed, precipitation, snow, and temperature for cities by their airport codes."
   ]
  },
  {
   "cell_type": "code",
   "execution_count": 16,
   "metadata": {},
   "outputs": [
    {
     "name": "stdout",
     "output_type": "stream",
     "text": [
      "download: s3://aws-tc-largeobjects/CUR-TF-200-ACMLFO-1/flight_delay_project/data2/daily-summaries.csv to ../project/data/daily-summaries.csv\n"
     ]
    }
   ],
   "source": [
    "!aws s3 cp s3://aws-tc-largeobjects/CUR-TF-200-ACMLFO-1/flight_delay_project/data2/daily-summaries.csv /home/ec2-user/SageMaker/project/data/\n",
    "#!wget 'https://www.ncei.noaa.gov/access/services/data/v1?dataset=daily-summaries&stations=USW00023174,USW00012960,USW00003017,USW00094846,USW00013874,USW00023234,USW00003927,USW00023183,USW00013881&dataTypes=AWND,PRCP,SNOW,SNWD,TAVG,TMIN,TMAX&startDate=2014-01-01&endDate=2018-12-31' -O /home/ec2-user/SageMaker/project/data/daily-summaries.csv"
   ]
  },
  {
   "cell_type": "markdown",
   "metadata": {},
   "source": [
    "### CHECK volulme storage space (utilization and availability) within SageMaker notebook instance"
   ]
  },
  {
   "cell_type": "code",
   "execution_count": 17,
   "metadata": {},
   "outputs": [
    {
     "name": "stdout",
     "output_type": "stream",
     "text": [
      "Filesystem      Size  Used Avail Use% Mounted on\n",
      "/dev/xvdf        25G 1004M   23G   5% /home/ec2-user/SageMaker\n"
     ]
    }
   ],
   "source": [
    "! df -h /dev/xvdf"
   ]
  },
  {
   "cell_type": "markdown",
   "metadata": {},
   "source": [
    "Import the weather data that was prepared for the airport codes in the dataset. Use the following stations and airports  for the analysis. Create a new column called *airport* that maps the weather station to the airport name."
   ]
  },
  {
   "cell_type": "code",
   "execution_count": 18,
   "metadata": {},
   "outputs": [
    {
     "name": "stdout",
     "output_type": "stream",
     "text": [
      "(16434, 9)\n"
     ]
    },
    {
     "data": {
      "text/html": [
       "<div>\n",
       "<style scoped>\n",
       "    .dataframe tbody tr th:only-of-type {\n",
       "        vertical-align: middle;\n",
       "    }\n",
       "\n",
       "    .dataframe tbody tr th {\n",
       "        vertical-align: top;\n",
       "    }\n",
       "\n",
       "    .dataframe thead th {\n",
       "        text-align: right;\n",
       "    }\n",
       "</style>\n",
       "<table border=\"1\" class=\"dataframe\">\n",
       "  <thead>\n",
       "    <tr style=\"text-align: right;\">\n",
       "      <th></th>\n",
       "      <th>STATION</th>\n",
       "      <th>DATE</th>\n",
       "      <th>AWND</th>\n",
       "      <th>PRCP</th>\n",
       "      <th>SNOW</th>\n",
       "      <th>SNWD</th>\n",
       "      <th>TAVG</th>\n",
       "      <th>TMAX</th>\n",
       "      <th>TMIN</th>\n",
       "    </tr>\n",
       "  </thead>\n",
       "  <tbody>\n",
       "    <tr>\n",
       "      <th>0</th>\n",
       "      <td>USW00023174</td>\n",
       "      <td>2014-01-01</td>\n",
       "      <td>16</td>\n",
       "      <td>0</td>\n",
       "      <td>NaN</td>\n",
       "      <td>NaN</td>\n",
       "      <td>131.0</td>\n",
       "      <td>178.0</td>\n",
       "      <td>78.0</td>\n",
       "    </tr>\n",
       "    <tr>\n",
       "      <th>1</th>\n",
       "      <td>USW00023174</td>\n",
       "      <td>2014-01-02</td>\n",
       "      <td>22</td>\n",
       "      <td>0</td>\n",
       "      <td>NaN</td>\n",
       "      <td>NaN</td>\n",
       "      <td>159.0</td>\n",
       "      <td>256.0</td>\n",
       "      <td>100.0</td>\n",
       "    </tr>\n",
       "    <tr>\n",
       "      <th>2</th>\n",
       "      <td>USW00023174</td>\n",
       "      <td>2014-01-03</td>\n",
       "      <td>17</td>\n",
       "      <td>0</td>\n",
       "      <td>NaN</td>\n",
       "      <td>NaN</td>\n",
       "      <td>140.0</td>\n",
       "      <td>178.0</td>\n",
       "      <td>83.0</td>\n",
       "    </tr>\n",
       "    <tr>\n",
       "      <th>3</th>\n",
       "      <td>USW00023174</td>\n",
       "      <td>2014-01-04</td>\n",
       "      <td>18</td>\n",
       "      <td>0</td>\n",
       "      <td>NaN</td>\n",
       "      <td>NaN</td>\n",
       "      <td>136.0</td>\n",
       "      <td>183.0</td>\n",
       "      <td>100.0</td>\n",
       "    </tr>\n",
       "    <tr>\n",
       "      <th>4</th>\n",
       "      <td>USW00023174</td>\n",
       "      <td>2014-01-05</td>\n",
       "      <td>18</td>\n",
       "      <td>0</td>\n",
       "      <td>NaN</td>\n",
       "      <td>NaN</td>\n",
       "      <td>151.0</td>\n",
       "      <td>244.0</td>\n",
       "      <td>83.0</td>\n",
       "    </tr>\n",
       "  </tbody>\n",
       "</table>\n",
       "</div>"
      ],
      "text/plain": [
       "       STATION        DATE  AWND  PRCP  SNOW  SNWD   TAVG   TMAX   TMIN\n",
       "0  USW00023174  2014-01-01    16     0   NaN   NaN  131.0  178.0   78.0\n",
       "1  USW00023174  2014-01-02    22     0   NaN   NaN  159.0  256.0  100.0\n",
       "2  USW00023174  2014-01-03    17     0   NaN   NaN  140.0  178.0   83.0\n",
       "3  USW00023174  2014-01-04    18     0   NaN   NaN  136.0  183.0  100.0\n",
       "4  USW00023174  2014-01-05    18     0   NaN   NaN  151.0  244.0   83.0"
      ]
     },
     "metadata": {},
     "output_type": "display_data"
    },
    {
     "name": "stdout",
     "output_type": "stream",
     "text": [
      "(16434, 10)\n"
     ]
    },
    {
     "data": {
      "text/html": [
       "<div>\n",
       "<style scoped>\n",
       "    .dataframe tbody tr th:only-of-type {\n",
       "        vertical-align: middle;\n",
       "    }\n",
       "\n",
       "    .dataframe tbody tr th {\n",
       "        vertical-align: top;\n",
       "    }\n",
       "\n",
       "    .dataframe thead th {\n",
       "        text-align: right;\n",
       "    }\n",
       "</style>\n",
       "<table border=\"1\" class=\"dataframe\">\n",
       "  <thead>\n",
       "    <tr style=\"text-align: right;\">\n",
       "      <th></th>\n",
       "      <th>STATION</th>\n",
       "      <th>DATE</th>\n",
       "      <th>AWND</th>\n",
       "      <th>PRCP</th>\n",
       "      <th>SNOW</th>\n",
       "      <th>SNWD</th>\n",
       "      <th>TAVG</th>\n",
       "      <th>TMAX</th>\n",
       "      <th>TMIN</th>\n",
       "      <th>airport</th>\n",
       "    </tr>\n",
       "  </thead>\n",
       "  <tbody>\n",
       "    <tr>\n",
       "      <th>0</th>\n",
       "      <td>USW00023174</td>\n",
       "      <td>2014-01-01</td>\n",
       "      <td>16</td>\n",
       "      <td>0</td>\n",
       "      <td>NaN</td>\n",
       "      <td>NaN</td>\n",
       "      <td>131.0</td>\n",
       "      <td>178.0</td>\n",
       "      <td>78.0</td>\n",
       "      <td>LAX</td>\n",
       "    </tr>\n",
       "    <tr>\n",
       "      <th>1</th>\n",
       "      <td>USW00023174</td>\n",
       "      <td>2014-01-02</td>\n",
       "      <td>22</td>\n",
       "      <td>0</td>\n",
       "      <td>NaN</td>\n",
       "      <td>NaN</td>\n",
       "      <td>159.0</td>\n",
       "      <td>256.0</td>\n",
       "      <td>100.0</td>\n",
       "      <td>LAX</td>\n",
       "    </tr>\n",
       "    <tr>\n",
       "      <th>2</th>\n",
       "      <td>USW00023174</td>\n",
       "      <td>2014-01-03</td>\n",
       "      <td>17</td>\n",
       "      <td>0</td>\n",
       "      <td>NaN</td>\n",
       "      <td>NaN</td>\n",
       "      <td>140.0</td>\n",
       "      <td>178.0</td>\n",
       "      <td>83.0</td>\n",
       "      <td>LAX</td>\n",
       "    </tr>\n",
       "    <tr>\n",
       "      <th>3</th>\n",
       "      <td>USW00023174</td>\n",
       "      <td>2014-01-04</td>\n",
       "      <td>18</td>\n",
       "      <td>0</td>\n",
       "      <td>NaN</td>\n",
       "      <td>NaN</td>\n",
       "      <td>136.0</td>\n",
       "      <td>183.0</td>\n",
       "      <td>100.0</td>\n",
       "      <td>LAX</td>\n",
       "    </tr>\n",
       "    <tr>\n",
       "      <th>4</th>\n",
       "      <td>USW00023174</td>\n",
       "      <td>2014-01-05</td>\n",
       "      <td>18</td>\n",
       "      <td>0</td>\n",
       "      <td>NaN</td>\n",
       "      <td>NaN</td>\n",
       "      <td>151.0</td>\n",
       "      <td>244.0</td>\n",
       "      <td>83.0</td>\n",
       "      <td>LAX</td>\n",
       "    </tr>\n",
       "  </tbody>\n",
       "</table>\n",
       "</div>"
      ],
      "text/plain": [
       "       STATION        DATE  AWND  PRCP  SNOW  SNWD   TAVG   TMAX   TMIN  \\\n",
       "0  USW00023174  2014-01-01    16     0   NaN   NaN  131.0  178.0   78.0   \n",
       "1  USW00023174  2014-01-02    22     0   NaN   NaN  159.0  256.0  100.0   \n",
       "2  USW00023174  2014-01-03    17     0   NaN   NaN  140.0  178.0   83.0   \n",
       "3  USW00023174  2014-01-04    18     0   NaN   NaN  136.0  183.0  100.0   \n",
       "4  USW00023174  2014-01-05    18     0   NaN   NaN  151.0  244.0   83.0   \n",
       "\n",
       "  airport  \n",
       "0     LAX  \n",
       "1     LAX  \n",
       "2     LAX  \n",
       "3     LAX  \n",
       "4     LAX  "
      ]
     },
     "metadata": {},
     "output_type": "display_data"
    }
   ],
   "source": [
    "weather = pd.read_csv('/home/ec2-user/SageMaker/project/data/daily-summaries.csv')\n",
    "\n",
    "print(weather.shape)\n",
    "display(weather.head())\n",
    "\n",
    "station = ['USW00023174','USW00012960','USW00003017','USW00094846','USW00013874','USW00023234','USW00003927','USW00023183','USW00013881'] \n",
    "airports = ['LAX', 'IAH', 'DEN', 'ORD', 'ATL', 'SFO', 'DFW', 'PHX', 'CLT']\n",
    "\n",
    "### Map weather stations to airport code\n",
    "station_map = {s:a for s,a in zip(station, airports)}\n",
    "weather['airport'] = weather['STATION'].map(station_map)\n",
    "\n",
    "print(weather.shape)\n",
    "display(weather.head())"
   ]
  },
  {
   "cell_type": "markdown",
   "metadata": {},
   "source": [
    "From the **DATE** column, create another column called *MONTH*."
   ]
  },
  {
   "cell_type": "code",
   "execution_count": 19,
   "metadata": {},
   "outputs": [
    {
     "name": "stdout",
     "output_type": "stream",
     "text": [
      "(16434, 11)\n"
     ]
    },
    {
     "data": {
      "text/html": [
       "<div>\n",
       "<style scoped>\n",
       "    .dataframe tbody tr th:only-of-type {\n",
       "        vertical-align: middle;\n",
       "    }\n",
       "\n",
       "    .dataframe tbody tr th {\n",
       "        vertical-align: top;\n",
       "    }\n",
       "\n",
       "    .dataframe thead th {\n",
       "        text-align: right;\n",
       "    }\n",
       "</style>\n",
       "<table border=\"1\" class=\"dataframe\">\n",
       "  <thead>\n",
       "    <tr style=\"text-align: right;\">\n",
       "      <th></th>\n",
       "      <th>STATION</th>\n",
       "      <th>DATE</th>\n",
       "      <th>AWND</th>\n",
       "      <th>PRCP</th>\n",
       "      <th>SNOW</th>\n",
       "      <th>SNWD</th>\n",
       "      <th>TAVG</th>\n",
       "      <th>TMAX</th>\n",
       "      <th>TMIN</th>\n",
       "      <th>airport</th>\n",
       "      <th>MONTH</th>\n",
       "    </tr>\n",
       "  </thead>\n",
       "  <tbody>\n",
       "    <tr>\n",
       "      <th>0</th>\n",
       "      <td>USW00023174</td>\n",
       "      <td>2014-01-01</td>\n",
       "      <td>16</td>\n",
       "      <td>0</td>\n",
       "      <td>NaN</td>\n",
       "      <td>NaN</td>\n",
       "      <td>131.0</td>\n",
       "      <td>178.0</td>\n",
       "      <td>78.0</td>\n",
       "      <td>LAX</td>\n",
       "      <td>01</td>\n",
       "    </tr>\n",
       "    <tr>\n",
       "      <th>1</th>\n",
       "      <td>USW00023174</td>\n",
       "      <td>2014-01-02</td>\n",
       "      <td>22</td>\n",
       "      <td>0</td>\n",
       "      <td>NaN</td>\n",
       "      <td>NaN</td>\n",
       "      <td>159.0</td>\n",
       "      <td>256.0</td>\n",
       "      <td>100.0</td>\n",
       "      <td>LAX</td>\n",
       "      <td>01</td>\n",
       "    </tr>\n",
       "    <tr>\n",
       "      <th>2</th>\n",
       "      <td>USW00023174</td>\n",
       "      <td>2014-01-03</td>\n",
       "      <td>17</td>\n",
       "      <td>0</td>\n",
       "      <td>NaN</td>\n",
       "      <td>NaN</td>\n",
       "      <td>140.0</td>\n",
       "      <td>178.0</td>\n",
       "      <td>83.0</td>\n",
       "      <td>LAX</td>\n",
       "      <td>01</td>\n",
       "    </tr>\n",
       "    <tr>\n",
       "      <th>3</th>\n",
       "      <td>USW00023174</td>\n",
       "      <td>2014-01-04</td>\n",
       "      <td>18</td>\n",
       "      <td>0</td>\n",
       "      <td>NaN</td>\n",
       "      <td>NaN</td>\n",
       "      <td>136.0</td>\n",
       "      <td>183.0</td>\n",
       "      <td>100.0</td>\n",
       "      <td>LAX</td>\n",
       "      <td>01</td>\n",
       "    </tr>\n",
       "    <tr>\n",
       "      <th>4</th>\n",
       "      <td>USW00023174</td>\n",
       "      <td>2014-01-05</td>\n",
       "      <td>18</td>\n",
       "      <td>0</td>\n",
       "      <td>NaN</td>\n",
       "      <td>NaN</td>\n",
       "      <td>151.0</td>\n",
       "      <td>244.0</td>\n",
       "      <td>83.0</td>\n",
       "      <td>LAX</td>\n",
       "      <td>01</td>\n",
       "    </tr>\n",
       "  </tbody>\n",
       "</table>\n",
       "</div>"
      ],
      "text/plain": [
       "       STATION        DATE  AWND  PRCP  SNOW  SNWD   TAVG   TMAX   TMIN  \\\n",
       "0  USW00023174  2014-01-01    16     0   NaN   NaN  131.0  178.0   78.0   \n",
       "1  USW00023174  2014-01-02    22     0   NaN   NaN  159.0  256.0  100.0   \n",
       "2  USW00023174  2014-01-03    17     0   NaN   NaN  140.0  178.0   83.0   \n",
       "3  USW00023174  2014-01-04    18     0   NaN   NaN  136.0  183.0  100.0   \n",
       "4  USW00023174  2014-01-05    18     0   NaN   NaN  151.0  244.0   83.0   \n",
       "\n",
       "  airport MONTH  \n",
       "0     LAX    01  \n",
       "1     LAX    01  \n",
       "2     LAX    01  \n",
       "3     LAX    01  \n",
       "4     LAX    01  "
      ]
     },
     "metadata": {},
     "output_type": "display_data"
    }
   ],
   "source": [
    "weather['MONTH'] = weather['DATE'].apply(lambda x: x.split('-')[1])\n",
    "\n",
    "# weather.head()\n",
    "print(weather.shape)\n",
    "display(weather.head())"
   ]
  },
  {
   "cell_type": "markdown",
   "metadata": {},
   "source": [
    "### Sample output\n",
    "```\n",
    "  STATION     DATE      AWND PRCP SNOW SNWD TAVG TMAX  TMIN airport MONTH\n",
    "0 USW00023174 2014-01-01 16   0   NaN  NaN 131.0 178.0 78.0  LAX    01\n",
    "1 USW00023174 2014-01-02 22   0   NaN  NaN 159.0 256.0 100.0 LAX    01\n",
    "2 USW00023174 2014-01-03 17   0   NaN  NaN 140.0 178.0 83.0  LAX    01\n",
    "3 USW00023174 2014-01-04 18   0   NaN  NaN 136.0 183.0 100.0 LAX    01\n",
    "4 USW00023174 2014-01-05 18   0   NaN  NaN 151.0 244.0 83.0  LAX    01\n",
    "```"
   ]
  },
  {
   "cell_type": "markdown",
   "metadata": {},
   "source": [
    "Analyze and handle the **SNOW** and **SNWD** columns for missing values by using `fillna()`. To check the missing values for all the columns, use the `isna()` function."
   ]
  },
  {
   "cell_type": "code",
   "execution_count": 20,
   "metadata": {},
   "outputs": [
    {
     "data": {
      "text/plain": [
       "STATION       0\n",
       "DATE          0\n",
       "AWND          0\n",
       "PRCP          0\n",
       "SNOW       4435\n",
       "SNWD       4415\n",
       "TAVG         62\n",
       "TMAX         20\n",
       "TMIN         20\n",
       "airport       0\n",
       "MONTH         0\n",
       "dtype: int64"
      ]
     },
     "execution_count": 20,
     "metadata": {},
     "output_type": "execute_result"
    }
   ],
   "source": [
    "weather.isna().sum()"
   ]
  },
  {
   "cell_type": "code",
   "execution_count": 21,
   "metadata": {},
   "outputs": [
    {
     "data": {
      "text/plain": [
       "STATION     0\n",
       "DATE        0\n",
       "AWND        0\n",
       "PRCP        0\n",
       "SNOW        0\n",
       "SNWD        0\n",
       "TAVG       62\n",
       "TMAX       20\n",
       "TMIN       20\n",
       "airport     0\n",
       "MONTH       0\n",
       "dtype: int64"
      ]
     },
     "execution_count": 21,
     "metadata": {},
     "output_type": "execute_result"
    }
   ],
   "source": [
    "weather.SNOW.fillna(0, inplace=True)\n",
    "weather.SNWD.fillna(0, inplace=True)\n",
    "weather.isna().sum()"
   ]
  },
  {
   "cell_type": "code",
   "execution_count": 22,
   "metadata": {},
   "outputs": [
    {
     "name": "stdout",
     "output_type": "stream",
     "text": [
      "[ 0  1  2  3  4  5  6  7  8  9 10 11 12 13 14 15 16 17 18 19 20 21 22 23\n",
      " 24]\n",
      "0\n",
      "16433\n",
      "62\n",
      "[ 3956  3957  3958  3959  3960  3961  3962  3963  3964  3965  3966  3967\n",
      "  3968  3969  3970  3971  3972  3973  3974  3975  3976  3977  3978  3979\n",
      "  3980  3981  3982  3983  3984  3985  4017  4018  4019  4020  4021  4022\n",
      "  4023  4024  4025  4026  4027  4028  4029  4030  4031  4032  4033  4034\n",
      "  4035  4036  4037  4038  4039  4040  4041  4042  4043  4044  4045  4046\n",
      "  4047 13420]\n",
      "20\n",
      "[10763 10764 10765 10766 10767 10768 10769 10770 10771 10772 10773 10774\n",
      " 10775 10776 10777 10778 10779 10780 10781 10782]\n",
      "20\n",
      "[10763 10764 10765 10766 10767 10768 10769 10770 10771 10772 10773 10774\n",
      " 10775 10776 10777 10778 10779 10780 10781 10782]\n"
     ]
    }
   ],
   "source": [
    "###Print the index of the rows that have missing values for *TAVG*, *TMAX*, *TMIN*.\n",
    "\n",
    "# idx = np.array([i for i in range(len(weather))])\n",
    "# TAVG_idx = idx[weather.TAVG.isna()] \n",
    "# TMAX_idx = #  \n",
    "# TMIN_idx = #  \n",
    "# TAVG_idx\n",
    "\n",
    "idx = np.array([i for i in range(len(weather))])\n",
    "print(idx[0:25,])\n",
    "print(idx[0])\n",
    "print(idx[-1])\n",
    "\n",
    "TAVG_idx = idx[weather.TAVG.isna()] \n",
    "TMAX_idx = idx[weather.TMAX.isna()] \n",
    "TMIN_idx = idx[weather.TMIN.isna()] \n",
    "\n",
    "print(len(TAVG_idx))\n",
    "print(TAVG_idx)\n",
    "\n",
    "print(len(TMAX_idx))\n",
    "print(TMAX_idx)\n",
    "\n",
    "print(len(TMIN_idx))\n",
    "print(TMIN_idx)"
   ]
  },
  {
   "cell_type": "markdown",
   "metadata": {},
   "source": [
    "### Sample output\n",
    "\n",
    "```\n",
    "array([ 3956,  3957,  3958,  3959,  3960,  3961,  3962,  3963,  3964,\n",
    "        3965,  3966,  3967,  3968,  3969,  3970,  3971,  3972,  3973,\n",
    "        3974,  3975,  3976,  3977,  3978,  3979,  3980,  3981,  3982,\n",
    "        3983,  3984,  3985,  4017,  4018,  4019,  4020,  4021,  4022,\n",
    "        4023,  4024,  4025,  4026,  4027,  4028,  4029,  4030,  4031,\n",
    "        4032,  4033,  4034,  4035,  4036,  4037,  4038,  4039,  4040,\n",
    "        4041,  4042,  4043,  4044,  4045,  4046,  4047, 13420])\n",
    "```"
   ]
  },
  {
   "cell_type": "markdown",
   "metadata": {},
   "source": [
    "You can replace the missing *TAVG*, *TMAX*, and *TMIN* values with the average value for a particular station or airport. Because consecutive rows of *TAVG_idx* are missing, replacing them with a previous value is not be possible, so instead, replace them with the mean. Use the `groupby` function to aggregate the variables with a mean value for each unique combination of 'MONTH' and 'STATION'."
   ]
  },
  {
   "cell_type": "code",
   "execution_count": 24,
   "metadata": {},
   "outputs": [
    {
     "data": {
      "text/html": [
       "<div>\n",
       "<style scoped>\n",
       "    .dataframe tbody tr th:only-of-type {\n",
       "        vertical-align: middle;\n",
       "    }\n",
       "\n",
       "    .dataframe tbody tr th {\n",
       "        vertical-align: top;\n",
       "    }\n",
       "\n",
       "    .dataframe thead th {\n",
       "        text-align: right;\n",
       "    }\n",
       "</style>\n",
       "<table border=\"1\" class=\"dataframe\">\n",
       "  <thead>\n",
       "    <tr style=\"text-align: right;\">\n",
       "      <th></th>\n",
       "      <th>MONTH</th>\n",
       "      <th>STATION</th>\n",
       "      <th>TAVG</th>\n",
       "      <th>TMAX</th>\n",
       "      <th>TMIN</th>\n",
       "    </tr>\n",
       "  </thead>\n",
       "  <tbody>\n",
       "    <tr>\n",
       "      <th>0</th>\n",
       "      <td>01</td>\n",
       "      <td>USW00003017</td>\n",
       "      <td>-2.741935</td>\n",
       "      <td>74.000000</td>\n",
       "      <td>-69.858065</td>\n",
       "    </tr>\n",
       "    <tr>\n",
       "      <th>1</th>\n",
       "      <td>01</td>\n",
       "      <td>USW00003927</td>\n",
       "      <td>79.529032</td>\n",
       "      <td>143.767742</td>\n",
       "      <td>20.696774</td>\n",
       "    </tr>\n",
       "    <tr>\n",
       "      <th>2</th>\n",
       "      <td>01</td>\n",
       "      <td>USW00012960</td>\n",
       "      <td>110.535484</td>\n",
       "      <td>170.438710</td>\n",
       "      <td>52.425806</td>\n",
       "    </tr>\n",
       "    <tr>\n",
       "      <th>3</th>\n",
       "      <td>01</td>\n",
       "      <td>USW00013874</td>\n",
       "      <td>59.070968</td>\n",
       "      <td>114.600000</td>\n",
       "      <td>8.161290</td>\n",
       "    </tr>\n",
       "    <tr>\n",
       "      <th>4</th>\n",
       "      <td>01</td>\n",
       "      <td>USW00013881</td>\n",
       "      <td>48.929032</td>\n",
       "      <td>106.529032</td>\n",
       "      <td>-15.645161</td>\n",
       "    </tr>\n",
       "    <tr>\n",
       "      <th>...</th>\n",
       "      <td>...</td>\n",
       "      <td>...</td>\n",
       "      <td>...</td>\n",
       "      <td>...</td>\n",
       "      <td>...</td>\n",
       "    </tr>\n",
       "    <tr>\n",
       "      <th>103</th>\n",
       "      <td>12</td>\n",
       "      <td>USW00013881</td>\n",
       "      <td>87.670968</td>\n",
       "      <td>138.870968</td>\n",
       "      <td>31.625806</td>\n",
       "    </tr>\n",
       "    <tr>\n",
       "      <th>104</th>\n",
       "      <td>12</td>\n",
       "      <td>USW00023174</td>\n",
       "      <td>147.922581</td>\n",
       "      <td>195.032258</td>\n",
       "      <td>102.038710</td>\n",
       "    </tr>\n",
       "    <tr>\n",
       "      <th>105</th>\n",
       "      <td>12</td>\n",
       "      <td>USW00023183</td>\n",
       "      <td>135.806452</td>\n",
       "      <td>198.206452</td>\n",
       "      <td>78.787097</td>\n",
       "    </tr>\n",
       "    <tr>\n",
       "      <th>106</th>\n",
       "      <td>12</td>\n",
       "      <td>USW00023234</td>\n",
       "      <td>115.025806</td>\n",
       "      <td>147.032258</td>\n",
       "      <td>80.361290</td>\n",
       "    </tr>\n",
       "    <tr>\n",
       "      <th>107</th>\n",
       "      <td>12</td>\n",
       "      <td>USW00094846</td>\n",
       "      <td>-2.735484</td>\n",
       "      <td>29.522581</td>\n",
       "      <td>-36.703226</td>\n",
       "    </tr>\n",
       "  </tbody>\n",
       "</table>\n",
       "<p>108 rows × 5 columns</p>\n",
       "</div>"
      ],
      "text/plain": [
       "    MONTH      STATION        TAVG        TMAX        TMIN\n",
       "0      01  USW00003017   -2.741935   74.000000  -69.858065\n",
       "1      01  USW00003927   79.529032  143.767742   20.696774\n",
       "2      01  USW00012960  110.535484  170.438710   52.425806\n",
       "3      01  USW00013874   59.070968  114.600000    8.161290\n",
       "4      01  USW00013881   48.929032  106.529032  -15.645161\n",
       "..    ...          ...         ...         ...         ...\n",
       "103    12  USW00013881   87.670968  138.870968   31.625806\n",
       "104    12  USW00023174  147.922581  195.032258  102.038710\n",
       "105    12  USW00023183  135.806452  198.206452   78.787097\n",
       "106    12  USW00023234  115.025806  147.032258   80.361290\n",
       "107    12  USW00094846   -2.735484   29.522581  -36.703226\n",
       "\n",
       "[108 rows x 5 columns]"
      ]
     },
     "metadata": {},
     "output_type": "display_data"
    }
   ],
   "source": [
    "weather_impute = weather.groupby(['MONTH','STATION']).agg({'TAVG':'mean','TMAX':'mean', 'TMIN':'mean' }).reset_index()\n",
    "display(weather_impute)"
   ]
  },
  {
   "cell_type": "markdown",
   "metadata": {},
   "source": [
    "Merge the mean data with the weather data."
   ]
  },
  {
   "cell_type": "code",
   "execution_count": 25,
   "metadata": {},
   "outputs": [
    {
     "name": "stdout",
     "output_type": "stream",
     "text": [
      "(16434, 14)\n"
     ]
    },
    {
     "data": {
      "text/html": [
       "<div>\n",
       "<style scoped>\n",
       "    .dataframe tbody tr th:only-of-type {\n",
       "        vertical-align: middle;\n",
       "    }\n",
       "\n",
       "    .dataframe tbody tr th {\n",
       "        vertical-align: top;\n",
       "    }\n",
       "\n",
       "    .dataframe thead th {\n",
       "        text-align: right;\n",
       "    }\n",
       "</style>\n",
       "<table border=\"1\" class=\"dataframe\">\n",
       "  <thead>\n",
       "    <tr style=\"text-align: right;\">\n",
       "      <th></th>\n",
       "      <th>STATION</th>\n",
       "      <th>DATE</th>\n",
       "      <th>AWND</th>\n",
       "      <th>PRCP</th>\n",
       "      <th>SNOW</th>\n",
       "      <th>SNWD</th>\n",
       "      <th>TAVG</th>\n",
       "      <th>TMAX</th>\n",
       "      <th>TMIN</th>\n",
       "      <th>airport</th>\n",
       "      <th>MONTH</th>\n",
       "      <th>TAVG_AVG</th>\n",
       "      <th>TMAX_AVG</th>\n",
       "      <th>TMIN_AVG</th>\n",
       "    </tr>\n",
       "  </thead>\n",
       "  <tbody>\n",
       "    <tr>\n",
       "      <th>0</th>\n",
       "      <td>USW00023174</td>\n",
       "      <td>2014-01-01</td>\n",
       "      <td>16</td>\n",
       "      <td>0</td>\n",
       "      <td>0.0</td>\n",
       "      <td>0.0</td>\n",
       "      <td>131.0</td>\n",
       "      <td>178.0</td>\n",
       "      <td>78.0</td>\n",
       "      <td>LAX</td>\n",
       "      <td>01</td>\n",
       "      <td>148.619355</td>\n",
       "      <td>198.154839</td>\n",
       "      <td>103.477419</td>\n",
       "    </tr>\n",
       "    <tr>\n",
       "      <th>1</th>\n",
       "      <td>USW00023174</td>\n",
       "      <td>2014-01-02</td>\n",
       "      <td>22</td>\n",
       "      <td>0</td>\n",
       "      <td>0.0</td>\n",
       "      <td>0.0</td>\n",
       "      <td>159.0</td>\n",
       "      <td>256.0</td>\n",
       "      <td>100.0</td>\n",
       "      <td>LAX</td>\n",
       "      <td>01</td>\n",
       "      <td>148.619355</td>\n",
       "      <td>198.154839</td>\n",
       "      <td>103.477419</td>\n",
       "    </tr>\n",
       "    <tr>\n",
       "      <th>2</th>\n",
       "      <td>USW00023174</td>\n",
       "      <td>2014-01-03</td>\n",
       "      <td>17</td>\n",
       "      <td>0</td>\n",
       "      <td>0.0</td>\n",
       "      <td>0.0</td>\n",
       "      <td>140.0</td>\n",
       "      <td>178.0</td>\n",
       "      <td>83.0</td>\n",
       "      <td>LAX</td>\n",
       "      <td>01</td>\n",
       "      <td>148.619355</td>\n",
       "      <td>198.154839</td>\n",
       "      <td>103.477419</td>\n",
       "    </tr>\n",
       "    <tr>\n",
       "      <th>3</th>\n",
       "      <td>USW00023174</td>\n",
       "      <td>2014-01-04</td>\n",
       "      <td>18</td>\n",
       "      <td>0</td>\n",
       "      <td>0.0</td>\n",
       "      <td>0.0</td>\n",
       "      <td>136.0</td>\n",
       "      <td>183.0</td>\n",
       "      <td>100.0</td>\n",
       "      <td>LAX</td>\n",
       "      <td>01</td>\n",
       "      <td>148.619355</td>\n",
       "      <td>198.154839</td>\n",
       "      <td>103.477419</td>\n",
       "    </tr>\n",
       "    <tr>\n",
       "      <th>4</th>\n",
       "      <td>USW00023174</td>\n",
       "      <td>2014-01-05</td>\n",
       "      <td>18</td>\n",
       "      <td>0</td>\n",
       "      <td>0.0</td>\n",
       "      <td>0.0</td>\n",
       "      <td>151.0</td>\n",
       "      <td>244.0</td>\n",
       "      <td>83.0</td>\n",
       "      <td>LAX</td>\n",
       "      <td>01</td>\n",
       "      <td>148.619355</td>\n",
       "      <td>198.154839</td>\n",
       "      <td>103.477419</td>\n",
       "    </tr>\n",
       "  </tbody>\n",
       "</table>\n",
       "</div>"
      ],
      "text/plain": [
       "       STATION        DATE  AWND  PRCP  SNOW  SNWD   TAVG   TMAX   TMIN  \\\n",
       "0  USW00023174  2014-01-01    16     0   0.0   0.0  131.0  178.0   78.0   \n",
       "1  USW00023174  2014-01-02    22     0   0.0   0.0  159.0  256.0  100.0   \n",
       "2  USW00023174  2014-01-03    17     0   0.0   0.0  140.0  178.0   83.0   \n",
       "3  USW00023174  2014-01-04    18     0   0.0   0.0  136.0  183.0  100.0   \n",
       "4  USW00023174  2014-01-05    18     0   0.0   0.0  151.0  244.0   83.0   \n",
       "\n",
       "  airport MONTH    TAVG_AVG    TMAX_AVG    TMIN_AVG  \n",
       "0     LAX    01  148.619355  198.154839  103.477419  \n",
       "1     LAX    01  148.619355  198.154839  103.477419  \n",
       "2     LAX    01  148.619355  198.154839  103.477419  \n",
       "3     LAX    01  148.619355  198.154839  103.477419  \n",
       "4     LAX    01  148.619355  198.154839  103.477419  "
      ]
     },
     "metadata": {},
     "output_type": "display_data"
    }
   ],
   "source": [
    "weather_2 = pd.merge(weather, weather_impute, how='left', left_on=['MONTH','STATION'], right_on = ['MONTH','STATION'])\\\n",
    ".rename(columns = {'TAVG_y':'TAVG_AVG',\n",
    "                   'TMAX_y':'TMAX_AVG', \n",
    "                   'TMIN_y':'TMIN_AVG',\n",
    "                   'TAVG_x':'TAVG',\n",
    "                   'TMAX_x':'TMAX', \n",
    "                   'TMIN_x':'TMIN'})\n",
    "\n",
    "print(weather_2.shape)\n",
    "display(weather_2.head())"
   ]
  },
  {
   "cell_type": "markdown",
   "metadata": {},
   "source": [
    "Check for missing values again."
   ]
  },
  {
   "cell_type": "code",
   "execution_count": 26,
   "metadata": {},
   "outputs": [
    {
     "data": {
      "text/plain": [
       "STATION     0\n",
       "DATE        0\n",
       "AWND        0\n",
       "PRCP        0\n",
       "SNOW        0\n",
       "SNWD        0\n",
       "TAVG        0\n",
       "TMAX        0\n",
       "TMIN        0\n",
       "airport     0\n",
       "MONTH       0\n",
       "TAVG_AVG    0\n",
       "TMAX_AVG    0\n",
       "TMIN_AVG    0\n",
       "dtype: int64"
      ]
     },
     "execution_count": 26,
     "metadata": {},
     "output_type": "execute_result"
    }
   ],
   "source": [
    "weather = weather_2\n",
    "weather.TAVG[TAVG_idx] = weather.TAVG_AVG[TAVG_idx]\n",
    "weather.TMAX[TMAX_idx] = weather.TMAX_AVG[TMAX_idx]\n",
    "weather.TMIN[TMIN_idx] = weather.TMIN_AVG[TMIN_idx]\n",
    "weather.isna().sum()"
   ]
  },
  {
   "cell_type": "markdown",
   "metadata": {},
   "source": [
    "Drop `STATION,MONTH,TAVG_AVG,TMAX_AVG,TMIN_AVG,TMAX,TMIN,SNWD` from the dataset."
   ]
  },
  {
   "cell_type": "code",
   "execution_count": 27,
   "metadata": {},
   "outputs": [
    {
     "name": "stdout",
     "output_type": "stream",
     "text": [
      "(16434, 14)\n"
     ]
    },
    {
     "data": {
      "text/html": [
       "<div>\n",
       "<style scoped>\n",
       "    .dataframe tbody tr th:only-of-type {\n",
       "        vertical-align: middle;\n",
       "    }\n",
       "\n",
       "    .dataframe tbody tr th {\n",
       "        vertical-align: top;\n",
       "    }\n",
       "\n",
       "    .dataframe thead th {\n",
       "        text-align: right;\n",
       "    }\n",
       "</style>\n",
       "<table border=\"1\" class=\"dataframe\">\n",
       "  <thead>\n",
       "    <tr style=\"text-align: right;\">\n",
       "      <th></th>\n",
       "      <th>STATION</th>\n",
       "      <th>DATE</th>\n",
       "      <th>AWND</th>\n",
       "      <th>PRCP</th>\n",
       "      <th>SNOW</th>\n",
       "      <th>SNWD</th>\n",
       "      <th>TAVG</th>\n",
       "      <th>TMAX</th>\n",
       "      <th>TMIN</th>\n",
       "      <th>airport</th>\n",
       "      <th>MONTH</th>\n",
       "      <th>TAVG_AVG</th>\n",
       "      <th>TMAX_AVG</th>\n",
       "      <th>TMIN_AVG</th>\n",
       "    </tr>\n",
       "  </thead>\n",
       "  <tbody>\n",
       "    <tr>\n",
       "      <th>0</th>\n",
       "      <td>USW00023174</td>\n",
       "      <td>2014-01-01</td>\n",
       "      <td>16</td>\n",
       "      <td>0</td>\n",
       "      <td>0.0</td>\n",
       "      <td>0.0</td>\n",
       "      <td>131.0</td>\n",
       "      <td>178.0</td>\n",
       "      <td>78.0</td>\n",
       "      <td>LAX</td>\n",
       "      <td>01</td>\n",
       "      <td>148.619355</td>\n",
       "      <td>198.154839</td>\n",
       "      <td>103.477419</td>\n",
       "    </tr>\n",
       "    <tr>\n",
       "      <th>1</th>\n",
       "      <td>USW00023174</td>\n",
       "      <td>2014-01-02</td>\n",
       "      <td>22</td>\n",
       "      <td>0</td>\n",
       "      <td>0.0</td>\n",
       "      <td>0.0</td>\n",
       "      <td>159.0</td>\n",
       "      <td>256.0</td>\n",
       "      <td>100.0</td>\n",
       "      <td>LAX</td>\n",
       "      <td>01</td>\n",
       "      <td>148.619355</td>\n",
       "      <td>198.154839</td>\n",
       "      <td>103.477419</td>\n",
       "    </tr>\n",
       "    <tr>\n",
       "      <th>2</th>\n",
       "      <td>USW00023174</td>\n",
       "      <td>2014-01-03</td>\n",
       "      <td>17</td>\n",
       "      <td>0</td>\n",
       "      <td>0.0</td>\n",
       "      <td>0.0</td>\n",
       "      <td>140.0</td>\n",
       "      <td>178.0</td>\n",
       "      <td>83.0</td>\n",
       "      <td>LAX</td>\n",
       "      <td>01</td>\n",
       "      <td>148.619355</td>\n",
       "      <td>198.154839</td>\n",
       "      <td>103.477419</td>\n",
       "    </tr>\n",
       "    <tr>\n",
       "      <th>3</th>\n",
       "      <td>USW00023174</td>\n",
       "      <td>2014-01-04</td>\n",
       "      <td>18</td>\n",
       "      <td>0</td>\n",
       "      <td>0.0</td>\n",
       "      <td>0.0</td>\n",
       "      <td>136.0</td>\n",
       "      <td>183.0</td>\n",
       "      <td>100.0</td>\n",
       "      <td>LAX</td>\n",
       "      <td>01</td>\n",
       "      <td>148.619355</td>\n",
       "      <td>198.154839</td>\n",
       "      <td>103.477419</td>\n",
       "    </tr>\n",
       "    <tr>\n",
       "      <th>4</th>\n",
       "      <td>USW00023174</td>\n",
       "      <td>2014-01-05</td>\n",
       "      <td>18</td>\n",
       "      <td>0</td>\n",
       "      <td>0.0</td>\n",
       "      <td>0.0</td>\n",
       "      <td>151.0</td>\n",
       "      <td>244.0</td>\n",
       "      <td>83.0</td>\n",
       "      <td>LAX</td>\n",
       "      <td>01</td>\n",
       "      <td>148.619355</td>\n",
       "      <td>198.154839</td>\n",
       "      <td>103.477419</td>\n",
       "    </tr>\n",
       "  </tbody>\n",
       "</table>\n",
       "</div>"
      ],
      "text/plain": [
       "       STATION        DATE  AWND  PRCP  SNOW  SNWD   TAVG   TMAX   TMIN  \\\n",
       "0  USW00023174  2014-01-01    16     0   0.0   0.0  131.0  178.0   78.0   \n",
       "1  USW00023174  2014-01-02    22     0   0.0   0.0  159.0  256.0  100.0   \n",
       "2  USW00023174  2014-01-03    17     0   0.0   0.0  140.0  178.0   83.0   \n",
       "3  USW00023174  2014-01-04    18     0   0.0   0.0  136.0  183.0  100.0   \n",
       "4  USW00023174  2014-01-05    18     0   0.0   0.0  151.0  244.0   83.0   \n",
       "\n",
       "  airport MONTH    TAVG_AVG    TMAX_AVG    TMIN_AVG  \n",
       "0     LAX    01  148.619355  198.154839  103.477419  \n",
       "1     LAX    01  148.619355  198.154839  103.477419  \n",
       "2     LAX    01  148.619355  198.154839  103.477419  \n",
       "3     LAX    01  148.619355  198.154839  103.477419  \n",
       "4     LAX    01  148.619355  198.154839  103.477419  "
      ]
     },
     "metadata": {},
     "output_type": "display_data"
    }
   ],
   "source": [
    "print(weather.shape)\n",
    "display(weather.head())"
   ]
  },
  {
   "cell_type": "code",
   "execution_count": 28,
   "metadata": {},
   "outputs": [
    {
     "name": "stdout",
     "output_type": "stream",
     "text": [
      "(16434, 14)\n"
     ]
    },
    {
     "data": {
      "text/html": [
       "<div>\n",
       "<style scoped>\n",
       "    .dataframe tbody tr th:only-of-type {\n",
       "        vertical-align: middle;\n",
       "    }\n",
       "\n",
       "    .dataframe tbody tr th {\n",
       "        vertical-align: top;\n",
       "    }\n",
       "\n",
       "    .dataframe thead th {\n",
       "        text-align: right;\n",
       "    }\n",
       "</style>\n",
       "<table border=\"1\" class=\"dataframe\">\n",
       "  <thead>\n",
       "    <tr style=\"text-align: right;\">\n",
       "      <th></th>\n",
       "      <th>STATION</th>\n",
       "      <th>DATE</th>\n",
       "      <th>AWND</th>\n",
       "      <th>PRCP</th>\n",
       "      <th>SNOW</th>\n",
       "      <th>SNWD</th>\n",
       "      <th>TAVG</th>\n",
       "      <th>TMAX</th>\n",
       "      <th>TMIN</th>\n",
       "      <th>airport</th>\n",
       "      <th>MONTH</th>\n",
       "      <th>TAVG_AVG</th>\n",
       "      <th>TMAX_AVG</th>\n",
       "      <th>TMIN_AVG</th>\n",
       "    </tr>\n",
       "  </thead>\n",
       "  <tbody>\n",
       "    <tr>\n",
       "      <th>0</th>\n",
       "      <td>USW00023174</td>\n",
       "      <td>2014-01-01</td>\n",
       "      <td>16</td>\n",
       "      <td>0</td>\n",
       "      <td>0.0</td>\n",
       "      <td>0.0</td>\n",
       "      <td>131.0</td>\n",
       "      <td>178.0</td>\n",
       "      <td>78.0</td>\n",
       "      <td>LAX</td>\n",
       "      <td>01</td>\n",
       "      <td>148.619355</td>\n",
       "      <td>198.154839</td>\n",
       "      <td>103.477419</td>\n",
       "    </tr>\n",
       "    <tr>\n",
       "      <th>1</th>\n",
       "      <td>USW00023174</td>\n",
       "      <td>2014-01-02</td>\n",
       "      <td>22</td>\n",
       "      <td>0</td>\n",
       "      <td>0.0</td>\n",
       "      <td>0.0</td>\n",
       "      <td>159.0</td>\n",
       "      <td>256.0</td>\n",
       "      <td>100.0</td>\n",
       "      <td>LAX</td>\n",
       "      <td>01</td>\n",
       "      <td>148.619355</td>\n",
       "      <td>198.154839</td>\n",
       "      <td>103.477419</td>\n",
       "    </tr>\n",
       "    <tr>\n",
       "      <th>2</th>\n",
       "      <td>USW00023174</td>\n",
       "      <td>2014-01-03</td>\n",
       "      <td>17</td>\n",
       "      <td>0</td>\n",
       "      <td>0.0</td>\n",
       "      <td>0.0</td>\n",
       "      <td>140.0</td>\n",
       "      <td>178.0</td>\n",
       "      <td>83.0</td>\n",
       "      <td>LAX</td>\n",
       "      <td>01</td>\n",
       "      <td>148.619355</td>\n",
       "      <td>198.154839</td>\n",
       "      <td>103.477419</td>\n",
       "    </tr>\n",
       "    <tr>\n",
       "      <th>3</th>\n",
       "      <td>USW00023174</td>\n",
       "      <td>2014-01-04</td>\n",
       "      <td>18</td>\n",
       "      <td>0</td>\n",
       "      <td>0.0</td>\n",
       "      <td>0.0</td>\n",
       "      <td>136.0</td>\n",
       "      <td>183.0</td>\n",
       "      <td>100.0</td>\n",
       "      <td>LAX</td>\n",
       "      <td>01</td>\n",
       "      <td>148.619355</td>\n",
       "      <td>198.154839</td>\n",
       "      <td>103.477419</td>\n",
       "    </tr>\n",
       "    <tr>\n",
       "      <th>4</th>\n",
       "      <td>USW00023174</td>\n",
       "      <td>2014-01-05</td>\n",
       "      <td>18</td>\n",
       "      <td>0</td>\n",
       "      <td>0.0</td>\n",
       "      <td>0.0</td>\n",
       "      <td>151.0</td>\n",
       "      <td>244.0</td>\n",
       "      <td>83.0</td>\n",
       "      <td>LAX</td>\n",
       "      <td>01</td>\n",
       "      <td>148.619355</td>\n",
       "      <td>198.154839</td>\n",
       "      <td>103.477419</td>\n",
       "    </tr>\n",
       "  </tbody>\n",
       "</table>\n",
       "</div>"
      ],
      "text/plain": [
       "       STATION        DATE  AWND  PRCP  SNOW  SNWD   TAVG   TMAX   TMIN  \\\n",
       "0  USW00023174  2014-01-01    16     0   0.0   0.0  131.0  178.0   78.0   \n",
       "1  USW00023174  2014-01-02    22     0   0.0   0.0  159.0  256.0  100.0   \n",
       "2  USW00023174  2014-01-03    17     0   0.0   0.0  140.0  178.0   83.0   \n",
       "3  USW00023174  2014-01-04    18     0   0.0   0.0  136.0  183.0  100.0   \n",
       "4  USW00023174  2014-01-05    18     0   0.0   0.0  151.0  244.0   83.0   \n",
       "\n",
       "  airport MONTH    TAVG_AVG    TMAX_AVG    TMIN_AVG  \n",
       "0     LAX    01  148.619355  198.154839  103.477419  \n",
       "1     LAX    01  148.619355  198.154839  103.477419  \n",
       "2     LAX    01  148.619355  198.154839  103.477419  \n",
       "3     LAX    01  148.619355  198.154839  103.477419  \n",
       "4     LAX    01  148.619355  198.154839  103.477419  "
      ]
     },
     "metadata": {},
     "output_type": "display_data"
    }
   ],
   "source": [
    "weather_3 = weather.copy()\n",
    "print(weather_3.shape)\n",
    "display(weather_3.head())"
   ]
  },
  {
   "cell_type": "code",
   "execution_count": 29,
   "metadata": {},
   "outputs": [
    {
     "name": "stdout",
     "output_type": "stream",
     "text": [
      "(16434, 6)\n"
     ]
    },
    {
     "data": {
      "text/html": [
       "<div>\n",
       "<style scoped>\n",
       "    .dataframe tbody tr th:only-of-type {\n",
       "        vertical-align: middle;\n",
       "    }\n",
       "\n",
       "    .dataframe tbody tr th {\n",
       "        vertical-align: top;\n",
       "    }\n",
       "\n",
       "    .dataframe thead th {\n",
       "        text-align: right;\n",
       "    }\n",
       "</style>\n",
       "<table border=\"1\" class=\"dataframe\">\n",
       "  <thead>\n",
       "    <tr style=\"text-align: right;\">\n",
       "      <th></th>\n",
       "      <th>DATE</th>\n",
       "      <th>AWND</th>\n",
       "      <th>PRCP</th>\n",
       "      <th>SNOW</th>\n",
       "      <th>TAVG</th>\n",
       "      <th>airport</th>\n",
       "    </tr>\n",
       "  </thead>\n",
       "  <tbody>\n",
       "    <tr>\n",
       "      <th>0</th>\n",
       "      <td>2014-01-01</td>\n",
       "      <td>16</td>\n",
       "      <td>0</td>\n",
       "      <td>0.0</td>\n",
       "      <td>131.0</td>\n",
       "      <td>LAX</td>\n",
       "    </tr>\n",
       "    <tr>\n",
       "      <th>1</th>\n",
       "      <td>2014-01-02</td>\n",
       "      <td>22</td>\n",
       "      <td>0</td>\n",
       "      <td>0.0</td>\n",
       "      <td>159.0</td>\n",
       "      <td>LAX</td>\n",
       "    </tr>\n",
       "    <tr>\n",
       "      <th>2</th>\n",
       "      <td>2014-01-03</td>\n",
       "      <td>17</td>\n",
       "      <td>0</td>\n",
       "      <td>0.0</td>\n",
       "      <td>140.0</td>\n",
       "      <td>LAX</td>\n",
       "    </tr>\n",
       "    <tr>\n",
       "      <th>3</th>\n",
       "      <td>2014-01-04</td>\n",
       "      <td>18</td>\n",
       "      <td>0</td>\n",
       "      <td>0.0</td>\n",
       "      <td>136.0</td>\n",
       "      <td>LAX</td>\n",
       "    </tr>\n",
       "    <tr>\n",
       "      <th>4</th>\n",
       "      <td>2014-01-05</td>\n",
       "      <td>18</td>\n",
       "      <td>0</td>\n",
       "      <td>0.0</td>\n",
       "      <td>151.0</td>\n",
       "      <td>LAX</td>\n",
       "    </tr>\n",
       "  </tbody>\n",
       "</table>\n",
       "</div>"
      ],
      "text/plain": [
       "         DATE  AWND  PRCP  SNOW   TAVG airport\n",
       "0  2014-01-01    16     0   0.0  131.0     LAX\n",
       "1  2014-01-02    22     0   0.0  159.0     LAX\n",
       "2  2014-01-03    17     0   0.0  140.0     LAX\n",
       "3  2014-01-04    18     0   0.0  136.0     LAX\n",
       "4  2014-01-05    18     0   0.0  151.0     LAX"
      ]
     },
     "metadata": {},
     "output_type": "display_data"
    }
   ],
   "source": [
    "weather_3.drop(columns=['STATION','MONTH','TAVG_AVG', 'TMAX_AVG', 'TMIN_AVG', 'TMAX' ,'TMIN', 'SNWD'], inplace=True)\n",
    "print(weather_3.shape)\n",
    "display(weather_3.head())"
   ]
  },
  {
   "cell_type": "markdown",
   "metadata": {},
   "source": [
    "Add the origin and destination weather conditions to the dataset."
   ]
  },
  {
   "cell_type": "code",
   "execution_count": 30,
   "metadata": {},
   "outputs": [
    {
     "name": "stdout",
     "output_type": "stream",
     "text": [
      "(1635590, 30)\n"
     ]
    },
    {
     "data": {
      "text/html": [
       "<div>\n",
       "<style scoped>\n",
       "    .dataframe tbody tr th:only-of-type {\n",
       "        vertical-align: middle;\n",
       "    }\n",
       "\n",
       "    .dataframe tbody tr th {\n",
       "        vertical-align: top;\n",
       "    }\n",
       "\n",
       "    .dataframe thead th {\n",
       "        text-align: right;\n",
       "    }\n",
       "</style>\n",
       "<table border=\"1\" class=\"dataframe\">\n",
       "  <thead>\n",
       "    <tr style=\"text-align: right;\">\n",
       "      <th></th>\n",
       "      <th>Year</th>\n",
       "      <th>Quarter</th>\n",
       "      <th>Month</th>\n",
       "      <th>DayofMonth</th>\n",
       "      <th>DayOfWeek</th>\n",
       "      <th>FlightDate</th>\n",
       "      <th>Reporting_Airline</th>\n",
       "      <th>Origin</th>\n",
       "      <th>OriginState</th>\n",
       "      <th>Dest</th>\n",
       "      <th>...</th>\n",
       "      <th>DepHourofDay</th>\n",
       "      <th>is_holiday</th>\n",
       "      <th>AWND_O</th>\n",
       "      <th>PRCP_O</th>\n",
       "      <th>SNOW_O</th>\n",
       "      <th>TAVG_O</th>\n",
       "      <th>AWND_D</th>\n",
       "      <th>PRCP_D</th>\n",
       "      <th>SNOW_D</th>\n",
       "      <th>TAVG_D</th>\n",
       "    </tr>\n",
       "  </thead>\n",
       "  <tbody>\n",
       "    <tr>\n",
       "      <th>0</th>\n",
       "      <td>2017</td>\n",
       "      <td>2</td>\n",
       "      <td>4</td>\n",
       "      <td>1</td>\n",
       "      <td>6</td>\n",
       "      <td>2017-04-01</td>\n",
       "      <td>DL</td>\n",
       "      <td>ATL</td>\n",
       "      <td>GA</td>\n",
       "      <td>DFW</td>\n",
       "      <td>...</td>\n",
       "      <td>19</td>\n",
       "      <td>False</td>\n",
       "      <td>43</td>\n",
       "      <td>0</td>\n",
       "      <td>0.0</td>\n",
       "      <td>173.0</td>\n",
       "      <td>56</td>\n",
       "      <td>0</td>\n",
       "      <td>0.0</td>\n",
       "      <td>209.0</td>\n",
       "    </tr>\n",
       "    <tr>\n",
       "      <th>1</th>\n",
       "      <td>2017</td>\n",
       "      <td>2</td>\n",
       "      <td>4</td>\n",
       "      <td>1</td>\n",
       "      <td>6</td>\n",
       "      <td>2017-04-01</td>\n",
       "      <td>DL</td>\n",
       "      <td>DFW</td>\n",
       "      <td>TX</td>\n",
       "      <td>ATL</td>\n",
       "      <td>...</td>\n",
       "      <td>17</td>\n",
       "      <td>False</td>\n",
       "      <td>56</td>\n",
       "      <td>0</td>\n",
       "      <td>0.0</td>\n",
       "      <td>209.0</td>\n",
       "      <td>43</td>\n",
       "      <td>0</td>\n",
       "      <td>0.0</td>\n",
       "      <td>173.0</td>\n",
       "    </tr>\n",
       "    <tr>\n",
       "      <th>2</th>\n",
       "      <td>2017</td>\n",
       "      <td>2</td>\n",
       "      <td>4</td>\n",
       "      <td>1</td>\n",
       "      <td>6</td>\n",
       "      <td>2017-04-01</td>\n",
       "      <td>DL</td>\n",
       "      <td>SFO</td>\n",
       "      <td>CA</td>\n",
       "      <td>ATL</td>\n",
       "      <td>...</td>\n",
       "      <td>14</td>\n",
       "      <td>False</td>\n",
       "      <td>42</td>\n",
       "      <td>0</td>\n",
       "      <td>0.0</td>\n",
       "      <td>159.0</td>\n",
       "      <td>43</td>\n",
       "      <td>0</td>\n",
       "      <td>0.0</td>\n",
       "      <td>173.0</td>\n",
       "    </tr>\n",
       "    <tr>\n",
       "      <th>3</th>\n",
       "      <td>2017</td>\n",
       "      <td>2</td>\n",
       "      <td>4</td>\n",
       "      <td>1</td>\n",
       "      <td>6</td>\n",
       "      <td>2017-04-01</td>\n",
       "      <td>DL</td>\n",
       "      <td>SFO</td>\n",
       "      <td>CA</td>\n",
       "      <td>ATL</td>\n",
       "      <td>...</td>\n",
       "      <td>6</td>\n",
       "      <td>False</td>\n",
       "      <td>42</td>\n",
       "      <td>0</td>\n",
       "      <td>0.0</td>\n",
       "      <td>159.0</td>\n",
       "      <td>43</td>\n",
       "      <td>0</td>\n",
       "      <td>0.0</td>\n",
       "      <td>173.0</td>\n",
       "    </tr>\n",
       "    <tr>\n",
       "      <th>4</th>\n",
       "      <td>2017</td>\n",
       "      <td>2</td>\n",
       "      <td>4</td>\n",
       "      <td>1</td>\n",
       "      <td>6</td>\n",
       "      <td>2017-04-01</td>\n",
       "      <td>DL</td>\n",
       "      <td>ATL</td>\n",
       "      <td>GA</td>\n",
       "      <td>SFO</td>\n",
       "      <td>...</td>\n",
       "      <td>16</td>\n",
       "      <td>False</td>\n",
       "      <td>43</td>\n",
       "      <td>0</td>\n",
       "      <td>0.0</td>\n",
       "      <td>173.0</td>\n",
       "      <td>42</td>\n",
       "      <td>0</td>\n",
       "      <td>0.0</td>\n",
       "      <td>159.0</td>\n",
       "    </tr>\n",
       "  </tbody>\n",
       "</table>\n",
       "<p>5 rows × 30 columns</p>\n",
       "</div>"
      ],
      "text/plain": [
       "   Year  Quarter  Month  DayofMonth  DayOfWeek  FlightDate Reporting_Airline  \\\n",
       "0  2017        2      4           1          6  2017-04-01                DL   \n",
       "1  2017        2      4           1          6  2017-04-01                DL   \n",
       "2  2017        2      4           1          6  2017-04-01                DL   \n",
       "3  2017        2      4           1          6  2017-04-01                DL   \n",
       "4  2017        2      4           1          6  2017-04-01                DL   \n",
       "\n",
       "  Origin OriginState Dest  ... DepHourofDay  is_holiday  AWND_O  PRCP_O  \\\n",
       "0    ATL          GA  DFW  ...           19       False      43       0   \n",
       "1    DFW          TX  ATL  ...           17       False      56       0   \n",
       "2    SFO          CA  ATL  ...           14       False      42       0   \n",
       "3    SFO          CA  ATL  ...            6       False      42       0   \n",
       "4    ATL          GA  SFO  ...           16       False      43       0   \n",
       "\n",
       "   SNOW_O  TAVG_O  AWND_D  PRCP_D  SNOW_D  TAVG_D  \n",
       "0     0.0   173.0      56       0     0.0   209.0  \n",
       "1     0.0   209.0      43       0     0.0   173.0  \n",
       "2     0.0   159.0      43       0     0.0   173.0  \n",
       "3     0.0   159.0      43       0     0.0   173.0  \n",
       "4     0.0   173.0      42       0     0.0   159.0  \n",
       "\n",
       "[5 rows x 30 columns]"
      ]
     },
     "metadata": {},
     "output_type": "display_data"
    }
   ],
   "source": [
    "### Add origin weather conditions\n",
    "data_orig_3 = pd.merge(data_orig_2, weather_3,  how='left', left_on=['FlightDate','Origin'], right_on = ['DATE','airport'])\\\n",
    ".rename(columns = {'AWND':'AWND_O','PRCP':'PRCP_O', 'TAVG':'TAVG_O', 'SNOW': 'SNOW_O'})\\\n",
    ".drop(columns=['DATE','airport'])\n",
    "\n",
    "### Add destination weather conditions\n",
    "data_orig_4 = pd.merge(data_orig_3, weather_3,  how='left', left_on=['FlightDate','Dest'], right_on = ['DATE','airport'])\\\n",
    ".rename(columns = {'AWND':'AWND_D','PRCP':'PRCP_D', 'TAVG':'TAVG_D', 'SNOW': 'SNOW_D'})\\\n",
    ".drop(columns=['DATE','airport'])\n",
    "\n",
    "print(data_orig_4.shape)\n",
    "display(data_orig_4.head())"
   ]
  },
  {
   "cell_type": "markdown",
   "metadata": {},
   "source": [
    "**Note**: It's always a good practice to check for nulls or NAs after joins."
   ]
  },
  {
   "cell_type": "code",
   "execution_count": 31,
   "metadata": {},
   "outputs": [
    {
     "data": {
      "text/plain": [
       "0"
      ]
     },
     "execution_count": 31,
     "metadata": {},
     "output_type": "execute_result"
    }
   ],
   "source": [
    "sum(data_orig_4.isna().any())"
   ]
  },
  {
   "cell_type": "code",
   "execution_count": 32,
   "metadata": {},
   "outputs": [
    {
     "name": "stdout",
     "output_type": "stream",
     "text": [
      "['Year', 'Quarter', 'Month', 'DayofMonth', 'DayOfWeek', 'FlightDate', 'Reporting_Airline', 'Origin', 'OriginState', 'Dest', 'DestState', 'CRSDepTime', 'Cancelled', 'Diverted', 'Distance', 'DistanceGroup', 'ArrDelay', 'ArrDelayMinutes', 'is_delay', 'AirTime', 'DepHourofDay', 'is_holiday', 'AWND_O', 'PRCP_O', 'SNOW_O', 'TAVG_O', 'AWND_D', 'PRCP_D', 'SNOW_D', 'TAVG_D']\n"
     ]
    }
   ],
   "source": [
    "# data_orig.columns\n",
    "print(data_orig_4.columns.tolist())"
   ]
  },
  {
   "cell_type": "markdown",
   "metadata": {},
   "source": [
    "Convert the categorical data into numerical data by using one-hot encoding."
   ]
  },
  {
   "cell_type": "code",
   "execution_count": 33,
   "metadata": {},
   "outputs": [
    {
     "name": "stdout",
     "output_type": "stream",
     "text": [
      "is_delay              float64\n",
      "Year                 category\n",
      "Quarter              category\n",
      "Month                category\n",
      "DayofMonth           category\n",
      "DayOfWeek            category\n",
      "Reporting_Airline    category\n",
      "Origin               category\n",
      "Dest                 category\n",
      "Distance              float64\n",
      "DepHourofDay            int64\n",
      "is_holiday           category\n",
      "AWND_O                  int64\n",
      "PRCP_O                  int64\n",
      "TAVG_O                float64\n",
      "AWND_D                  int64\n",
      "PRCP_D                  int64\n",
      "TAVG_D                float64\n",
      "SNOW_O                float64\n",
      "SNOW_D                float64\n",
      "dtype: object\n"
     ]
    }
   ],
   "source": [
    "data = data_orig_4[['is_delay', 'Year', 'Quarter', 'Month', 'DayofMonth', 'DayOfWeek', \n",
    "       'Reporting_Airline', 'Origin', 'Dest','Distance','DepHourofDay','is_holiday', 'AWND_O', 'PRCP_O',\n",
    "       'TAVG_O', 'AWND_D', 'PRCP_D', 'TAVG_D', 'SNOW_O', 'SNOW_D']]\n",
    "\n",
    "\n",
    "categorical_columns = ['Year', 'Quarter', 'Month', 'DayofMonth', 'DayOfWeek', \n",
    "       'Reporting_Airline', 'Origin', 'Dest', 'is_holiday']\n",
    "data_2 = data.copy()\n",
    "for c in categorical_columns:\n",
    "    data_2[c] = data[c].astype('category')\n",
    "\n",
    "print(data_2.dtypes)"
   ]
  },
  {
   "cell_type": "code",
   "execution_count": 34,
   "metadata": {},
   "outputs": [
    {
     "name": "stdout",
     "output_type": "stream",
     "text": [
      "(1635590, 86)\n",
      "[dtype('float64'), dtype('float64'), dtype('int64'), dtype('int64'), dtype('int64'), dtype('float64'), dtype('int64'), dtype('int64'), dtype('float64'), dtype('float64'), dtype('float64'), dtype('bool'), dtype('bool'), dtype('bool'), dtype('bool'), dtype('bool'), dtype('bool'), dtype('bool'), dtype('bool'), dtype('bool'), dtype('bool'), dtype('bool'), dtype('bool'), dtype('bool'), dtype('bool'), dtype('bool'), dtype('bool'), dtype('bool'), dtype('bool'), dtype('bool'), dtype('bool'), dtype('bool'), dtype('bool'), dtype('bool'), dtype('bool'), dtype('bool'), dtype('bool'), dtype('bool'), dtype('bool'), dtype('bool'), dtype('bool'), dtype('bool'), dtype('bool'), dtype('bool'), dtype('bool'), dtype('bool'), dtype('bool'), dtype('bool'), dtype('bool'), dtype('bool'), dtype('bool'), dtype('bool'), dtype('bool'), dtype('bool'), dtype('bool'), dtype('bool'), dtype('bool'), dtype('bool'), dtype('bool'), dtype('bool'), dtype('bool'), dtype('bool'), dtype('bool'), dtype('bool'), dtype('bool'), dtype('bool'), dtype('bool'), dtype('bool'), dtype('bool'), dtype('bool'), dtype('bool'), dtype('bool'), dtype('bool'), dtype('bool'), dtype('bool'), dtype('bool'), dtype('bool'), dtype('bool'), dtype('bool'), dtype('bool'), dtype('bool'), dtype('bool'), dtype('bool'), dtype('bool'), dtype('bool'), dtype('bool')]\n"
     ]
    },
    {
     "data": {
      "text/html": [
       "<div>\n",
       "<style scoped>\n",
       "    .dataframe tbody tr th:only-of-type {\n",
       "        vertical-align: middle;\n",
       "    }\n",
       "\n",
       "    .dataframe tbody tr th {\n",
       "        vertical-align: top;\n",
       "    }\n",
       "\n",
       "    .dataframe thead th {\n",
       "        text-align: right;\n",
       "    }\n",
       "</style>\n",
       "<table border=\"1\" class=\"dataframe\">\n",
       "  <thead>\n",
       "    <tr style=\"text-align: right;\">\n",
       "      <th></th>\n",
       "      <th>is_delay</th>\n",
       "      <th>Distance</th>\n",
       "      <th>DepHourofDay</th>\n",
       "      <th>AWND_O</th>\n",
       "      <th>PRCP_O</th>\n",
       "      <th>TAVG_O</th>\n",
       "      <th>AWND_D</th>\n",
       "      <th>PRCP_D</th>\n",
       "      <th>TAVG_D</th>\n",
       "      <th>SNOW_O</th>\n",
       "      <th>...</th>\n",
       "      <th>Origin_SFO</th>\n",
       "      <th>Dest_CLT</th>\n",
       "      <th>Dest_DEN</th>\n",
       "      <th>Dest_DFW</th>\n",
       "      <th>Dest_IAH</th>\n",
       "      <th>Dest_LAX</th>\n",
       "      <th>Dest_ORD</th>\n",
       "      <th>Dest_PHX</th>\n",
       "      <th>Dest_SFO</th>\n",
       "      <th>is_holiday_True</th>\n",
       "    </tr>\n",
       "  </thead>\n",
       "  <tbody>\n",
       "    <tr>\n",
       "      <th>0</th>\n",
       "      <td>0.0</td>\n",
       "      <td>731.0</td>\n",
       "      <td>19</td>\n",
       "      <td>43</td>\n",
       "      <td>0</td>\n",
       "      <td>173.0</td>\n",
       "      <td>56</td>\n",
       "      <td>0</td>\n",
       "      <td>209.0</td>\n",
       "      <td>0.0</td>\n",
       "      <td>...</td>\n",
       "      <td>False</td>\n",
       "      <td>False</td>\n",
       "      <td>False</td>\n",
       "      <td>True</td>\n",
       "      <td>False</td>\n",
       "      <td>False</td>\n",
       "      <td>False</td>\n",
       "      <td>False</td>\n",
       "      <td>False</td>\n",
       "      <td>False</td>\n",
       "    </tr>\n",
       "    <tr>\n",
       "      <th>1</th>\n",
       "      <td>0.0</td>\n",
       "      <td>731.0</td>\n",
       "      <td>17</td>\n",
       "      <td>56</td>\n",
       "      <td>0</td>\n",
       "      <td>209.0</td>\n",
       "      <td>43</td>\n",
       "      <td>0</td>\n",
       "      <td>173.0</td>\n",
       "      <td>0.0</td>\n",
       "      <td>...</td>\n",
       "      <td>False</td>\n",
       "      <td>False</td>\n",
       "      <td>False</td>\n",
       "      <td>False</td>\n",
       "      <td>False</td>\n",
       "      <td>False</td>\n",
       "      <td>False</td>\n",
       "      <td>False</td>\n",
       "      <td>False</td>\n",
       "      <td>False</td>\n",
       "    </tr>\n",
       "    <tr>\n",
       "      <th>2</th>\n",
       "      <td>1.0</td>\n",
       "      <td>2139.0</td>\n",
       "      <td>14</td>\n",
       "      <td>42</td>\n",
       "      <td>0</td>\n",
       "      <td>159.0</td>\n",
       "      <td>43</td>\n",
       "      <td>0</td>\n",
       "      <td>173.0</td>\n",
       "      <td>0.0</td>\n",
       "      <td>...</td>\n",
       "      <td>True</td>\n",
       "      <td>False</td>\n",
       "      <td>False</td>\n",
       "      <td>False</td>\n",
       "      <td>False</td>\n",
       "      <td>False</td>\n",
       "      <td>False</td>\n",
       "      <td>False</td>\n",
       "      <td>False</td>\n",
       "      <td>False</td>\n",
       "    </tr>\n",
       "    <tr>\n",
       "      <th>3</th>\n",
       "      <td>1.0</td>\n",
       "      <td>2139.0</td>\n",
       "      <td>6</td>\n",
       "      <td>42</td>\n",
       "      <td>0</td>\n",
       "      <td>159.0</td>\n",
       "      <td>43</td>\n",
       "      <td>0</td>\n",
       "      <td>173.0</td>\n",
       "      <td>0.0</td>\n",
       "      <td>...</td>\n",
       "      <td>True</td>\n",
       "      <td>False</td>\n",
       "      <td>False</td>\n",
       "      <td>False</td>\n",
       "      <td>False</td>\n",
       "      <td>False</td>\n",
       "      <td>False</td>\n",
       "      <td>False</td>\n",
       "      <td>False</td>\n",
       "      <td>False</td>\n",
       "    </tr>\n",
       "    <tr>\n",
       "      <th>4</th>\n",
       "      <td>1.0</td>\n",
       "      <td>2139.0</td>\n",
       "      <td>16</td>\n",
       "      <td>43</td>\n",
       "      <td>0</td>\n",
       "      <td>173.0</td>\n",
       "      <td>42</td>\n",
       "      <td>0</td>\n",
       "      <td>159.0</td>\n",
       "      <td>0.0</td>\n",
       "      <td>...</td>\n",
       "      <td>False</td>\n",
       "      <td>False</td>\n",
       "      <td>False</td>\n",
       "      <td>False</td>\n",
       "      <td>False</td>\n",
       "      <td>False</td>\n",
       "      <td>False</td>\n",
       "      <td>False</td>\n",
       "      <td>True</td>\n",
       "      <td>False</td>\n",
       "    </tr>\n",
       "  </tbody>\n",
       "</table>\n",
       "<p>5 rows × 86 columns</p>\n",
       "</div>"
      ],
      "text/plain": [
       "   is_delay  Distance  DepHourofDay  AWND_O  PRCP_O  TAVG_O  AWND_D  PRCP_D  \\\n",
       "0       0.0     731.0            19      43       0   173.0      56       0   \n",
       "1       0.0     731.0            17      56       0   209.0      43       0   \n",
       "2       1.0    2139.0            14      42       0   159.0      43       0   \n",
       "3       1.0    2139.0             6      42       0   159.0      43       0   \n",
       "4       1.0    2139.0            16      43       0   173.0      42       0   \n",
       "\n",
       "   TAVG_D  SNOW_O  ...  Origin_SFO  Dest_CLT  Dest_DEN  Dest_DFW  Dest_IAH  \\\n",
       "0   209.0     0.0  ...       False     False     False      True     False   \n",
       "1   173.0     0.0  ...       False     False     False     False     False   \n",
       "2   173.0     0.0  ...        True     False     False     False     False   \n",
       "3   173.0     0.0  ...        True     False     False     False     False   \n",
       "4   159.0     0.0  ...       False     False     False     False     False   \n",
       "\n",
       "   Dest_LAX  Dest_ORD  Dest_PHX  Dest_SFO  is_holiday_True  \n",
       "0     False     False     False     False            False  \n",
       "1     False     False     False     False            False  \n",
       "2     False     False     False     False            False  \n",
       "3     False     False     False     False            False  \n",
       "4     False     False     False      True            False  \n",
       "\n",
       "[5 rows x 86 columns]"
      ]
     },
     "metadata": {},
     "output_type": "display_data"
    }
   ],
   "source": [
    "data_dummies = pd.get_dummies(data_2[categorical_columns], drop_first=True)\n",
    "data_3 = pd.concat([data_2, data_dummies], axis = 1)\n",
    "data_3.drop(categorical_columns,axis=1, inplace=True)\n",
    "\n",
    "print(data_3.shape)\n",
    "print(data_3.dtypes.tolist())\n",
    "display(data_3.head())"
   ]
  },
  {
   "cell_type": "markdown",
   "metadata": {},
   "source": [
    "Check the new columns."
   ]
  },
  {
   "cell_type": "code",
   "execution_count": 36,
   "metadata": {},
   "outputs": [
    {
     "data": {
      "text/plain": [
       "Index(['is_delay', 'Distance', 'DepHourofDay', 'AWND_O', 'PRCP_O', 'TAVG_O',\n",
       "       'AWND_D', 'PRCP_D', 'TAVG_D', 'SNOW_O', 'SNOW_D', 'Year_2015',\n",
       "       'Year_2016', 'Year_2017', 'Year_2018', 'Quarter_2', 'Quarter_3',\n",
       "       'Quarter_4', 'Month_2', 'Month_3', 'Month_4', 'Month_5', 'Month_6',\n",
       "       'Month_7', 'Month_8', 'Month_9', 'Month_10', 'Month_11', 'Month_12',\n",
       "       'DayofMonth_2', 'DayofMonth_3', 'DayofMonth_4', 'DayofMonth_5',\n",
       "       'DayofMonth_6', 'DayofMonth_7', 'DayofMonth_8', 'DayofMonth_9',\n",
       "       'DayofMonth_10', 'DayofMonth_11', 'DayofMonth_12', 'DayofMonth_13',\n",
       "       'DayofMonth_14', 'DayofMonth_15', 'DayofMonth_16', 'DayofMonth_17',\n",
       "       'DayofMonth_18', 'DayofMonth_19', 'DayofMonth_20', 'DayofMonth_21',\n",
       "       'DayofMonth_22', 'DayofMonth_23', 'DayofMonth_24', 'DayofMonth_25',\n",
       "       'DayofMonth_26', 'DayofMonth_27', 'DayofMonth_28', 'DayofMonth_29',\n",
       "       'DayofMonth_30', 'DayofMonth_31', 'DayOfWeek_2', 'DayOfWeek_3',\n",
       "       'DayOfWeek_4', 'DayOfWeek_5', 'DayOfWeek_6', 'DayOfWeek_7',\n",
       "       'Reporting_Airline_DL', 'Reporting_Airline_OO', 'Reporting_Airline_UA',\n",
       "       'Reporting_Airline_WN', 'Origin_CLT', 'Origin_DEN', 'Origin_DFW',\n",
       "       'Origin_IAH', 'Origin_LAX', 'Origin_ORD', 'Origin_PHX', 'Origin_SFO',\n",
       "       'Dest_CLT', 'Dest_DEN', 'Dest_DFW', 'Dest_IAH', 'Dest_LAX', 'Dest_ORD',\n",
       "       'Dest_PHX', 'Dest_SFO', 'is_holiday_True'],\n",
       "      dtype='object')"
      ]
     },
     "execution_count": 36,
     "metadata": {},
     "output_type": "execute_result"
    }
   ],
   "source": [
    "data_3.columns"
   ]
  },
  {
   "cell_type": "markdown",
   "metadata": {},
   "source": [
    "### Sample output\n",
    "\n",
    "```\n",
    "Index(['Distance', 'DepHourofDay', 'is_delay', 'AWND_O', 'PRCP_O', 'TAVG_O',\n",
    "       'AWND_D', 'PRCP_D', 'TAVG_D', 'SNOW_O', 'SNOW_D', 'Year_2015',\n",
    "       'Year_2016', 'Year_2017', 'Year_2018', 'Quarter_2', 'Quarter_3',\n",
    "       'Quarter_4', 'Month_2', 'Month_3', 'Month_4', 'Month_5', 'Month_6',\n",
    "       'Month_7', 'Month_8', 'Month_9', 'Month_10', 'Month_11', 'Month_12',\n",
    "       'DayofMonth_2', 'DayofMonth_3', 'DayofMonth_4', 'DayofMonth_5',\n",
    "       'DayofMonth_6', 'DayofMonth_7', 'DayofMonth_8', 'DayofMonth_9',\n",
    "       'DayofMonth_10', 'DayofMonth_11', 'DayofMonth_12', 'DayofMonth_13',\n",
    "       'DayofMonth_14', 'DayofMonth_15', 'DayofMonth_16', 'DayofMonth_17',\n",
    "       'DayofMonth_18', 'DayofMonth_19', 'DayofMonth_20', 'DayofMonth_21',\n",
    "       'DayofMonth_22', 'DayofMonth_23', 'DayofMonth_24', 'DayofMonth_25',\n",
    "       'DayofMonth_26', 'DayofMonth_27', 'DayofMonth_28', 'DayofMonth_29',\n",
    "       'DayofMonth_30', 'DayofMonth_31', 'DayOfWeek_2', 'DayOfWeek_3',\n",
    "       'DayOfWeek_4', 'DayOfWeek_5', 'DayOfWeek_6', 'DayOfWeek_7',\n",
    "       'Reporting_Airline_DL', 'Reporting_Airline_OO', 'Reporting_Airline_UA',\n",
    "       'Reporting_Airline_WN', 'Origin_CLT', 'Origin_DEN', 'Origin_DFW',\n",
    "       'Origin_IAH', 'Origin_LAX', 'Origin_ORD', 'Origin_PHX', 'Origin_SFO',\n",
    "       'Dest_CLT', 'Dest_DEN', 'Dest_DFW', 'Dest_IAH', 'Dest_LAX', 'Dest_ORD',\n",
    "       'Dest_PHX', 'Dest_SFO', 'is_holiday_1'],\n",
    "      dtype='object')\n",
    "```"
   ]
  },
  {
   "cell_type": "markdown",
   "metadata": {},
   "source": [
    "Rename the **is_delay** column to *target* again. Use the same code that you used previously."
   ]
  },
  {
   "cell_type": "code",
   "execution_count": 37,
   "metadata": {},
   "outputs": [
    {
     "name": "stdout",
     "output_type": "stream",
     "text": [
      "86\n",
      "['target', 'Distance', 'DepHourofDay', 'AWND_O', 'PRCP_O', 'TAVG_O', 'AWND_D', 'PRCP_D', 'TAVG_D', 'SNOW_O', 'SNOW_D', 'Year_2015', 'Year_2016', 'Year_2017', 'Year_2018', 'Quarter_2', 'Quarter_3', 'Quarter_4', 'Month_2', 'Month_3', 'Month_4', 'Month_5', 'Month_6', 'Month_7', 'Month_8', 'Month_9', 'Month_10', 'Month_11', 'Month_12', 'DayofMonth_2', 'DayofMonth_3', 'DayofMonth_4', 'DayofMonth_5', 'DayofMonth_6', 'DayofMonth_7', 'DayofMonth_8', 'DayofMonth_9', 'DayofMonth_10', 'DayofMonth_11', 'DayofMonth_12', 'DayofMonth_13', 'DayofMonth_14', 'DayofMonth_15', 'DayofMonth_16', 'DayofMonth_17', 'DayofMonth_18', 'DayofMonth_19', 'DayofMonth_20', 'DayofMonth_21', 'DayofMonth_22', 'DayofMonth_23', 'DayofMonth_24', 'DayofMonth_25', 'DayofMonth_26', 'DayofMonth_27', 'DayofMonth_28', 'DayofMonth_29', 'DayofMonth_30', 'DayofMonth_31', 'DayOfWeek_2', 'DayOfWeek_3', 'DayOfWeek_4', 'DayOfWeek_5', 'DayOfWeek_6', 'DayOfWeek_7', 'Reporting_Airline_DL', 'Reporting_Airline_OO', 'Reporting_Airline_UA', 'Reporting_Airline_WN', 'Origin_CLT', 'Origin_DEN', 'Origin_DFW', 'Origin_IAH', 'Origin_LAX', 'Origin_ORD', 'Origin_PHX', 'Origin_SFO', 'Dest_CLT', 'Dest_DEN', 'Dest_DFW', 'Dest_IAH', 'Dest_LAX', 'Dest_ORD', 'Dest_PHX', 'Dest_SFO', 'is_holiday_True']\n"
     ]
    }
   ],
   "source": [
    "data_3.rename(columns = {'is_delay':'target'}, inplace=True)\n",
    "data_3_col_name_list = data_3.columns.tolist()\n",
    "print(len(data_3_col_name_list))\n",
    "print(data_3_col_name_list)"
   ]
  },
  {
   "cell_type": "markdown",
   "metadata": {},
   "source": [
    "## BOOKMARK 4 --- Write 'data_3' DataFrame out as CSV to 'step_4_df_filepath'"
   ]
  },
  {
   "cell_type": "code",
   "execution_count": 40,
   "metadata": {},
   "outputs": [
    {
     "name": "stdout",
     "output_type": "stream",
     "text": [
      "/home/ec2-user/SageMaker/project/data/FlightDelays/step_3_df.csv\n"
     ]
    }
   ],
   "source": [
    "step_3_df_filepath = f\"{base_path}step_3_df.csv\"\n",
    "print(step_3_df_filepath)"
   ]
  },
  {
   "cell_type": "code",
   "execution_count": 56,
   "metadata": {},
   "outputs": [
    {
     "name": "stdout",
     "output_type": "stream",
     "text": [
      "Run time: 0.69 minutes\n"
     ]
    }
   ],
   "source": [
    "start = time.time()\n",
    "\n",
    "data_3.to_csv(step_3_df_filepath, index=False) \n",
    "\n",
    "print(f'Run time: {round((time.time() - start)/60,2)} minutes')"
   ]
  },
  {
   "cell_type": "markdown",
   "metadata": {},
   "source": [
    "## ** Load Pandas DataFrame from 'step_3_df_filepath'"
   ]
  },
  {
   "cell_type": "code",
   "execution_count": 3,
   "metadata": {},
   "outputs": [
    {
     "name": "stdout",
     "output_type": "stream",
     "text": [
      "/home/ec2-user/SageMaker/project/data/FlightDelays/step_3_df.csv\n",
      "data_step3_all.shape:  (1635590, 86)\n",
      "data_step3_first_16k.shape:  (16000, 86)\n"
     ]
    }
   ],
   "source": [
    "step_3_df_filepath = f\"{base_path}step_3_df.csv\"\n",
    "print(step_3_df_filepath)\n",
    "\n",
    "data_step3_all = pd.read_csv(step_3_df_filepath)\n",
    "print('data_step3_all.shape: ', data_step3_all.shape)\n",
    "data_step3_first_16k = data_step3_all[:16000]\n",
    "print('data_step3_first_16k.shape: ', data_step3_first_16k.shape)\n",
    "data = data_step3_first_16k\n",
    "###data = data_step3_all"
   ]
  },
  {
   "cell_type": "code",
   "execution_count": 4,
   "metadata": {},
   "outputs": [
    {
     "name": "stdout",
     "output_type": "stream",
     "text": [
      "Is a Pandas DataFrame!\n",
      "Shape = (16000, 86)\n",
      "No columns have a string data type.\n",
      "All Column names: \n",
      "Index(['target', 'Distance', 'DepHourofDay', 'AWND_O', 'PRCP_O', 'TAVG_O',\n",
      "       'AWND_D', 'PRCP_D', 'TAVG_D', 'SNOW_O', 'SNOW_D', 'Year_2015',\n",
      "       'Year_2016', 'Year_2017', 'Year_2018', 'Quarter_2', 'Quarter_3',\n",
      "       'Quarter_4', 'Month_2', 'Month_3', 'Month_4', 'Month_5', 'Month_6',\n",
      "       'Month_7', 'Month_8', 'Month_9', 'Month_10', 'Month_11', 'Month_12',\n",
      "       'DayofMonth_2', 'DayofMonth_3', 'DayofMonth_4', 'DayofMonth_5',\n",
      "       'DayofMonth_6', 'DayofMonth_7', 'DayofMonth_8', 'DayofMonth_9',\n",
      "       'DayofMonth_10', 'DayofMonth_11', 'DayofMonth_12', 'DayofMonth_13',\n",
      "       'DayofMonth_14', 'DayofMonth_15', 'DayofMonth_16', 'DayofMonth_17',\n",
      "       'DayofMonth_18', 'DayofMonth_19', 'DayofMonth_20', 'DayofMonth_21',\n",
      "       'DayofMonth_22', 'DayofMonth_23', 'DayofMonth_24', 'DayofMonth_25',\n",
      "       'DayofMonth_26', 'DayofMonth_27', 'DayofMonth_28', 'DayofMonth_29',\n",
      "       'DayofMonth_30', 'DayofMonth_31', 'DayOfWeek_2', 'DayOfWeek_3',\n",
      "       'DayOfWeek_4', 'DayOfWeek_5', 'DayOfWeek_6', 'DayOfWeek_7',\n",
      "       'Reporting_Airline_DL', 'Reporting_Airline_OO', 'Reporting_Airline_UA',\n",
      "       'Reporting_Airline_WN', 'Origin_CLT', 'Origin_DEN', 'Origin_DFW',\n",
      "       'Origin_IAH', 'Origin_LAX', 'Origin_ORD', 'Origin_PHX', 'Origin_SFO',\n",
      "       'Dest_CLT', 'Dest_DEN', 'Dest_DFW', 'Dest_IAH', 'Dest_LAX', 'Dest_ORD',\n",
      "       'Dest_PHX', 'Dest_SFO', 'is_holiday_True'],\n",
      "      dtype='object')\n",
      "Boolean Column names: \n",
      "Index(['Year_2015', 'Year_2016', 'Year_2017', 'Year_2018', 'Quarter_2',\n",
      "       'Quarter_3', 'Quarter_4', 'Month_2', 'Month_3', 'Month_4', 'Month_5',\n",
      "       'Month_6', 'Month_7', 'Month_8', 'Month_9', 'Month_10', 'Month_11',\n",
      "       'Month_12', 'DayofMonth_2', 'DayofMonth_3', 'DayofMonth_4',\n",
      "       'DayofMonth_5', 'DayofMonth_6', 'DayofMonth_7', 'DayofMonth_8',\n",
      "       'DayofMonth_9', 'DayofMonth_10', 'DayofMonth_11', 'DayofMonth_12',\n",
      "       'DayofMonth_13', 'DayofMonth_14', 'DayofMonth_15', 'DayofMonth_16',\n",
      "       'DayofMonth_17', 'DayofMonth_18', 'DayofMonth_19', 'DayofMonth_20',\n",
      "       'DayofMonth_21', 'DayofMonth_22', 'DayofMonth_23', 'DayofMonth_24',\n",
      "       'DayofMonth_25', 'DayofMonth_26', 'DayofMonth_27', 'DayofMonth_28',\n",
      "       'DayofMonth_29', 'DayofMonth_30', 'DayofMonth_31', 'DayOfWeek_2',\n",
      "       'DayOfWeek_3', 'DayOfWeek_4', 'DayOfWeek_5', 'DayOfWeek_6',\n",
      "       'DayOfWeek_7', 'Reporting_Airline_DL', 'Reporting_Airline_OO',\n",
      "       'Reporting_Airline_UA', 'Reporting_Airline_WN', 'Origin_CLT',\n",
      "       'Origin_DEN', 'Origin_DFW', 'Origin_IAH', 'Origin_LAX', 'Origin_ORD',\n",
      "       'Origin_PHX', 'Origin_SFO', 'Dest_CLT', 'Dest_DEN', 'Dest_DFW',\n",
      "       'Dest_IAH', 'Dest_LAX', 'Dest_ORD', 'Dest_PHX', 'Dest_SFO',\n",
      "       'is_holiday_True'],\n",
      "      dtype='object')\n",
      "[dtype('float64'), dtype('float64'), dtype('int64'), dtype('int64'), dtype('int64'), dtype('float64'), dtype('int64'), dtype('int64'), dtype('float64'), dtype('float64'), dtype('float64'), dtype('bool'), dtype('bool'), dtype('bool'), dtype('bool'), dtype('bool'), dtype('bool'), dtype('bool'), dtype('bool'), dtype('bool'), dtype('bool'), dtype('bool'), dtype('bool'), dtype('bool'), dtype('bool'), dtype('bool'), dtype('bool'), dtype('bool'), dtype('bool'), dtype('bool'), dtype('bool'), dtype('bool'), dtype('bool'), dtype('bool'), dtype('bool'), dtype('bool'), dtype('bool'), dtype('bool'), dtype('bool'), dtype('bool'), dtype('bool'), dtype('bool'), dtype('bool'), dtype('bool'), dtype('bool'), dtype('bool'), dtype('bool'), dtype('bool'), dtype('bool'), dtype('bool'), dtype('bool'), dtype('bool'), dtype('bool'), dtype('bool'), dtype('bool'), dtype('bool'), dtype('bool'), dtype('bool'), dtype('bool'), dtype('bool'), dtype('bool'), dtype('bool'), dtype('bool'), dtype('bool'), dtype('bool'), dtype('bool'), dtype('bool'), dtype('bool'), dtype('bool'), dtype('bool'), dtype('bool'), dtype('bool'), dtype('bool'), dtype('bool'), dtype('bool'), dtype('bool'), dtype('bool'), dtype('bool'), dtype('bool'), dtype('bool'), dtype('bool'), dtype('bool'), dtype('bool'), dtype('bool'), dtype('bool'), dtype('bool')]\n"
     ]
    },
    {
     "data": {
      "text/html": [
       "<div>\n",
       "<style scoped>\n",
       "    .dataframe tbody tr th:only-of-type {\n",
       "        vertical-align: middle;\n",
       "    }\n",
       "\n",
       "    .dataframe tbody tr th {\n",
       "        vertical-align: top;\n",
       "    }\n",
       "\n",
       "    .dataframe thead th {\n",
       "        text-align: right;\n",
       "    }\n",
       "</style>\n",
       "<table border=\"1\" class=\"dataframe\">\n",
       "  <thead>\n",
       "    <tr style=\"text-align: right;\">\n",
       "      <th></th>\n",
       "      <th>target</th>\n",
       "      <th>Distance</th>\n",
       "      <th>DepHourofDay</th>\n",
       "      <th>AWND_O</th>\n",
       "      <th>PRCP_O</th>\n",
       "      <th>TAVG_O</th>\n",
       "      <th>AWND_D</th>\n",
       "      <th>PRCP_D</th>\n",
       "      <th>TAVG_D</th>\n",
       "      <th>SNOW_O</th>\n",
       "      <th>...</th>\n",
       "      <th>Origin_SFO</th>\n",
       "      <th>Dest_CLT</th>\n",
       "      <th>Dest_DEN</th>\n",
       "      <th>Dest_DFW</th>\n",
       "      <th>Dest_IAH</th>\n",
       "      <th>Dest_LAX</th>\n",
       "      <th>Dest_ORD</th>\n",
       "      <th>Dest_PHX</th>\n",
       "      <th>Dest_SFO</th>\n",
       "      <th>is_holiday_True</th>\n",
       "    </tr>\n",
       "  </thead>\n",
       "  <tbody>\n",
       "    <tr>\n",
       "      <th>0</th>\n",
       "      <td>0.0</td>\n",
       "      <td>731.0</td>\n",
       "      <td>19</td>\n",
       "      <td>43</td>\n",
       "      <td>0</td>\n",
       "      <td>173.0</td>\n",
       "      <td>56</td>\n",
       "      <td>0</td>\n",
       "      <td>209.0</td>\n",
       "      <td>0.0</td>\n",
       "      <td>...</td>\n",
       "      <td>False</td>\n",
       "      <td>False</td>\n",
       "      <td>False</td>\n",
       "      <td>True</td>\n",
       "      <td>False</td>\n",
       "      <td>False</td>\n",
       "      <td>False</td>\n",
       "      <td>False</td>\n",
       "      <td>False</td>\n",
       "      <td>False</td>\n",
       "    </tr>\n",
       "    <tr>\n",
       "      <th>1</th>\n",
       "      <td>0.0</td>\n",
       "      <td>731.0</td>\n",
       "      <td>17</td>\n",
       "      <td>56</td>\n",
       "      <td>0</td>\n",
       "      <td>209.0</td>\n",
       "      <td>43</td>\n",
       "      <td>0</td>\n",
       "      <td>173.0</td>\n",
       "      <td>0.0</td>\n",
       "      <td>...</td>\n",
       "      <td>False</td>\n",
       "      <td>False</td>\n",
       "      <td>False</td>\n",
       "      <td>False</td>\n",
       "      <td>False</td>\n",
       "      <td>False</td>\n",
       "      <td>False</td>\n",
       "      <td>False</td>\n",
       "      <td>False</td>\n",
       "      <td>False</td>\n",
       "    </tr>\n",
       "    <tr>\n",
       "      <th>2</th>\n",
       "      <td>1.0</td>\n",
       "      <td>2139.0</td>\n",
       "      <td>14</td>\n",
       "      <td>42</td>\n",
       "      <td>0</td>\n",
       "      <td>159.0</td>\n",
       "      <td>43</td>\n",
       "      <td>0</td>\n",
       "      <td>173.0</td>\n",
       "      <td>0.0</td>\n",
       "      <td>...</td>\n",
       "      <td>True</td>\n",
       "      <td>False</td>\n",
       "      <td>False</td>\n",
       "      <td>False</td>\n",
       "      <td>False</td>\n",
       "      <td>False</td>\n",
       "      <td>False</td>\n",
       "      <td>False</td>\n",
       "      <td>False</td>\n",
       "      <td>False</td>\n",
       "    </tr>\n",
       "    <tr>\n",
       "      <th>3</th>\n",
       "      <td>1.0</td>\n",
       "      <td>2139.0</td>\n",
       "      <td>6</td>\n",
       "      <td>42</td>\n",
       "      <td>0</td>\n",
       "      <td>159.0</td>\n",
       "      <td>43</td>\n",
       "      <td>0</td>\n",
       "      <td>173.0</td>\n",
       "      <td>0.0</td>\n",
       "      <td>...</td>\n",
       "      <td>True</td>\n",
       "      <td>False</td>\n",
       "      <td>False</td>\n",
       "      <td>False</td>\n",
       "      <td>False</td>\n",
       "      <td>False</td>\n",
       "      <td>False</td>\n",
       "      <td>False</td>\n",
       "      <td>False</td>\n",
       "      <td>False</td>\n",
       "    </tr>\n",
       "    <tr>\n",
       "      <th>4</th>\n",
       "      <td>1.0</td>\n",
       "      <td>2139.0</td>\n",
       "      <td>16</td>\n",
       "      <td>43</td>\n",
       "      <td>0</td>\n",
       "      <td>173.0</td>\n",
       "      <td>42</td>\n",
       "      <td>0</td>\n",
       "      <td>159.0</td>\n",
       "      <td>0.0</td>\n",
       "      <td>...</td>\n",
       "      <td>False</td>\n",
       "      <td>False</td>\n",
       "      <td>False</td>\n",
       "      <td>False</td>\n",
       "      <td>False</td>\n",
       "      <td>False</td>\n",
       "      <td>False</td>\n",
       "      <td>False</td>\n",
       "      <td>True</td>\n",
       "      <td>False</td>\n",
       "    </tr>\n",
       "  </tbody>\n",
       "</table>\n",
       "<p>5 rows × 86 columns</p>\n",
       "</div>"
      ],
      "text/plain": [
       "   target  Distance  DepHourofDay  AWND_O  PRCP_O  TAVG_O  AWND_D  PRCP_D  \\\n",
       "0     0.0     731.0            19      43       0   173.0      56       0   \n",
       "1     0.0     731.0            17      56       0   209.0      43       0   \n",
       "2     1.0    2139.0            14      42       0   159.0      43       0   \n",
       "3     1.0    2139.0             6      42       0   159.0      43       0   \n",
       "4     1.0    2139.0            16      43       0   173.0      42       0   \n",
       "\n",
       "   TAVG_D  SNOW_O  ...  Origin_SFO  Dest_CLT  Dest_DEN  Dest_DFW  Dest_IAH  \\\n",
       "0   209.0     0.0  ...       False     False     False      True     False   \n",
       "1   173.0     0.0  ...       False     False     False     False     False   \n",
       "2   173.0     0.0  ...        True     False     False     False     False   \n",
       "3   173.0     0.0  ...        True     False     False     False     False   \n",
       "4   159.0     0.0  ...       False     False     False     False     False   \n",
       "\n",
       "   Dest_LAX  Dest_ORD  Dest_PHX  Dest_SFO  is_holiday_True  \n",
       "0     False     False     False     False            False  \n",
       "1     False     False     False     False            False  \n",
       "2     False     False     False     False            False  \n",
       "3     False     False     False     False            False  \n",
       "4     False     False     False      True            False  \n",
       "\n",
       "[5 rows x 86 columns]"
      ]
     },
     "metadata": {},
     "output_type": "display_data"
    }
   ],
   "source": [
    "###Check which Columns are showing as having a string/object data type\n",
    "\n",
    "def inspect_df(df):\n",
    "    if isinstance(df, pd.DataFrame):\n",
    "        df_dtypes_series = df.dtypes\n",
    "        df_dtypes_list = df_dtypes_series.tolist()\n",
    "        print(\"Is a Pandas DataFrame!\")\n",
    "        print('Shape =', df.shape)\n",
    "        \n",
    "        # Check if any column has 'object' (string) dtype\n",
    "        has_string_columns = (df.dtypes == 'object').any()\n",
    "        if has_string_columns:\n",
    "            print(\"At least one column has a string data type.\")\n",
    "        else:\n",
    "            print(\"No columns have a string data type.\")\n",
    "        \n",
    "        print('All Column names: ')\n",
    "        print(df.columns)\n",
    "        print('Boolean Column names: ')\n",
    "        bool_cols = df.select_dtypes(include='bool').columns\n",
    "        print(bool_cols)\n",
    "        print(df_dtypes_list)\n",
    "        display(df.head(5))\n",
    "    else:\n",
    "        print('Not a Pandas DataFrame!')\n",
    "        print('Data Structure is: ', type(df))\n",
    "\n",
    "inspect_df(data)"
   ]
  },
  {
   "cell_type": "markdown",
   "metadata": {},
   "source": [
    "## 4-1 LinearLearner Re-run with New Data"
   ]
  },
  {
   "cell_type": "markdown",
   "metadata": {},
   "source": [
    "## 4-1-1. Train-Validate-Test Split"
   ]
  },
  {
   "cell_type": "code",
   "execution_count": 5,
   "metadata": {},
   "outputs": [],
   "source": [
    "from sklearn.model_selection import train_test_split\n",
    "def split_data(data):\n",
    "    train, test_and_validate = train_test_split(data, test_size=0.2, random_state=42, stratify=data['target'])\n",
    "    test, validate = train_test_split(test_and_validate, test_size=0.5, random_state=42, stratify=test_and_validate['target'])\n",
    "    return train, validate, test"
   ]
  },
  {
   "cell_type": "code",
   "execution_count": 6,
   "metadata": {},
   "outputs": [
    {
     "name": "stdout",
     "output_type": "stream",
     "text": [
      "list_of_col_names:  Index(['target', 'Distance', 'DepHourofDay', 'AWND_O', 'PRCP_O', 'TAVG_O',\n",
      "       'AWND_D', 'PRCP_D', 'TAVG_D', 'SNOW_O', 'SNOW_D', 'Year_2015',\n",
      "       'Year_2016', 'Year_2017', 'Year_2018', 'Quarter_2', 'Quarter_3',\n",
      "       'Quarter_4', 'Month_2', 'Month_3', 'Month_4', 'Month_5', 'Month_6',\n",
      "       'Month_7', 'Month_8', 'Month_9', 'Month_10', 'Month_11', 'Month_12',\n",
      "       'DayofMonth_2', 'DayofMonth_3', 'DayofMonth_4', 'DayofMonth_5',\n",
      "       'DayofMonth_6', 'DayofMonth_7', 'DayofMonth_8', 'DayofMonth_9',\n",
      "       'DayofMonth_10', 'DayofMonth_11', 'DayofMonth_12', 'DayofMonth_13',\n",
      "       'DayofMonth_14', 'DayofMonth_15', 'DayofMonth_16', 'DayofMonth_17',\n",
      "       'DayofMonth_18', 'DayofMonth_19', 'DayofMonth_20', 'DayofMonth_21',\n",
      "       'DayofMonth_22', 'DayofMonth_23', 'DayofMonth_24', 'DayofMonth_25',\n",
      "       'DayofMonth_26', 'DayofMonth_27', 'DayofMonth_28', 'DayofMonth_29',\n",
      "       'DayofMonth_30', 'DayofMonth_31', 'DayOfWeek_2', 'DayOfWeek_3',\n",
      "       'DayOfWeek_4', 'DayOfWeek_5', 'DayOfWeek_6', 'DayOfWeek_7',\n",
      "       'Reporting_Airline_DL', 'Reporting_Airline_OO', 'Reporting_Airline_UA',\n",
      "       'Reporting_Airline_WN', 'Origin_CLT', 'Origin_DEN', 'Origin_DFW',\n",
      "       'Origin_IAH', 'Origin_LAX', 'Origin_ORD', 'Origin_PHX', 'Origin_SFO',\n",
      "       'Dest_CLT', 'Dest_DEN', 'Dest_DFW', 'Dest_IAH', 'Dest_LAX', 'Dest_ORD',\n",
      "       'Dest_PHX', 'Dest_SFO', 'is_holiday_True'],\n",
      "      dtype='object')\n",
      "<class 'pandas.core.frame.DataFrame'>\n",
      "<class 'pandas.core.frame.DataFrame'>\n",
      "<class 'pandas.core.frame.DataFrame'>\n",
      "target\n",
      "0.0    9542\n",
      "1.0    3258\n",
      "Name: count, dtype: int64\n",
      "target\n",
      "0.0    1193\n",
      "1.0     407\n",
      "Name: count, dtype: int64\n",
      "target\n",
      "0.0    1193\n",
      "1.0     407\n",
      "Name: count, dtype: int64\n",
      "\n",
      "target\n",
      "0.0    0.745469\n",
      "1.0    0.254531\n",
      "Name: count, dtype: float64\n",
      "target\n",
      "0.0    0.745625\n",
      "1.0    0.254375\n",
      "Name: count, dtype: float64\n",
      "target\n",
      "0.0    0.745625\n",
      "1.0    0.254375\n",
      "Name: count, dtype: float64\n"
     ]
    }
   ],
   "source": [
    "##Capture Column names of 'data' DataFrame as a List\n",
    "list_of_col_names = data.columns\n",
    "print('list_of_col_names: ', list_of_col_names)\n",
    "\n",
    "train, validate, test = split_data(data)\n",
    "print(type(train))\n",
    "print(type(validate))\n",
    "print(type(test))\n",
    "\n",
    "train_target_series = train['target']\n",
    "validate_target_series = validate['target']\n",
    "test_target_series = test['target']\n",
    "\n",
    "print(train_target_series.value_counts())\n",
    "print(validate_target_series.value_counts())\n",
    "print(test_target_series.value_counts())\n",
    "\n",
    "print()\n",
    "print(train_target_series.value_counts()/train_target_series.count())\n",
    "print(validate_target_series.value_counts()/validate_target_series.count())\n",
    "print(test_target_series.value_counts()/test_target_series.count())"
   ]
  },
  {
   "cell_type": "markdown",
   "metadata": {},
   "source": [
    "## 4-1-2. Convert DataFrame of train, validate, and test sets to Arrays with Non-string/object data types"
   ]
  },
  {
   "cell_type": "code",
   "execution_count": 7,
   "metadata": {},
   "outputs": [
    {
     "name": "stdout",
     "output_type": "stream",
     "text": [
      "\n",
      "List of column names with string or object data type:\n",
      "[]\n",
      "\n",
      "DataFrame object dtypes after astype(bool):\n",
      "Series([], dtype: object)\n",
      "\n",
      "List of column names with string or object data type:\n",
      "[]\n",
      "\n",
      "DataFrame object dtypes after astype(bool):\n",
      "Series([], dtype: object)\n",
      "\n",
      "List of column names with string or object data type:\n",
      "[]\n",
      "\n",
      "DataFrame object dtypes after astype(bool):\n",
      "Series([], dtype: object)\n",
      "\n",
      "type(df_to_array_float):  <class 'numpy.ndarray'>\n",
      "shape of df_to_array_float =  (12800, 86)\n",
      "Data types of elements in df_to_array_float:  float32\n",
      "\n",
      "type(df_to_array_float):  <class 'numpy.ndarray'>\n",
      "shape of df_to_array_float =  (1600, 86)\n",
      "Data types of elements in df_to_array_float:  float32\n",
      "\n",
      "type(df_to_array_float):  <class 'numpy.ndarray'>\n",
      "shape of df_to_array_float =  (1600, 86)\n",
      "Data types of elements in df_to_array_float:  float32\n",
      "Run time: 0.0 minutes\n"
     ]
    }
   ],
   "source": [
    "start = time.time()\n",
    "\n",
    "##Function for converting Dataframe to Array with all items having a float datatype\n",
    "def df_to_float_array(df):\n",
    "    df_to_array = df.values\n",
    "    df_to_list_of_lists = df_to_array.tolist()\n",
    "    #print(type(df))\n",
    "    #print(type(df_to_array))\n",
    "    #print(type(df_to_list_of_lists))\n",
    "    df_to_list_of_arrays_float = []\n",
    "    for sublist in df_to_list_of_lists:\n",
    "        new_sublist = []\n",
    "        sublist_array = np.array(sublist)\n",
    "        sublist_array_float = sublist_array.astype(np.float32)\n",
    "        df_to_list_of_arrays_float.append(sublist_array_float)\n",
    "    df_to_array_float = np.array(df_to_list_of_arrays_float)\n",
    "    print(\"\\ntype(df_to_array_float): \", type(df_to_array_float))\n",
    "    print(\"shape of df_to_array_float = \", df_to_array_float.shape)\n",
    "    print(\"Data types of elements in df_to_array_float: \", df_to_array_float.dtype)\n",
    "    #print()\n",
    "    return df_to_array_float\n",
    "\n",
    "##Function for converting DataFrame columns with String or Object datatype to a Boolean\n",
    "def convert_object_cols_to_bool(df):\n",
    "    #Select columns with 'object' (string) data type\n",
    "    object_columns_df = df.select_dtypes(include=['object'])\n",
    "\n",
    "    #Get a list of the column names\n",
    "    object_column_names = object_columns_df.columns.tolist()\n",
    "\n",
    "    print('\\nList of column names with string or object data type:')\n",
    "    print(object_column_names)\n",
    "\n",
    "    #Convert cols with string/object type to boolean\n",
    "    df[object_column_names] = df[object_column_names].astype(bool)\n",
    "\n",
    "    print(\"\\nDataFrame object dtypes after astype(bool):\")\n",
    "    print(df[object_column_names].dtypes)\n",
    "    #print(\"\\nDataFrame content after astype(bool):\")\n",
    "    #print(df[object_column_names].head(5))\n",
    "    return df\n",
    "\n",
    "train_no_objects = convert_object_cols_to_bool(train)\n",
    "validate_no_objects = convert_object_cols_to_bool(validate)\n",
    "test_no_objects = convert_object_cols_to_bool(test)\n",
    "\n",
    "train_array_float = df_to_float_array(train_no_objects)\n",
    "validate_array_float = df_to_float_array(validate_no_objects)\n",
    "test_array_float = df_to_float_array(test_no_objects)\n",
    "\n",
    "print(f'Run time: {round((time.time() - start)/60,2)} minutes')"
   ]
  },
  {
   "cell_type": "markdown",
   "metadata": {},
   "source": [
    "## 4-1-3. Imports for Building LinearLearner Model"
   ]
  },
  {
   "cell_type": "code",
   "execution_count": 8,
   "metadata": {},
   "outputs": [
    {
     "name": "stdout",
     "output_type": "stream",
     "text": [
      "sagemaker.config INFO - Not applying SDK defaults from location: /etc/xdg/sagemaker/config.yaml\n",
      "sagemaker.config INFO - Not applying SDK defaults from location: /home/ec2-user/.config/sagemaker/config.yaml\n",
      "Using S3 bucket: sagemaker-us-east-1-858332928583\n",
      "Using the following prefix: sagemaker/ll-records-2\n"
     ]
    }
   ],
   "source": [
    "import sagemaker\n",
    "import boto3\n",
    "import pandas as pd\n",
    "import numpy as np\n",
    "from sagemaker import get_execution_role\n",
    "# We no longer need TrainingInput for this workflow\n",
    "from sagemaker import LinearLearner\n",
    "\n",
    "from sklearn.model_selection import train_test_split\n",
    "from sagemaker.analytics import TrainingJobAnalytics\n",
    "import time\n",
    "import matplotlib.pyplot as plt\n",
    "import seaborn as sns\n",
    "\n",
    "# 1. Setup SageMaker Session and Role (Unchanged)\n",
    "sagemaker_session = sagemaker.Session()\n",
    "role = get_execution_role()\n",
    "bucket = sagemaker_session.default_bucket()\n",
    "prefix = 'sagemaker/ll-records-2'\n",
    "\n",
    "print(f\"Using S3 bucket: {bucket}\")\n",
    "print(f\"Using the following prefix: {prefix}\")"
   ]
  },
  {
   "cell_type": "markdown",
   "metadata": {},
   "source": [
    "## 4-1-4. Create X and y for training, validation, and test sets"
   ]
  },
  {
   "cell_type": "code",
   "execution_count": 9,
   "metadata": {},
   "outputs": [
    {
     "name": "stdout",
     "output_type": "stream",
     "text": [
      "Training set shape: (12800, 85)\n",
      "Validation set shape: (1600, 85)\n",
      "Test set shape: (1600, 85)\n",
      "Training target shape: (12800,)\n",
      "Validation target shape: (1600,)\n",
      "Test target shape: (1600,)\n"
     ]
    }
   ],
   "source": [
    "## Create X and y for training, validation, and test sets\n",
    "\n",
    "X_train = train_array_float[:,1:]\n",
    "y_train = train_array_float[:,0]\n",
    "X_val = validate_array_float[:,1:]\n",
    "y_val = validate_array_float[:,0]\n",
    "X_test = test_array_float[:,1:]\n",
    "y_test = test_array_float[:,0]\n",
    "\n",
    "print(f\"Training set shape: {X_train.shape}\")\n",
    "print(f\"Validation set shape: {X_val.shape}\")\n",
    "print(f\"Test set shape: {X_test.shape}\")\n",
    "\n",
    "print(f\"Training target shape: {y_train.shape}\")\n",
    "print(f\"Validation target shape: {y_val.shape}\")\n",
    "print(f\"Test target shape: {y_test.shape}\")"
   ]
  },
  {
   "cell_type": "markdown",
   "metadata": {},
   "source": [
    "## 4-1-6. Create LinearLearner Estimator"
   ]
  },
  {
   "cell_type": "code",
   "execution_count": 10,
   "metadata": {},
   "outputs": [
    {
     "name": "stdout",
     "output_type": "stream",
     "text": [
      "Training data shapes:   Features=(12800, 85), Labels=(12800,)\n",
      "Validation data shapes: Features=(1600, 85), Labels=(1600,)\n",
      "Formatting data and uploading to S3...\n"
     ]
    },
    {
     "name": "stderr",
     "output_type": "stream",
     "text": [
      "INFO:sagemaker.image_uris:Same images used for training and inference. Defaulting to image scope: inference.\n",
      "INFO:sagemaker.image_uris:Ignoring unnecessary instance type: None.\n",
      "INFO:sagemaker:Creating training-job with name: linear-learner-2025-07-25-00-05-05-807\n"
     ]
    },
    {
     "name": "stdout",
     "output_type": "stream",
     "text": [
      "Data upload complete.\n",
      "Starting model training...\n",
      "2025-07-25 00:05:08 Starting - Starting the training job......\n",
      "2025-07-25 00:05:42 Starting - Preparing the instances for training...\n",
      "2025-07-25 00:06:15 Downloading - Downloading input data...\n",
      "2025-07-25 00:06:45 Downloading - Downloading the training image......\n",
      "2025-07-25 00:08:11 Training - Training image download completed. Training in progress....\n",
      "2025-07-25 00:08:37 Uploading - Uploading generated training model...\n",
      "2025-07-25 00:08:55 Completed - Training job completed\n",
      "..Training seconds: 160\n",
      "Billable seconds: 160\n",
      "Training complete!\n",
      "\n",
      "Completed training job: linear-learner-2025-07-25-00-05-05-807\n",
      "{'validation:objective_loss': 0.4833454489707947, 'train:progress': 100.0, 'validation:binary_classification_accuracy': 0.778124988079071, 'validation:recall': 0.24570024013519287, 'train:throughput': 29785.224609375, 'validation:roc_auc_score': 0.7611373662948608, 'train:objective_loss': 0.47957396507263184, 'validation:objective_loss:final': 0.4829818904399872, 'validation:binary_f_beta': 0.36036035418510437, 'validation:precision': 0.6756756901741028}\n",
      "Run time: 4.31 minutes\n"
     ]
    }
   ],
   "source": [
    "start = time.time()\n",
    "\n",
    "###Create the LinearLearner Estimator (Unchanged)\n",
    "ll_estimator = LinearLearner(\n",
    "    role=role,\n",
    "    instance_count=1,\n",
    "    #instance_type='ml.m5.large',\n",
    "    instance_type='ml.m4.xlarge',\n",
    "    predictor_type='binary_classifier',\n",
    "    feature_dim=2,\n",
    "    mini_batch_size=100,\n",
    "    binary_classifier_model_selection_criteria = 'cross_entropy_loss',\n",
    "    # Add this line to enable metric calculation\n",
    "    #eval_metrics=['accuracy', 'binary_f1', 'precision', 'recall'],\n",
    "    #eval_metrics=['validation:precision', 'recall'],\n",
    "    eval_metrics=['validation:precision', 'validation:recall', 'validation:f1', 'validation:accuracy'],\n",
    "    sagemaker_session=sagemaker_session\n",
    ")\n",
    "\n",
    "\n",
    "###Create RecordSet objects 💡\n",
    "# Add this check before your ll_estimator.record_set() calls\n",
    "print(f\"Training data shapes:   Features={X_train.shape}, Labels={y_train.shape}\")\n",
    "print(f\"Validation data shapes: Features={X_val.shape}, Labels={y_val.shape}\")\n",
    "\n",
    "# Expected output for the example code:\n",
    "# Training data shapes:   Features=(800, 10), Labels=(800,)\n",
    "# Validation data shapes: Features=(200, 10), Labels=(200,)\n",
    "\n",
    "# This is the new, simplified way to handle data.\n",
    "# The .record_set() method converts NumPy arrays to the required format and uploads them to a specified S3 location.\n",
    "print(\"Formatting data and uploading to S3...\")\n",
    "train_records = ll_estimator.record_set(X_train, y_train, channel='train')\n",
    "validation_records = ll_estimator.record_set(X_val, y_val, channel='validation')\n",
    "print(\"Data upload complete.\")\n",
    "\n",
    "\n",
    "###Launch the training job with the correct fit() signature\n",
    "# We now pass a list of RecordSet objects.\n",
    "print(\"Starting model training...\")\n",
    "ll_estimator.fit([train_records, validation_records])\n",
    "print(\"Training complete!\")\n",
    "\n",
    "\n",
    "###Get the Training Job Name\n",
    "# This is the key piece of information you need for analytics\n",
    "training_job_name = ll_estimator.latest_training_job.name\n",
    "print(f\"\\nCompleted training job: {training_job_name}\")\n",
    "\n",
    "\n",
    "\n",
    "###Use SageMaker SDK/API to programmatically retrieve the Evaluation Metrics by describing the Training Job.\n",
    "# Attach to an existing training job\n",
    "training_job_name = training_job_name\n",
    "sagemaker_session = sagemaker.Session()\n",
    "job_description = sagemaker_session.sagemaker_client.describe_training_job(TrainingJobName=training_job_name)\n",
    "\n",
    "# The metrics are in the 'FinalMetricDataList'\n",
    "final_metrics = {m['MetricName']: m['Value'] for m in job_description['FinalMetricDataList']}\n",
    "\n",
    "print(final_metrics)\n",
    "# Example Output: {'test:mse': '0.12345', 'validation:mse': '0.12300'}\n",
    "\n",
    "print(f'Run time: {round((time.time() - start)/60,2)} minutes') "
   ]
  },
  {
   "cell_type": "markdown",
   "metadata": {},
   "source": [
    "### CHECK volulme storage space (utilization and availability) within SageMaker notebook instance"
   ]
  },
  {
   "cell_type": "code",
   "execution_count": 11,
   "metadata": {},
   "outputs": [
    {
     "name": "stdout",
     "output_type": "stream",
     "text": [
      "Filesystem      Size  Used Avail Use% Mounted on\n",
      "/dev/xvdf        25G  763M   23G   4% /home/ec2-user/SageMaker\n"
     ]
    }
   ],
   "source": [
    "! df -h /dev/xvdf"
   ]
  },
  {
   "cell_type": "code",
   "execution_count": 12,
   "metadata": {},
   "outputs": [
    {
     "name": "stdout",
     "output_type": "stream",
     "text": [
      "Filesystem      Size  Used Avail Use% Mounted on\n",
      "devtmpfs        7.8G     0  7.8G   0% /dev\n",
      "tmpfs           7.9G     0  7.9G   0% /dev/shm\n",
      "tmpfs           7.9G  700K  7.9G   1% /run\n",
      "tmpfs           7.9G     0  7.9G   0% /sys/fs/cgroup\n",
      "/dev/xvda1      135G   79G   57G  59% /\n",
      "/dev/xvdf        25G  763M   23G   4% /home/ec2-user/SageMaker\n",
      "tmpfs           1.6G     0  1.6G   0% /run/user/1001\n",
      "tmpfs           1.6G     0  1.6G   0% /run/user/1002\n",
      "tmpfs           1.6G     0  1.6G   0% /run/user/1000\n",
      "tmpfs           1.6G     0  1.6G   0% /run/user/0\n"
     ]
    }
   ],
   "source": [
    "! df -h"
   ]
  },
  {
   "cell_type": "markdown",
   "metadata": {},
   "source": [
    "## 4-1-7. Model Evaluation"
   ]
  },
  {
   "cell_type": "code",
   "execution_count": 13,
   "metadata": {},
   "outputs": [
    {
     "name": "stderr",
     "output_type": "stream",
     "text": [
      "INFO:botocore.credentials:Found credentials from IAM Role: BaseNotebookInstanceEc2InstanceRole\n"
     ]
    }
   ],
   "source": [
    "import io\n",
    "# bucket = ....\n",
    "# prefix = ...\n",
    "train_file='flight_train.csv'\n",
    "test_file='flight_test.csv'\n",
    "validate_file='flight_validate.csv'\n",
    "whole_file='flight.csv'\n",
    "s3_resource = boto3.Session().resource('s3')\n",
    "\n",
    "def upload_s3_csv(filename, folder, dataframe):\n",
    "    csv_buffer = io.StringIO()\n",
    "    dataframe.to_csv(csv_buffer, header=False, index=False )\n",
    "    s3_resource.Bucket(bucket).Object(os.path.join(prefix, folder, filename)).put(Body=csv_buffer.getvalue())"
   ]
  },
  {
   "cell_type": "code",
   "execution_count": 14,
   "metadata": {},
   "outputs": [],
   "source": [
    "def batch_linear_predict(test_data, estimator):\n",
    "    batch_X = test_data.iloc[:,1:];\n",
    "    batch_X_file='batch-in.csv'\n",
    "    upload_s3_csv(batch_X_file, 'batch-in', batch_X)\n",
    "\n",
    "    batch_output = \"s3://{}/{}/batch-out/\".format(bucket,prefix)\n",
    "    batch_input = \"s3://{}/{}/batch-in/{}\".format(bucket,prefix,batch_X_file)\n",
    "\n",
    "    classifier_transformer = estimator.transformer(instance_count=1,\n",
    "                                           instance_type='ml.m4.xlarge',\n",
    "                                           strategy='MultiRecord',\n",
    "                                           assemble_with='Line',\n",
    "                                           output_path=batch_output)\n",
    "\n",
    "    classifier_transformer.transform(data=batch_input,\n",
    "                             data_type='S3Prefix',\n",
    "                             content_type='text/csv',\n",
    "                             split_type='Line')\n",
    "    \n",
    "    classifier_transformer.wait()\n",
    "\n",
    "    s3 = boto3.client('s3')\n",
    "    obj = s3.get_object(Bucket=bucket, Key=\"{}/batch-out/{}\".format(prefix,'batch-in.csv.out'))\n",
    "    target_predicted_df = pd.read_json(io.BytesIO(obj['Body'].read()),orient=\"records\",lines=True)\n",
    "    return test_data.iloc[:,0], target_predicted_df.iloc[:,0]"
   ]
  },
  {
   "cell_type": "markdown",
   "metadata": {},
   "source": [
    "## 4-1-8. Convert Arrays for Training, Validation, and Test to DataFrames for use within the 'plot_confusion_matrix', and 'plot_roc' UDFs"
   ]
  },
  {
   "cell_type": "code",
   "execution_count": 15,
   "metadata": {},
   "outputs": [
    {
     "name": "stdout",
     "output_type": "stream",
     "text": [
      "0\n",
      "Datatype of input to function:  <class 'numpy.ndarray'>\n",
      "Datatype of output of funciton:  <class 'pandas.core.frame.DataFrame'>\n",
      "\n",
      "1\n",
      "Datatype of input to function:  <class 'numpy.ndarray'>\n",
      "Datatype of output of funciton:  <class 'pandas.core.frame.DataFrame'>\n",
      "\n",
      "2\n",
      "Datatype of input to function:  <class 'numpy.ndarray'>\n",
      "Datatype of output of funciton:  <class 'pandas.core.frame.DataFrame'>\n",
      "\n",
      "type(dict_of_cv_dfs):  <class 'dict'>\n",
      "len(dict_of_cv_dfs):  3\n",
      "dict_of_cv_dfs.keys():  dict_keys(['train', 'validation', 'test'])\n",
      "type(dict_of_cv_dfs['test']):  <class 'pandas.core.frame.DataFrame'>\n",
      "dict_of_cv_dfs['test'].shape  (1600, 86)\n",
      "df_test_col_names:  ['target', 'Distance', 'DepHourofDay', 'AWND_O', 'PRCP_O', 'TAVG_O', 'AWND_D', 'PRCP_D', 'TAVG_D', 'SNOW_O', 'SNOW_D', 'Year_2015', 'Year_2016', 'Year_2017', 'Year_2018', 'Quarter_2', 'Quarter_3', 'Quarter_4', 'Month_2', 'Month_3', 'Month_4', 'Month_5', 'Month_6', 'Month_7', 'Month_8', 'Month_9', 'Month_10', 'Month_11', 'Month_12', 'DayofMonth_2', 'DayofMonth_3', 'DayofMonth_4', 'DayofMonth_5', 'DayofMonth_6', 'DayofMonth_7', 'DayofMonth_8', 'DayofMonth_9', 'DayofMonth_10', 'DayofMonth_11', 'DayofMonth_12', 'DayofMonth_13', 'DayofMonth_14', 'DayofMonth_15', 'DayofMonth_16', 'DayofMonth_17', 'DayofMonth_18', 'DayofMonth_19', 'DayofMonth_20', 'DayofMonth_21', 'DayofMonth_22', 'DayofMonth_23', 'DayofMonth_24', 'DayofMonth_25', 'DayofMonth_26', 'DayofMonth_27', 'DayofMonth_28', 'DayofMonth_29', 'DayofMonth_30', 'DayofMonth_31', 'DayOfWeek_2', 'DayOfWeek_3', 'DayOfWeek_4', 'DayOfWeek_5', 'DayOfWeek_6', 'DayOfWeek_7', 'Reporting_Airline_DL', 'Reporting_Airline_OO', 'Reporting_Airline_UA', 'Reporting_Airline_WN', 'Origin_CLT', 'Origin_DEN', 'Origin_DFW', 'Origin_IAH', 'Origin_LAX', 'Origin_ORD', 'Origin_PHX', 'Origin_SFO', 'Dest_CLT', 'Dest_DEN', 'Dest_DFW', 'Dest_IAH', 'Dest_LAX', 'Dest_ORD', 'Dest_PHX', 'Dest_SFO', 'is_holiday_True']\n"
     ]
    }
   ],
   "source": [
    "import time\n",
    "import os\n",
    "start = time.time()\n",
    "\n",
    "##Convert Numpy arrays for Training, Validation, and Test to DataFrames\n",
    "def convert_array_to_df(array, list_of_col_names):\n",
    "    print('Datatype of input to function: ', type(array))\n",
    "    df = pd.DataFrame(array, columns=list_of_col_names)\n",
    "    print('Datatype of output of funciton: ', type(df))\n",
    "    print()\n",
    "    return df\n",
    "\n",
    "list_of_cv_array_names = [\n",
    "    'train',\n",
    "    'validation',\n",
    "    'test'\n",
    "]\n",
    "list_of_cv_arrays = [\n",
    "    train_array_float,\n",
    "    validate_array_float,\n",
    "    test_array_float\n",
    "]\n",
    "list_of_cv_dfs = []\n",
    "cv_zip = zip(list_of_cv_array_names, list_of_cv_arrays)\n",
    "dict_of_cv_dfs = {}\n",
    "\n",
    "for index, zip_tuple in enumerate(cv_zip):\n",
    "    print(index)\n",
    "    df = convert_array_to_df(zip_tuple[1], list_of_col_names)\n",
    "    dict_of_cv_dfs[zip_tuple[0]] = df\n",
    "\n",
    "print('type(dict_of_cv_dfs): ', type(dict_of_cv_dfs))\n",
    "print('len(dict_of_cv_dfs): ', len(dict_of_cv_dfs))\n",
    "print(\"dict_of_cv_dfs.keys(): \", dict_of_cv_dfs.keys())\n",
    "print(\"type(dict_of_cv_dfs['test']): \", type(dict_of_cv_dfs['test']))\n",
    "print(\"dict_of_cv_dfs['test'].shape \", dict_of_cv_dfs['test'].shape)\n",
    "df_test = dict_of_cv_dfs['test']\n",
    "df_test_col_names = df_test.columns.tolist()\n",
    "print(\"df_test_col_names: \", df_test_col_names)"
   ]
  },
  {
   "cell_type": "code",
   "execution_count": 16,
   "metadata": {},
   "outputs": [
    {
     "name": "stderr",
     "output_type": "stream",
     "text": [
      "INFO:sagemaker.image_uris:Same images used for training and inference. Defaulting to image scope: inference.\n",
      "INFO:sagemaker.image_uris:Ignoring unnecessary instance type: None.\n",
      "INFO:sagemaker:Creating model with name: linear-learner-2025-07-25-00-09-23-937\n",
      "INFO:sagemaker:Creating transform job with name: linear-learner-2025-07-25-00-09-24-523\n"
     ]
    },
    {
     "name": "stdout",
     "output_type": "stream",
     "text": [
      "..........................................\n",
      "...Run time: 7.57 minutes\n"
     ]
    }
   ],
   "source": [
    "start = time.time()\n",
    "\n",
    "test_labels, target_predicted = batch_linear_predict(dict_of_cv_dfs['test'], ll_estimator)\n",
    "\n",
    "print(f'Run time: {round((time.time() - start)/60,2)} minutes') ##Run time for 16000 rows and 94 is 8.07 minutes \n",
    "\n",
    "##Run time for 16000 rows and 86 columns = \n",
    "##Run time for 1.6Million rows and 86 columns"
   ]
  },
  {
   "cell_type": "markdown",
   "metadata": {},
   "source": [
    "### CHECK volulme storage space (utilization and availability) within SageMaker notebook instance"
   ]
  },
  {
   "cell_type": "code",
   "execution_count": 17,
   "metadata": {},
   "outputs": [
    {
     "name": "stdout",
     "output_type": "stream",
     "text": [
      "Filesystem      Size  Used Avail Use% Mounted on\n",
      "/dev/xvdf        25G  763M   23G   4% /home/ec2-user/SageMaker\n"
     ]
    }
   ],
   "source": [
    "! df -h /dev/xvdf"
   ]
  },
  {
   "cell_type": "code",
   "execution_count": 18,
   "metadata": {},
   "outputs": [
    {
     "name": "stdout",
     "output_type": "stream",
     "text": [
      "Filesystem      Size  Used Avail Use% Mounted on\n",
      "devtmpfs        7.8G     0  7.8G   0% /dev\n",
      "tmpfs           7.9G     0  7.9G   0% /dev/shm\n",
      "tmpfs           7.9G  700K  7.9G   1% /run\n",
      "tmpfs           7.9G     0  7.9G   0% /sys/fs/cgroup\n",
      "/dev/xvda1      135G   79G   57G  59% /\n",
      "/dev/xvdf        25G  763M   23G   4% /home/ec2-user/SageMaker\n",
      "tmpfs           1.6G     0  1.6G   0% /run/user/1001\n",
      "tmpfs           1.6G     0  1.6G   0% /run/user/1002\n",
      "tmpfs           1.6G     0  1.6G   0% /run/user/1000\n",
      "tmpfs           1.6G     0  1.6G   0% /run/user/0\n"
     ]
    }
   ],
   "source": [
    "! df -h"
   ]
  },
  {
   "cell_type": "markdown",
   "metadata": {},
   "source": [
    "## 4-1-9. Plot Confusion Matrix and ROC graph"
   ]
  },
  {
   "cell_type": "markdown",
   "metadata": {},
   "source": [
    "To plot the confusion matrix, call the `plot_confusion_matrix` function on the `test_labels` and the `target_predicted` data from the batch job:"
   ]
  },
  {
   "cell_type": "code",
   "execution_count": 23,
   "metadata": {},
   "outputs": [
    {
     "data": {
      "image/png": "[encoded data removed]",
      "text/plain": [
       "<Figure size 640x480 with 1 Axes>"
      ]
     },
     "metadata": {},
     "output_type": "display_data"
    }
   ],
   "source": [
    "# \n",
    "plot_confusion_matrix(test_labels, target_predicted)\n",
    "plt.show()"
   ]
  },
  {
   "cell_type": "code",
   "execution_count": 24,
   "metadata": {},
   "outputs": [
    {
     "data": {
      "image/png": "[encoded data removed]",
      "text/plain": [
       "<Figure size 640x480 with 1 Axes>"
      ]
     },
     "metadata": {},
     "output_type": "display_data"
    }
   ],
   "source": [
    "plot_confusion_matrix_transpose(test_labels, target_predicted)\n",
    "plt.show()"
   ]
  },
  {
   "cell_type": "markdown",
   "metadata": {},
   "source": [
    "To print statistics and plot a receiver operating characteristic (ROC) curve, call the `plot_roc` function on the `test_labels` and `target_predicted` data from your batch job:"
   ]
  },
  {
   "cell_type": "markdown",
   "metadata": {},
   "source": [
    "### ROC Graph"
   ]
  },
  {
   "cell_type": "code",
   "execution_count": 25,
   "metadata": {},
   "outputs": [
    {
     "name": "stdout",
     "output_type": "stream",
     "text": [
      "Sensitivity or TPR:  24.324324324324326 %\n",
      "Specificity or TNR:  95.0544844928751 %\n",
      "Precision:  62.65822784810127 %\n",
      "Negative Predictive Value:  78.64077669902912 %\n",
      "False Positive Rate:  4.945515507124895 %\n",
      "False Negative Rate:  75.67567567567568 %\n",
      "False Discovery Rate:  37.34177215189873 %\n",
      "Accuracy:  77.0625 %\n",
      "f1_score:  0.3504424778761063\n",
      "Validation AUC 0.5968940440859971\n",
      "Figure(640x480)\n"
     ]
    },
    {
     "data": {
      "image/png": "[encoded data removed]",
      "text/plain": [
       "<Figure size 640x480 with 2 Axes>"
      ]
     },
     "metadata": {},
     "output_type": "display_data"
    },
    {
     "data": {
      "text/plain": [
       "<Figure size 640x480 with 0 Axes>"
      ]
     },
     "metadata": {},
     "output_type": "display_data"
    }
   ],
   "source": [
    "#Plot the ROC graph\n",
    "plot_roc(test_labels, target_predicted)"
   ]
  },
  {
   "cell_type": "markdown",
   "metadata": {},
   "source": [
    "### CHECK volulme storage space (utilization and availability) within SageMaker notebook instance"
   ]
  },
  {
   "cell_type": "code",
   "execution_count": 56,
   "metadata": {},
   "outputs": [
    {
     "name": "stdout",
     "output_type": "stream",
     "text": [
      "Filesystem      Size  Used Avail Use% Mounted on\n",
      "/dev/xvdf        25G 1002M   23G   5% /home/ec2-user/SageMaker\n"
     ]
    }
   ],
   "source": [
    "! df -h /dev/xvdf"
   ]
  },
  {
   "cell_type": "markdown",
   "metadata": {},
   "source": [
    "## 4-2 XGBoost Model\n",
    "\n",
    "The linear model shows only a little improvement in performance. Try the tree-based ensemble model, *XGBoost*, to see if performance can be futher improved."
   ]
  },
  {
   "cell_type": "markdown",
   "metadata": {},
   "source": [
    "## 4-2-1 Upload Data to S3"
   ]
  },
  {
   "cell_type": "markdown",
   "metadata": {},
   "source": [
    "### Convert Booleans of DataFrame to Floats"
   ]
  },
  {
   "cell_type": "code",
   "execution_count": 102,
   "metadata": {},
   "outputs": [
    {
     "name": "stdout",
     "output_type": "stream",
     "text": [
      "[dtype('float64'), dtype('float64'), dtype('int64'), dtype('int64'), dtype('int64'), dtype('float64'), dtype('int64'), dtype('int64'), dtype('float64'), dtype('float64'), dtype('float64'), dtype('float64'), dtype('float64'), dtype('float64'), dtype('float64'), dtype('float64'), dtype('float64'), dtype('float64'), dtype('float64'), dtype('float64'), dtype('float64'), dtype('float64'), dtype('float64'), dtype('float64'), dtype('float64'), dtype('float64'), dtype('float64'), dtype('float64'), dtype('float64'), dtype('float64'), dtype('float64'), dtype('float64'), dtype('float64'), dtype('float64'), dtype('float64'), dtype('float64'), dtype('float64'), dtype('float64'), dtype('float64'), dtype('float64'), dtype('float64'), dtype('float64'), dtype('float64'), dtype('float64'), dtype('float64'), dtype('float64'), dtype('float64'), dtype('float64'), dtype('float64'), dtype('float64'), dtype('float64'), dtype('float64'), dtype('float64'), dtype('float64'), dtype('float64'), dtype('float64'), dtype('float64'), dtype('float64'), dtype('float64'), dtype('float64'), dtype('float64'), dtype('float64'), dtype('float64'), dtype('float64'), dtype('float64'), dtype('float64'), dtype('float64'), dtype('float64'), dtype('float64'), dtype('float64'), dtype('float64'), dtype('float64'), dtype('float64'), dtype('float64'), dtype('float64'), dtype('float64'), dtype('float64'), dtype('float64'), dtype('float64'), dtype('float64'), dtype('float64'), dtype('float64'), dtype('float64'), dtype('float64'), dtype('float64'), dtype('float64')]\n"
     ]
    }
   ],
   "source": [
    "bool_cols = data.select_dtypes(include='bool').columns\n",
    "\n",
    "data_2 = data.copy()\n",
    "for col in bool_cols:\n",
    "    data_2[col] = data_2[col].astype(float)\n",
    "\n",
    "print(data_2.dtypes.tolist())"
   ]
  },
  {
   "cell_type": "markdown",
   "metadata": {},
   "source": [
    "#### Train-Validate-Test Split"
   ]
  },
  {
   "cell_type": "code",
   "execution_count": 103,
   "metadata": {},
   "outputs": [],
   "source": [
    "from sklearn.model_selection import train_test_split\n",
    "def split_data(data):\n",
    "    train, test_and_validate = train_test_split(data, test_size=0.2, random_state=42, stratify=data['target'])\n",
    "    test, validate = train_test_split(test_and_validate, test_size=0.5, random_state=42, stratify=test_and_validate['target'])\n",
    "    return train, validate, test"
   ]
  },
  {
   "cell_type": "code",
   "execution_count": 104,
   "metadata": {},
   "outputs": [
    {
     "name": "stdout",
     "output_type": "stream",
     "text": [
      "<class 'pandas.core.frame.DataFrame'>\n",
      "train.shape:  (12800, 86)\n",
      "<class 'pandas.core.frame.DataFrame'>\n",
      "validate.shape:  (1600, 86)\n",
      "<class 'pandas.core.frame.DataFrame'>\n",
      "test.shape:  (1600, 86)\n"
     ]
    }
   ],
   "source": [
    "train, validate, test = split_data(data_2)\n",
    "print(type(train))\n",
    "print('train.shape: ', train.shape)\n",
    "print(type(validate))\n",
    "print('validate.shape: ', validate.shape)\n",
    "print(type(test))\n",
    "print('test.shape: ', test.shape)"
   ]
  },
  {
   "cell_type": "markdown",
   "metadata": {},
   "source": [
    "#### Upload CSVs of Training set and Validation set to S3 bucket filepaths for use within XGBoost model"
   ]
  },
  {
   "cell_type": "code",
   "execution_count": 105,
   "metadata": {},
   "outputs": [
    {
     "name": "stdout",
     "output_type": "stream",
     "text": [
      "\n",
      "Training data uploaded to: s3://sagemaker-us-east-1-496057999101/xgboost-binary-classification-example/train/train.csv\n",
      "Validate data uploaded to: s3://sagemaker-us-east-1-496057999101/xgboost-binary-classification-example/validate/validate.csv\n"
     ]
    }
   ],
   "source": [
    "import sagemaker\n",
    "from sagemaker.estimator import Estimator\n",
    "from sagemaker.inputs import TrainingInput\n",
    "import pandas as pd\n",
    "import numpy as np\n",
    "from sklearn.model_selection import train_test_split\n",
    "from sklearn.metrics import accuracy_score, classification_report\n",
    "import os\n",
    "\n",
    "import time\n",
    "\n",
    "## Set up SageMaker Session\n",
    "sagemaker_session = sagemaker.Session()\n",
    "role = sagemaker.get_execution_role()\n",
    "bucket = sagemaker_session.default_bucket()\n",
    "prefix = 'xgboost-binary-classification-example'\n",
    "\n",
    "# SageMaker XGBoost expects the target variable to be the first column\n",
    "# Convert to CSV format without header and index for SageMaker built-in algorithm\n",
    "train_csv_path = 'train.csv'\n",
    "validate_csv_path = 'validate.csv'\n",
    "# test_csv_path = 'test.csv'\n",
    "\n",
    "train.to_csv(train_csv_path, header=False, index=False)\n",
    "validate.to_csv(validate_csv_path, header=False, index=False)\n",
    "#test.to_csv(validate_csv_path, header=False, index=False)\n",
    "\n",
    "train_s3_path = sagemaker_session.upload_data(path=train_csv_path, bucket=bucket, key_prefix=f\"{prefix}/train\")\n",
    "validate_s3_path = sagemaker_session.upload_data(path=validate_csv_path, bucket=bucket, key_prefix=f\"{prefix}/validate\")\n",
    "#test_s3_path = sagemaker_session.upload_data(path=test_csv_path, bucket=bucket, key_prefix=f\"{prefix}/test\")\n",
    "\n",
    "print(f\"\\nTraining data uploaded to: {train_s3_path}\")\n",
    "print(f\"Validate data uploaded to: {validate_s3_path}\")\n",
    "#print(f\"Test data uploaded to: {test_s3_path}\")"
   ]
  },
  {
   "cell_type": "markdown",
   "metadata": {},
   "source": [
    "## 4-2-2 Train an XGBoost model using SageMaker's built-in algorithm"
   ]
  },
  {
   "cell_type": "code",
   "execution_count": 106,
   "metadata": {},
   "outputs": [
    {
     "name": "stderr",
     "output_type": "stream",
     "text": [
      "INFO:sagemaker.image_uris:Ignoring unnecessary instance type: None.\n",
      "INFO:sagemaker.telemetry.telemetry_logging:SageMaker Python SDK will collect telemetry to help us better understand our user's needs, diagnose issues, and deliver additional features.\n",
      "To opt out of telemetry, please disable via TelemetryOptOut parameter in SDK defaults config. For more information, refer to https://sagemaker.readthedocs.io/en/stable/overview.html#configuring-and-using-defaults-with-the-sagemaker-python-sdk.\n",
      "INFO:sagemaker:Creating training-job with name: xgboost-2025-07-24-22-48-50-240\n"
     ]
    },
    {
     "name": "stdout",
     "output_type": "stream",
     "text": [
      "\n",
      "Starting XGBoost training job...\n",
      "2025-07-24 22:48:52 Starting - Starting the training job...\n",
      "2025-07-24 22:49:17 Starting - Preparing the instances for training...\n",
      "2025-07-24 22:49:50 Downloading - Downloading input data...\n",
      "2025-07-24 22:50:20 Downloading - Downloading the training image......\n",
      "2025-07-24 22:51:21 Training - Training image download completed. Training in progress....\n",
      "2025-07-24 22:51:55 Uploading - Uploading generated training model\n",
      "2025-07-24 22:51:55 Completed - Training job completed\n",
      "..Training seconds: 125\n",
      "Billable seconds: 125\n",
      "Training complete.\n",
      "Run time: 3.28 minutes\n"
     ]
    }
   ],
   "source": [
    "start = time.time()\n",
    "\n",
    "container = sagemaker.image_uris.retrieve(\"xgboost\", sagemaker_session.boto_region_name, \"latest\")\n",
    "\n",
    "xgb_estimator = Estimator(\n",
    "    image_uri=container,\n",
    "    role=role,\n",
    "    instance_count=1,\n",
    "    #instance_type='ml.m5.xlarge', # A small instance type is sufficient for a small dataset\n",
    "    instance_type='ml.m4.xlarge',\n",
    "    output_path=f's3://{bucket}/{prefix}/output',\n",
    "    sagemaker_session=sagemaker_session,\n",
    "    hyperparameters={\n",
    "        'objective': 'binary:logistic', # For binary classification\n",
    "        'num_round': 100,               # Number of boosting rounds\n",
    "        'eval_metric': 'auc',           # Evaluation metric\n",
    "        'eta': 0.2,                     # Learning rate\n",
    "        'max_depth': 5                  # Maximum depth of a tree\n",
    "    }\n",
    ")\n",
    "\n",
    "train_input = TrainingInput(train_s3_path, content_type='csv')\n",
    "validation_input = TrainingInput(validate_s3_path, content_type='csv')\n",
    "#validation_input = TrainingInput(test_s3_path, content_type='csv') # Use test set as validation\n",
    "\n",
    "print(\"\\nStarting XGBoost training job...\")\n",
    "xgb_estimator.fit({'train': train_input, 'validation': validation_input})\n",
    "print(\"Training complete.\")\n",
    "\n",
    "print(f'Run time: {round((time.time() - start)/60,2)} minutes')"
   ]
  },
  {
   "cell_type": "markdown",
   "metadata": {},
   "source": [
    "## 4-2-3 Deploy the model to a SageMaker endpoint"
   ]
  },
  {
   "cell_type": "code",
   "execution_count": 107,
   "metadata": {},
   "outputs": [
    {
     "name": "stderr",
     "output_type": "stream",
     "text": [
      "INFO:sagemaker:Creating model with name: xgboost-2025-07-24-22-52-07-024\n"
     ]
    },
    {
     "name": "stdout",
     "output_type": "stream",
     "text": [
      "\n",
      "Deploying model to endpoint...\n"
     ]
    },
    {
     "name": "stderr",
     "output_type": "stream",
     "text": [
      "INFO:sagemaker:Creating endpoint-config with name xgboost-2025-07-24-22-52-07-024\n",
      "INFO:sagemaker:Creating endpoint with name xgboost-2025-07-24-22-52-07-024\n"
     ]
    },
    {
     "name": "stdout",
     "output_type": "stream",
     "text": [
      "-------!Model deployed to endpoint: xgboost-2025-07-24-22-52-07-024\n",
      "Run time: 4.03 minutes\n"
     ]
    }
   ],
   "source": [
    "## Deploy the model to a SageMaker endpoint\n",
    "start = time.time()\n",
    "\n",
    "print(\"\\nDeploying model to endpoint...\")\n",
    "predictor = xgb_estimator.deploy(\n",
    "    initial_instance_count=1,\n",
    "    #instance_type='ml.m5.xlarge', # Same instance type for deployment\n",
    "    instance_type='ml.m4.xlarge',\n",
    "    serializer=sagemaker.serializers.CSVSerializer(),\n",
    "    deserializer=sagemaker.deserializers.CSVDeserializer()\n",
    ")\n",
    "print(f\"Model deployed to endpoint: {predictor.endpoint_name}\")\n",
    "\n",
    "print(f'Run time: {round((time.time() - start)/60,2)} minutes')"
   ]
  },
  {
   "cell_type": "markdown",
   "metadata": {},
   "source": [
    "## 4-2-4 Make Predictions with the Deployed Model"
   ]
  },
  {
   "cell_type": "code",
   "execution_count": 108,
   "metadata": {},
   "outputs": [
    {
     "name": "stdout",
     "output_type": "stream",
     "text": [
      "\n",
      "Making predictions on sample data:\n",
      "Sample input features:\n",
      "[[1587.0, 14.0, 40.0, 20.0, 137.0, 48.0, 0.0, 288.0, 0.0, 0.0, 0.0, 0.0, 1.0, 0.0, 1.0, 0.0, 0.0, 0.0, 0.0, 1.0, 0.0, 0.0, 0.0, 0.0, 0.0, 0.0, 0.0, 0.0, 0.0, 0.0, 0.0, 0.0, 0.0, 0.0, 0.0, 0.0, 0.0, 0.0, 0.0, 0.0, 0.0, 0.0, 0.0, 0.0, 0.0, 0.0, 0.0, 0.0, 0.0, 0.0, 1.0, 0.0, 0.0, 0.0, 0.0, 0.0, 0.0, 0.0, 0.0, 0.0, 0.0, 0.0, 0.0, 0.0, 1.0, 0.0, 0.0, 0.0, 0.0, 0.0, 0.0, 0.0, 0.0, 0.0, 0.0, 0.0, 0.0, 0.0, 0.0, 0.0, 0.0, 0.0, 1.0, 0.0, 0.0], [1464.0, 13.0, 42.0, 51.0, 197.0, 46.0, 13.0, 142.0, 0.0, 0.0, 0.0, 0.0, 1.0, 0.0, 1.0, 0.0, 0.0, 0.0, 0.0, 1.0, 0.0, 0.0, 0.0, 0.0, 0.0, 0.0, 0.0, 0.0, 0.0, 0.0, 0.0, 0.0, 0.0, 0.0, 0.0, 0.0, 0.0, 1.0, 0.0, 0.0, 0.0, 0.0, 0.0, 0.0, 0.0, 0.0, 0.0, 0.0, 0.0, 0.0, 0.0, 0.0, 0.0, 0.0, 0.0, 0.0, 0.0, 0.0, 1.0, 0.0, 0.0, 0.0, 0.0, 0.0, 0.0, 0.0, 0.0, 0.0, 0.0, 0.0, 1.0, 0.0, 0.0, 0.0, 0.0, 0.0, 0.0, 0.0, 0.0, 0.0, 0.0, 0.0, 0.0, 1.0, 0.0], [602.0, 20.0, 48.0, 0.0, 288.0, 57.0, 0.0, 142.0, 0.0, 0.0, 0.0, 0.0, 1.0, 0.0, 1.0, 0.0, 0.0, 0.0, 0.0, 1.0, 0.0, 0.0, 0.0, 0.0, 0.0, 0.0, 0.0, 0.0, 0.0, 0.0, 0.0, 0.0, 0.0, 0.0, 0.0, 0.0, 0.0, 0.0, 0.0, 0.0, 0.0, 0.0, 0.0, 0.0, 0.0, 0.0, 0.0, 0.0, 0.0, 0.0, 1.0, 0.0, 0.0, 0.0, 0.0, 0.0, 0.0, 0.0, 0.0, 0.0, 0.0, 0.0, 0.0, 0.0, 0.0, 0.0, 0.0, 1.0, 0.0, 0.0, 0.0, 0.0, 0.0, 0.0, 1.0, 0.0, 0.0, 1.0, 0.0, 0.0, 0.0, 0.0, 0.0, 0.0, 0.0], [888.0, 8.0, 43.0, 3.0, 182.0, 61.0, 0.0, 153.0, 0.0, 0.0, 0.0, 0.0, 1.0, 0.0, 1.0, 0.0, 0.0, 0.0, 0.0, 1.0, 0.0, 0.0, 0.0, 0.0, 0.0, 0.0, 0.0, 0.0, 0.0, 0.0, 0.0, 0.0, 0.0, 0.0, 0.0, 0.0, 0.0, 0.0, 0.0, 0.0, 0.0, 0.0, 0.0, 0.0, 0.0, 1.0, 0.0, 0.0, 0.0, 0.0, 0.0, 0.0, 0.0, 0.0, 0.0, 0.0, 0.0, 0.0, 0.0, 1.0, 0.0, 0.0, 0.0, 0.0, 0.0, 0.0, 1.0, 0.0, 0.0, 0.0, 0.0, 0.0, 0.0, 1.0, 0.0, 0.0, 0.0, 1.0, 0.0, 0.0, 0.0, 0.0, 0.0, 0.0, 0.0], [925.0, 11.0, 51.0, 0.0, 130.0, 36.0, 79.0, 211.0, 0.0, 0.0, 0.0, 0.0, 1.0, 0.0, 1.0, 0.0, 0.0, 0.0, 0.0, 1.0, 0.0, 0.0, 0.0, 0.0, 0.0, 0.0, 0.0, 0.0, 0.0, 0.0, 0.0, 0.0, 0.0, 0.0, 0.0, 0.0, 0.0, 0.0, 0.0, 0.0, 0.0, 0.0, 0.0, 0.0, 1.0, 0.0, 0.0, 0.0, 0.0, 0.0, 0.0, 0.0, 0.0, 0.0, 0.0, 0.0, 0.0, 0.0, 1.0, 0.0, 0.0, 0.0, 0.0, 0.0, 0.0, 0.0, 1.0, 0.0, 0.0, 0.0, 0.0, 0.0, 0.0, 1.0, 0.0, 0.0, 0.0, 0.0, 0.0, 1.0, 0.0, 0.0, 0.0, 0.0, 0.0]]\n",
      "Raw predictions from endpoint (probabilities):\n",
      "[['0.20803995430469513', '0.2013607621192932', '0.3283868432044983', '0.11594662070274353', '0.08941953629255295']]\n",
      "Function input is a list!\n",
      "list length:  1\n",
      "number of list items to investigate:  3\n",
      "[<class 'list'>]\n",
      "\n",
      "Function input is a list!\n",
      "list length:  5\n",
      "number of list items to investigate:  3\n",
      "[<class 'str'>, <class 'str'>, <class 'str'>]\n",
      "\n",
      "Function input is a list!\n",
      "list length:  5\n",
      "number of list items to investigate:  3\n",
      "[<class 'float'>, <class 'float'>, <class 'float'>]\n",
      "\n",
      "Predicted classes (threshold 0.5):\n",
      "[0, 0, 0, 0, 0]\n",
      "Actual classes for sample:\n",
      "[0.0, 0.0, 0.0, 0.0, 1.0]\n",
      "Function input is a list!\n",
      "list length:  1600\n",
      "number of list items to investigate:  3\n",
      "[<class 'str'>, <class 'str'>, <class 'str'>]\n",
      "\n",
      "Function input is a list!\n",
      "list length:  1600\n",
      "number of list items to investigate:  3\n",
      "[<class 'float'>, <class 'float'>, <class 'float'>]\n",
      "\n",
      "\n",
      "Accuracy on test set: 0.8063\n",
      "\n",
      "Classification Report on test set:\n",
      "              precision    recall  f1-score   support\n",
      "\n",
      "         0.0       0.82      0.94      0.88      1193\n",
      "         1.0       0.71      0.40      0.51       407\n",
      "\n",
      "    accuracy                           0.81      1600\n",
      "   macro avg       0.77      0.67      0.70      1600\n",
      "weighted avg       0.79      0.81      0.79      1600\n",
      "\n",
      "Run time: 0.01 minutes\n"
     ]
    }
   ],
   "source": [
    "start = time.time()\n",
    "\n",
    "# 6. Make predictions with the deployed model\n",
    "# Prepare a small sample from the test set for prediction\n",
    "X_val = validate.drop('target', axis=1)\n",
    "y_val = validate['target']\n",
    "\n",
    "### SAMPLE PREDICTIONS\n",
    "# SageMaker expects CSV input for built-in algorithms\n",
    "# We will send a few rows for demonstration\n",
    "sample_for_prediction = X_val.head(5).values.tolist()\n",
    "\n",
    "print(f\"\\nMaking predictions on sample data:\")\n",
    "print(f\"Sample input features:\\n{sample_for_prediction}\")\n",
    "\n",
    "predictions = predictor.predict(sample_for_prediction)\n",
    "print(f\"Raw predictions from endpoint (probabilities):\\n{predictions}\")\n",
    "\n",
    "###Check structure and datatype of predictions\n",
    "def item_types_of_list(list_input, num_of_items):\n",
    "    if isinstance(list_input, list):\n",
    "        print('Function input is a list!')\n",
    "        list_of_types = []\n",
    "        for items in list_input:\n",
    "           list_of_types.append(type(items))\n",
    "        print('list length: ', len(list_input))\n",
    "        print('number of list items to investigate: ', num_of_items)\n",
    "        print(list_of_types[0:num_of_items])\n",
    "        print()\n",
    "    else:\n",
    "        print('Function input is NOT a list!')\n",
    "    return list_of_types\n",
    "\n",
    "item_types_of_list(predictions, 3)\n",
    "item_types_of_list(predictions[0], 3)\n",
    "\n",
    "predictions_fixed = [float(s) for s in predictions[0]]\n",
    "item_types_of_list(predictions_fixed, 3)\n",
    "\n",
    "\n",
    "# Convert probabilities to binary class labels (0 or 1)\n",
    "##predicted_classes = [1 if p > 0.5 else 0 for p in predictions]\n",
    "predicted_classes = [1 if p > 0.5 else 0 for p in predictions_fixed]\n",
    "print(f\"Predicted classes (threshold 0.5):\\n{predicted_classes}\")\n",
    "print(f\"Actual classes for sample:\\n{y_val.head(5).tolist()}\")\n",
    "\n",
    "\n",
    "### FULL PREDICTIONS\n",
    "# Evaluate the model on the full test set (optional, but good practice)\n",
    "# For larger datasets, batch transform is recommended\n",
    "# For this small dataset, we can send it piece by piece or if small enough, all at once\n",
    "all_predictions = predictor.predict(X_val.values.tolist())\n",
    "\n",
    "item_types_of_list(all_predictions[0], 3)\n",
    "all_predictions_fixed = [float(s) for s in all_predictions[0]]\n",
    "item_types_of_list(all_predictions_fixed, 3)\n",
    "\n",
    "##all_predicted_classes = [1 if p > 0.5 else 0 for p in all_predictions]\n",
    "all_predicted_classes = [1 if p > 0.5 else 0 for p in all_predictions_fixed]\n",
    "\n",
    "\n",
    "### Evaluation Metrics\n",
    "print(f\"\\nAccuracy on test set: {accuracy_score(y_val, all_predicted_classes):.4f}\")\n",
    "print(\"\\nClassification Report on test set:\")\n",
    "print(classification_report(y_val, all_predicted_classes))\n",
    "\n",
    "print(f'Run time: {round((time.time() - start)/60,2)} minutes')\n"
   ]
  },
  {
   "cell_type": "code",
   "execution_count": 109,
   "metadata": {},
   "outputs": [
    {
     "name": "stdout",
     "output_type": "stream",
     "text": [
      "<class 'pandas.core.series.Series'>\n",
      "<class 'pandas.core.series.Series'>\n"
     ]
    }
   ],
   "source": [
    "test_labels = y_val\n",
    "target_predicted = all_predicted_classes\n",
    "target_predicted_series = pd.Series(target_predicted)\n",
    "\n",
    "print(type(test_labels))\n",
    "print(type(target_predicted_series))"
   ]
  },
  {
   "cell_type": "markdown",
   "metadata": {},
   "source": [
    "Plot a confusion matrix for your `target_predicted` and `test_labels`."
   ]
  },
  {
   "cell_type": "markdown",
   "metadata": {},
   "source": [
    "## 4-2-5 Plot Confusion Matrix and ROC graph"
   ]
  },
  {
   "cell_type": "markdown",
   "metadata": {},
   "source": [
    "To plot the confusion matrix, call the `plot_confusion_matrix` function on the `test_labels` and the `target_predicted` data from your batch job:"
   ]
  },
  {
   "cell_type": "code",
   "execution_count": 114,
   "metadata": {},
   "outputs": [
    {
     "data": {
      "image/png": "[encoded data removed]",
      "text/plain": [
       "<Figure size 640x480 with 1 Axes>"
      ]
     },
     "metadata": {},
     "output_type": "display_data"
    }
   ],
   "source": [
    "# Plot Confustion Matrix\n",
    "plot_confusion_matrix(test_labels, target_predicted_series)\n",
    "plt.show()"
   ]
  },
  {
   "cell_type": "code",
   "execution_count": 116,
   "metadata": {},
   "outputs": [
    {
     "data": {
      "image/png": "[encoded data removed]",
      "text/plain": [
       "<Figure size 640x480 with 1 Axes>"
      ]
     },
     "metadata": {},
     "output_type": "display_data"
    }
   ],
   "source": [
    "plot_confusion_matrix_transpose(test_labels, target_predicted_series)\n",
    "plt.show()"
   ]
  },
  {
   "cell_type": "markdown",
   "metadata": {},
   "source": [
    "### ROC Graph"
   ]
  },
  {
   "cell_type": "code",
   "execution_count": 118,
   "metadata": {},
   "outputs": [
    {
     "name": "stdout",
     "output_type": "stream",
     "text": [
      "Sensitivity or TPR:  40.04914004914005 %\n",
      "Specificity or TNR:  94.46772841575859 %\n",
      "Precision:  71.17903930131004 %\n",
      "Negative Predictive Value:  82.20277169948942 %\n",
      "False Positive Rate:  5.532271584241409 %\n",
      "False Negative Rate:  59.95085995085995 %\n",
      "False Discovery Rate:  28.82096069868996 %\n",
      "Accuracy:  80.625 %\n",
      "f1_score:  0.5125786163522013\n",
      "Validation AUC 0.6725843423244932\n",
      "Figure(640x480)\n"
     ]
    },
    {
     "data": {
      "image/png": "[encoded data removed]",
      "text/plain": [
       "<Figure size 640x480 with 2 Axes>"
      ]
     },
     "metadata": {},
     "output_type": "display_data"
    },
    {
     "data": {
      "text/plain": [
       "<Figure size 640x480 with 0 Axes>"
      ]
     },
     "metadata": {},
     "output_type": "display_data"
    }
   ],
   "source": [
    "# \n",
    "plot_roc(test_labels, target_predicted_series)"
   ]
  },
  {
   "cell_type": "markdown",
   "metadata": {},
   "source": [
    "### Try different thresholds"
   ]
  },
  {
   "cell_type": "markdown",
   "metadata": {},
   "source": [
    "### Hyperparameter optimization (HPO)"
   ]
  },
  {
   "cell_type": "code",
   "execution_count": 31,
   "metadata": {},
   "outputs": [
    {
     "name": "stderr",
     "output_type": "stream",
     "text": [
      "INFO:sagemaker.image_uris:Ignoring unnecessary instance type: None.\n"
     ]
    }
   ],
   "source": [
    "from sagemaker.tuner import IntegerParameter, CategoricalParameter, ContinuousParameter, HyperparameterTuner\n",
    "\n",
    "### You can spin up multiple instances to do hyperparameter optimization in parallel\n",
    "\n",
    "container = sagemaker.image_uris.retrieve(\"xgboost\", sagemaker_session.boto_region_name, \"latest\")\n",
    "sess = sagemaker_session\n",
    "instance_type='ml.m4.xlarge'\n",
    "\n",
    "xgb = sagemaker.estimator.Estimator(container,\n",
    "                                    role=sagemaker.get_execution_role(), \n",
    "                                    instance_count= 1, # make sure you have a limit set for these instances\n",
    "                                    instance_type=instance_type, \n",
    "                                    output_path='s3://{}/{}/output'.format(bucket, prefix),\n",
    "                                    sagemaker_session=sess)\n",
    "\n",
    "xgb.set_hyperparameters(eval_metric='auc',\n",
    "                        objective='binary:logistic',\n",
    "                        num_round=100,\n",
    "                        rate_drop=0.3,\n",
    "                        tweedie_variance_power=1.4)\n",
    "\n",
    "hyperparameter_ranges = {'alpha': ContinuousParameter(0, 1000, scaling_type='Linear'),\n",
    "                         'eta': ContinuousParameter(0.1, 0.5, scaling_type='Linear'),\n",
    "                         'min_child_weight': ContinuousParameter(3, 10, scaling_type='Linear'),\n",
    "                         'subsample': ContinuousParameter(0.5, 1),\n",
    "                         'num_round': IntegerParameter(10,150)}\n",
    "\n",
    "objective_metric_name = 'validation:auc'\n",
    "\n",
    "tuner = HyperparameterTuner(xgb,\n",
    "                            objective_metric_name,\n",
    "                            hyperparameter_ranges,\n",
    "                            max_jobs=10, # Set this to 10 or above depending upon budget and available time.\n",
    "                            max_parallel_jobs=1)"
   ]
  },
  {
   "cell_type": "code",
   "execution_count": 32,
   "metadata": {},
   "outputs": [
    {
     "data": {
      "text/html": [
       "<pre style=\"white-space:pre;overflow-x:auto;line-height:normal;font-family:Menlo,'DejaVu Sans Mono',consolas,'Courier New',monospace\"><span style=\"color: #ff0000; text-decoration-color: #ff0000\">╭─────────────────────────────── </span><span style=\"color: #ff0000; text-decoration-color: #ff0000; font-weight: bold\">Traceback </span><span style=\"color: #ff7f7f; text-decoration-color: #ff7f7f; font-weight: bold\">(most recent call last)</span><span style=\"color: #ff0000; text-decoration-color: #ff0000\"> ────────────────────────────────╮</span>\n",
       "<span style=\"color: #ff0000; text-decoration-color: #ff0000\">│</span> in &lt;module&gt;:1                                                                                    <span style=\"color: #ff0000; text-decoration-color: #ff0000\">│</span>\n",
       "<span style=\"color: #ff0000; text-decoration-color: #ff0000\">│</span>                                                                                                  <span style=\"color: #ff0000; text-decoration-color: #ff0000\">│</span>\n",
       "<span style=\"color: #ff0000; text-decoration-color: #ff0000\">│</span> <span style=\"color: #800000; text-decoration-color: #800000\">❱ </span>1 tuner.fit(inputs=data_channels)                                                              <span style=\"color: #ff0000; text-decoration-color: #ff0000\">│</span>\n",
       "<span style=\"color: #ff0000; text-decoration-color: #ff0000\">│</span>   <span style=\"color: #7f7f7f; text-decoration-color: #7f7f7f\">2 </span>tuner.wait()                                                                                 <span style=\"color: #ff0000; text-decoration-color: #ff0000\">│</span>\n",
       "<span style=\"color: #ff0000; text-decoration-color: #ff0000\">│</span>   <span style=\"color: #7f7f7f; text-decoration-color: #7f7f7f\">3 </span>                                                                                             <span style=\"color: #ff0000; text-decoration-color: #ff0000\">│</span>\n",
       "<span style=\"color: #ff0000; text-decoration-color: #ff0000\">╰──────────────────────────────────────────────────────────────────────────────────────────────────╯</span>\n",
       "<span style=\"color: #ff0000; text-decoration-color: #ff0000; font-weight: bold\">NameError: </span>name <span style=\"color: #008700; text-decoration-color: #008700\">'data_channels'</span> is not defined\n",
       "</pre>\n"
      ],
      "text/plain": [
       "\u001b[38;2;255;0;0m╭─\u001b[0m\u001b[38;2;255;0;0m──────────────────────────────\u001b[0m\u001b[38;2;255;0;0m \u001b[0m\u001b[1;38;2;255;0;0mTraceback \u001b[0m\u001b[1;2;38;2;255;0;0m(most recent call last)\u001b[0m\u001b[38;2;255;0;0m \u001b[0m\u001b[38;2;255;0;0m───────────────────────────────\u001b[0m\u001b[38;2;255;0;0m─╮\u001b[0m\n",
       "\u001b[38;2;255;0;0m│\u001b[0m in <module>:1                                                                                    \u001b[38;2;255;0;0m│\u001b[0m\n",
       "\u001b[38;2;255;0;0m│\u001b[0m                                                                                                  \u001b[38;2;255;0;0m│\u001b[0m\n",
       "\u001b[38;2;255;0;0m│\u001b[0m \u001b[31m❱ \u001b[0m1 tuner.fit(inputs=data_channels)                                                              \u001b[38;2;255;0;0m│\u001b[0m\n",
       "\u001b[38;2;255;0;0m│\u001b[0m   \u001b[2m2 \u001b[0mtuner.wait()                                                                                 \u001b[38;2;255;0;0m│\u001b[0m\n",
       "\u001b[38;2;255;0;0m│\u001b[0m   \u001b[2m3 \u001b[0m                                                                                             \u001b[38;2;255;0;0m│\u001b[0m\n",
       "\u001b[38;2;255;0;0m╰──────────────────────────────────────────────────────────────────────────────────────────────────╯\u001b[0m\n",
       "\u001b[1;91mNameError: \u001b[0mname \u001b[38;2;0;135;0m'data_channels'\u001b[0m is not defined\n"
      ]
     },
     "metadata": {},
     "output_type": "display_data"
    }
   ],
   "source": [
    "tuner.fit(inputs=data_channels)\n",
    "tuner.wait()"
   ]
  },
  {
   "cell_type": "markdown",
   "metadata": {},
   "source": [
    "<i class=\"fas fa-exclamation-triangle\" style=\"color:red\"></i> Wait until the training job is finished. It might take 25-30 minutes.\n",
    "\n",
    "**To monitor hyperparameter optimization jobs:**  \n",
    "\n",
    "1. In the AWS Management Console, on the **Services** menu, choose **Amazon SageMaker**.  \n",
    "2. Choose **Training > Hyperparameter tuning jobs**.\n",
    "3. You can check the status of each hyperparameter tuning job, its objective metric value, and its logs.  "
   ]
  },
  {
   "cell_type": "markdown",
   "metadata": {},
   "source": [
    "Check that the job completed successfully."
   ]
  },
  {
   "cell_type": "code",
   "execution_count": null,
   "metadata": {},
   "outputs": [],
   "source": [
    "boto3.client('sagemaker').describe_hyper_parameter_tuning_job(\n",
    "    HyperParameterTuningJobName=tuner.latest_tuning_job.job_name)['HyperParameterTuningJobStatus']"
   ]
  },
  {
   "cell_type": "markdown",
   "metadata": {},
   "source": [
    "The hyperparameter tuning job will have a model that worked the best. You can get the information about that model from the tuning job."
   ]
  },
  {
   "cell_type": "code",
   "execution_count": null,
   "metadata": {},
   "outputs": [],
   "source": [
    "sage_client = boto3.Session().client('sagemaker')\n",
    "tuning_job_name = tuner.latest_tuning_job.job_name\n",
    "print(f'tuning job name:{tuning_job_name}')\n",
    "tuning_job_result = sage_client.describe_hyper_parameter_tuning_job(HyperParameterTuningJobName=tuning_job_name)\n",
    "best_training_job = tuning_job_result['BestTrainingJob']\n",
    "best_training_job_name = best_training_job['TrainingJobName']\n",
    "print(f\"best training job: {best_training_job_name}\")\n",
    "\n",
    "best_estimator = tuner.best_estimator()\n",
    "\n",
    "tuner_df = sagemaker.HyperparameterTuningJobAnalytics(tuning_job_name).dataframe()\n",
    "tuner_df.head()"
   ]
  },
  {
   "cell_type": "markdown",
   "metadata": {},
   "source": [
    "Use the estimator `best_estimator` and train it by using the data. \n",
    "\n",
    "**Tip:** See the previous XGBoost estimator fit function."
   ]
  },
  {
   "cell_type": "markdown",
   "metadata": {},
   "source": [
    "Use the batch transformer for your new model, and evaluate the model on the test dataset."
   ]
  },
  {
   "cell_type": "code",
   "execution_count": null,
   "metadata": {},
   "outputs": [],
   "source": [
    "batch_output = \"s3://{}/{}/batch-out/\".format(bucket,prefix)\n",
    "batch_input = \"s3://{}/{}/batch-in/{}\".format(bucket,prefix,batch_X_file)\n",
    "\n",
    "xgb_transformer = best_estimator.transformer(instance_count=1,\n",
    "                                       instance_type=instance_type,\n",
    "                                       strategy='MultiRecord',\n",
    "                                       assemble_with='Line',\n",
    "                                       output_path=batch_output)\n",
    "\n",
    "xgb_transformer.transform(data=batch_input,\n",
    "                         data_type='S3Prefix',\n",
    "                         content_type='text/csv',\n",
    "                         split_type='Line')\n",
    "xgb_transformer.wait()"
   ]
  },
  {
   "cell_type": "code",
   "execution_count": null,
   "metadata": {},
   "outputs": [],
   "source": [
    "s3 = boto3.client('s3')\n",
    "obj = s3.get_object(Bucket=bucket, Key=\"{}/batch-out/{}\".format(prefix,'batch-in.csv.out'))\n",
    "target_predicted = pd.read_csv(io.BytesIO(obj['Body'].read()),',',names=['target'])\n",
    "test_labels = test.iloc[:,0]"
   ]
  },
  {
   "cell_type": "markdown",
   "metadata": {},
   "source": [
    "Get the predicted target and test labels."
   ]
  },
  {
   "cell_type": "code",
   "execution_count": null,
   "metadata": {},
   "outputs": [],
   "source": [
    "print(target_predicted.head())\n",
    "\n",
    "def binary_convert(x):\n",
    "    threshold = 0.55\n",
    "    if x > threshold:\n",
    "        return 1\n",
    "    else:\n",
    "        return 0\n",
    "\n",
    "target_predicted['target'] = target_predicted['target'].apply(binary_convert)\n",
    "\n",
    "test_labels = test.iloc[:,0]\n",
    "\n",
    "print(target_predicted.head())"
   ]
  },
  {
   "cell_type": "markdown",
   "metadata": {},
   "source": [
    "Plot a confusion matrix for your `target_predicted` and `test_labels`."
   ]
  },
  {
   "cell_type": "code",
   "execution_count": null,
   "metadata": {},
   "outputs": [],
   "source": [
    "#plot_confusion_matrix_transpose(test_labels, target_predicted)\n",
    "#plt.show()"
   ]
  },
  {
   "cell_type": "markdown",
   "metadata": {},
   "source": [
    "Plot the ROC chart:"
   ]
  },
  {
   "cell_type": "code",
   "execution_count": null,
   "metadata": {},
   "outputs": [],
   "source": [
    "#plot_roc(test_labels, target_predicted_series)"
   ]
  },
  {
   "cell_type": "markdown",
   "metadata": {
    "tags": []
   },
   "source": [
    "## Model Performance Against Business Goal:\n",
    "\n",
    "While the final model exhibited improved precision, recall, and area under the curve (AUC), it may not entirely meet the business objective of accurately predicting flight delays for customer notifications. There is still room to enhance recall to ensure that more true positives are captured (i.e., actual delays).\n",
    "\n",
    "### Challenges Faced:\n",
    "\n",
    "Complexity of Datasets: Handling large datasets with several features presented challenges in maintaining data integrity. Integrating weather data with flight performance was initially cumbersome, requiring careful merging and imputation for misshaped data.\n",
    "Hyperparameter Tuning Pitfalls: Designing the tuning process for hyperparameters can be tricky as optimizing one aspect can inadvertently detract from another, requiring careful monitoring and adjustment.\n",
    "Unanswered Questions:\n",
    "\n",
    "The impact of unobserved variables, such as air traffic congestion or airport operational efficiency, on delays remains critical. Assessing how these factors can be quantified and incorporated into predictive modeling is of interest.\n",
    "Understanding the trade-offs between false positives and false negatives in the context of customer satisfaction: a false positive (indicating a delay when there isn't one) could frustrate customers.\n",
    "Three Key Learnings about Machine Learning:\n",
    "\n",
    "Feature Engineering is Crucial: The role of thoughtful feature selection and engineering cannot be understated; they directly influence model performance.\n",
    "Model Complexity vs. Interpretability: More complex models (like ensemble models) may offer greater performance but at the cost of interpretability.\n",
    "Data Quality Over Quantity: Quality, clean data, with well-constructed features, often leads to better outcomes than simply relying on larger datasets without careful curation.\n",
    "This project presents valuable lessons applicable to future endeavors in flight prediction systems or similar data-driven domains, enhancing customer experiences through proactive communication strategies."
   ]
  }
 ],
 "metadata": {
  "kernelspec": {
   "display_name": "Python 3 (ipykernel)",
   "language": "python",
   "name": "python3"
  },
  "language_info": {
   "codemirror_mode": {
    "name": "ipython",
    "version": 3
   },
   "file_extension": ".py",
   "mimetype": "text/x-python",
   "name": "python",
   "nbconvert_exporter": "python",
   "pygments_lexer": "ipython3",
   "version": "3.9.19"
  }
 },
 "nbformat": 4,
 "nbformat_minor": 4
}
